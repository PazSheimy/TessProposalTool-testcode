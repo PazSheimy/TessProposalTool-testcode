{
  "nbformat": 4,
  "nbformat_minor": 0,
  "metadata": {
    "colab": {
      "provenance": [],
      "authorship_tag": "ABX9TyNoqmkj2sCd94OG0pZL45sJ",
      "include_colab_link": true
    },
    "kernelspec": {
      "name": "python3",
      "display_name": "Python 3"
    },
    "language_info": {
      "name": "python"
    }
  },
  "cells": [
    {
      "cell_type": "markdown",
      "metadata": {
        "id": "view-in-github",
        "colab_type": "text"
      },
      "source": [
        "<a href=\"https://colab.research.google.com/github/PazSheimy/TessProposalTool-testcode/blob/main/astroqueriesfortpttessinplementation.ipynb\" target=\"_parent\"><img src=\"https://colab.research.google.com/assets/colab-badge.svg\" alt=\"Open In Colab\"/></a>"
      ]
    },
    {
      "cell_type": "code",
      "source": [
        "#consult the TESS data archive to look for observations of specific target. \n",
        "#The TESS data is public and available through the Mikulski Archive for Space Telescopes (MAST) website.\n",
        "# we need to install astroquery to access to MAST\n",
        "#pip install astroquery"
      ],
      "metadata": {
        "id": "yZdvzscZ7PYa"
      },
      "execution_count": 1,
      "outputs": []
    },
    {
      "cell_type": "code",
      "source": [
        "pip install astroquery"
      ],
      "metadata": {
        "colab": {
          "base_uri": "https://localhost:8080/"
        },
        "id": "YupOn9P1DahZ",
        "outputId": "5769ddf6-e23f-46b1-aa29-2d69c6d5ffab"
      },
      "execution_count": 2,
      "outputs": [
        {
          "output_type": "stream",
          "name": "stdout",
          "text": [
            "Looking in indexes: https://pypi.org/simple, https://us-python.pkg.dev/colab-wheels/public/simple/\n",
            "Collecting astroquery\n",
            "  Downloading astroquery-0.4.6-py3-none-any.whl (4.5 MB)\n",
            "\u001b[2K     \u001b[90m━━━━━━━━━━━━━━━━━━━━━━━━━━━━━━━━━━━━━━━━\u001b[0m \u001b[32m4.5/4.5 MB\u001b[0m \u001b[31m38.3 MB/s\u001b[0m eta \u001b[36m0:00:00\u001b[0m\n",
            "\u001b[?25hCollecting pyvo>=1.1\n",
            "  Downloading pyvo-1.4-py3-none-any.whl (885 kB)\n",
            "\u001b[2K     \u001b[90m━━━━━━━━━━━━━━━━━━━━━━━━━━━━━━━━━━━━━━\u001b[0m \u001b[32m885.7/885.7 KB\u001b[0m \u001b[31m44.2 MB/s\u001b[0m eta \u001b[36m0:00:00\u001b[0m\n",
            "\u001b[?25hRequirement already satisfied: requests>=2.4.3 in /usr/local/lib/python3.8/dist-packages (from astroquery) (2.25.1)\n",
            "Requirement already satisfied: numpy>=1.16 in /usr/local/lib/python3.8/dist-packages (from astroquery) (1.21.6)\n",
            "Collecting keyring>=4.0\n",
            "  Downloading keyring-23.13.1-py3-none-any.whl (37 kB)\n",
            "Requirement already satisfied: astropy>=4.0 in /usr/local/lib/python3.8/dist-packages (from astroquery) (4.3.1)\n",
            "Requirement already satisfied: html5lib>=0.999 in /usr/local/lib/python3.8/dist-packages (from astroquery) (1.0.1)\n",
            "Requirement already satisfied: beautifulsoup4>=4.3.2 in /usr/local/lib/python3.8/dist-packages (from astroquery) (4.6.3)\n",
            "Requirement already satisfied: pyerfa>=1.7.3 in /usr/local/lib/python3.8/dist-packages (from astropy>=4.0->astroquery) (2.0.0.1)\n",
            "Requirement already satisfied: six>=1.9 in /usr/local/lib/python3.8/dist-packages (from html5lib>=0.999->astroquery) (1.15.0)\n",
            "Requirement already satisfied: webencodings in /usr/local/lib/python3.8/dist-packages (from html5lib>=0.999->astroquery) (0.5.1)\n",
            "Requirement already satisfied: importlib-metadata>=4.11.4 in /usr/local/lib/python3.8/dist-packages (from keyring>=4.0->astroquery) (6.0.0)\n",
            "Collecting jeepney>=0.4.2\n",
            "  Downloading jeepney-0.8.0-py3-none-any.whl (48 kB)\n",
            "\u001b[2K     \u001b[90m━━━━━━━━━━━━━━━━━━━━━━━━━━━━━━━━━━━━━━━━\u001b[0m \u001b[32m48.4/48.4 KB\u001b[0m \u001b[31m4.4 MB/s\u001b[0m eta \u001b[36m0:00:00\u001b[0m\n",
            "\u001b[?25hRequirement already satisfied: importlib-resources in /usr/local/lib/python3.8/dist-packages (from keyring>=4.0->astroquery) (5.10.2)\n",
            "Collecting SecretStorage>=3.2\n",
            "  Downloading SecretStorage-3.3.3-py3-none-any.whl (15 kB)\n",
            "Collecting jaraco.classes\n",
            "  Downloading jaraco.classes-3.2.3-py3-none-any.whl (6.0 kB)\n",
            "Requirement already satisfied: urllib3<1.27,>=1.21.1 in /usr/local/lib/python3.8/dist-packages (from requests>=2.4.3->astroquery) (1.24.3)\n",
            "Requirement already satisfied: chardet<5,>=3.0.2 in /usr/local/lib/python3.8/dist-packages (from requests>=2.4.3->astroquery) (4.0.0)\n",
            "Requirement already satisfied: certifi>=2017.4.17 in /usr/local/lib/python3.8/dist-packages (from requests>=2.4.3->astroquery) (2022.12.7)\n",
            "Requirement already satisfied: idna<3,>=2.5 in /usr/local/lib/python3.8/dist-packages (from requests>=2.4.3->astroquery) (2.10)\n",
            "Requirement already satisfied: zipp>=0.5 in /usr/local/lib/python3.8/dist-packages (from importlib-metadata>=4.11.4->keyring>=4.0->astroquery) (3.11.0)\n",
            "Collecting cryptography>=2.0\n",
            "  Downloading cryptography-39.0.0-cp36-abi3-manylinux_2_24_x86_64.whl (4.1 MB)\n",
            "\u001b[2K     \u001b[90m━━━━━━━━━━━━━━━━━━━━━━━━━━━━━━━━━━━━━━━━\u001b[0m \u001b[32m4.1/4.1 MB\u001b[0m \u001b[31m50.0 MB/s\u001b[0m eta \u001b[36m0:00:00\u001b[0m\n",
            "\u001b[?25hRequirement already satisfied: more-itertools in /usr/local/lib/python3.8/dist-packages (from jaraco.classes->keyring>=4.0->astroquery) (9.0.0)\n",
            "Requirement already satisfied: cffi>=1.12 in /usr/local/lib/python3.8/dist-packages (from cryptography>=2.0->SecretStorage>=3.2->keyring>=4.0->astroquery) (1.15.1)\n",
            "Requirement already satisfied: pycparser in /usr/local/lib/python3.8/dist-packages (from cffi>=1.12->cryptography>=2.0->SecretStorage>=3.2->keyring>=4.0->astroquery) (2.21)\n",
            "Installing collected packages: jeepney, jaraco.classes, cryptography, SecretStorage, pyvo, keyring, astroquery\n",
            "Successfully installed SecretStorage-3.3.3 astroquery-0.4.6 cryptography-39.0.0 jaraco.classes-3.2.3 jeepney-0.8.0 keyring-23.13.1 pyvo-1.4\n"
          ]
        }
      ]
    },
    {
      "cell_type": "code",
      "source": [
        "pip install ipyaladin"
      ],
      "metadata": {
        "colab": {
          "base_uri": "https://localhost:8080/"
        },
        "id": "t1wTyoI8FJBL",
        "outputId": "409bc58f-5580-498e-ea1f-11369c6b6bbe"
      },
      "execution_count": 3,
      "outputs": [
        {
          "output_type": "stream",
          "name": "stdout",
          "text": [
            "Looking in indexes: https://pypi.org/simple, https://us-python.pkg.dev/colab-wheels/public/simple/\n",
            "Collecting ipyaladin\n",
            "  Downloading ipyaladin-0.2.1-py3-none-any.whl (63 kB)\n",
            "\u001b[2K     \u001b[90m━━━━━━━━━━━━━━━━━━━━━━━━━━━━━━━━━━━━━━━━\u001b[0m \u001b[32m63.1/63.1 KB\u001b[0m \u001b[31m2.9 MB/s\u001b[0m eta \u001b[36m0:00:00\u001b[0m\n",
            "\u001b[?25hRequirement already satisfied: ipywidgets<9,>=7.6.0 in /usr/local/lib/python3.8/dist-packages (from ipyaladin) (7.7.1)\n",
            "Requirement already satisfied: ipykernel>=4.5.1 in /usr/local/lib/python3.8/dist-packages (from ipywidgets<9,>=7.6.0->ipyaladin) (5.3.4)\n",
            "Requirement already satisfied: widgetsnbextension~=3.6.0 in /usr/local/lib/python3.8/dist-packages (from ipywidgets<9,>=7.6.0->ipyaladin) (3.6.1)\n",
            "Requirement already satisfied: ipython>=4.0.0 in /usr/local/lib/python3.8/dist-packages (from ipywidgets<9,>=7.6.0->ipyaladin) (7.9.0)\n",
            "Requirement already satisfied: jupyterlab-widgets>=1.0.0 in /usr/local/lib/python3.8/dist-packages (from ipywidgets<9,>=7.6.0->ipyaladin) (3.0.5)\n",
            "Requirement already satisfied: traitlets>=4.3.1 in /usr/local/lib/python3.8/dist-packages (from ipywidgets<9,>=7.6.0->ipyaladin) (5.7.1)\n",
            "Requirement already satisfied: ipython-genutils~=0.2.0 in /usr/local/lib/python3.8/dist-packages (from ipywidgets<9,>=7.6.0->ipyaladin) (0.2.0)\n",
            "Requirement already satisfied: tornado>=4.2 in /usr/local/lib/python3.8/dist-packages (from ipykernel>=4.5.1->ipywidgets<9,>=7.6.0->ipyaladin) (6.0.4)\n",
            "Requirement already satisfied: jupyter-client in /usr/local/lib/python3.8/dist-packages (from ipykernel>=4.5.1->ipywidgets<9,>=7.6.0->ipyaladin) (6.1.12)\n",
            "Requirement already satisfied: pygments in /usr/local/lib/python3.8/dist-packages (from ipython>=4.0.0->ipywidgets<9,>=7.6.0->ipyaladin) (2.6.1)\n",
            "Requirement already satisfied: pickleshare in /usr/local/lib/python3.8/dist-packages (from ipython>=4.0.0->ipywidgets<9,>=7.6.0->ipyaladin) (0.7.5)\n",
            "Requirement already satisfied: setuptools>=18.5 in /usr/local/lib/python3.8/dist-packages (from ipython>=4.0.0->ipywidgets<9,>=7.6.0->ipyaladin) (57.4.0)\n",
            "Requirement already satisfied: pexpect in /usr/local/lib/python3.8/dist-packages (from ipython>=4.0.0->ipywidgets<9,>=7.6.0->ipyaladin) (4.8.0)\n",
            "Collecting jedi>=0.10\n",
            "  Downloading jedi-0.18.2-py2.py3-none-any.whl (1.6 MB)\n",
            "\u001b[2K     \u001b[90m━━━━━━━━━━━━━━━━━━━━━━━━━━━━━━━━━━━━━━━━\u001b[0m \u001b[32m1.6/1.6 MB\u001b[0m \u001b[31m11.5 MB/s\u001b[0m eta \u001b[36m0:00:00\u001b[0m\n",
            "\u001b[?25hRequirement already satisfied: prompt-toolkit<2.1.0,>=2.0.0 in /usr/local/lib/python3.8/dist-packages (from ipython>=4.0.0->ipywidgets<9,>=7.6.0->ipyaladin) (2.0.10)\n",
            "Requirement already satisfied: decorator in /usr/local/lib/python3.8/dist-packages (from ipython>=4.0.0->ipywidgets<9,>=7.6.0->ipyaladin) (4.4.2)\n",
            "Requirement already satisfied: backcall in /usr/local/lib/python3.8/dist-packages (from ipython>=4.0.0->ipywidgets<9,>=7.6.0->ipyaladin) (0.2.0)\n",
            "Requirement already satisfied: notebook>=4.4.1 in /usr/local/lib/python3.8/dist-packages (from widgetsnbextension~=3.6.0->ipywidgets<9,>=7.6.0->ipyaladin) (5.7.16)\n",
            "Requirement already satisfied: parso<0.9.0,>=0.8.0 in /usr/local/lib/python3.8/dist-packages (from jedi>=0.10->ipython>=4.0.0->ipywidgets<9,>=7.6.0->ipyaladin) (0.8.3)\n",
            "Requirement already satisfied: nbconvert<6.0 in /usr/local/lib/python3.8/dist-packages (from notebook>=4.4.1->widgetsnbextension~=3.6.0->ipywidgets<9,>=7.6.0->ipyaladin) (5.6.1)\n",
            "Requirement already satisfied: jupyter-core>=4.4.0 in /usr/local/lib/python3.8/dist-packages (from notebook>=4.4.1->widgetsnbextension~=3.6.0->ipywidgets<9,>=7.6.0->ipyaladin) (5.1.2)\n",
            "Requirement already satisfied: prometheus-client in /usr/local/lib/python3.8/dist-packages (from notebook>=4.4.1->widgetsnbextension~=3.6.0->ipywidgets<9,>=7.6.0->ipyaladin) (0.15.0)\n",
            "Requirement already satisfied: terminado>=0.8.1 in /usr/local/lib/python3.8/dist-packages (from notebook>=4.4.1->widgetsnbextension~=3.6.0->ipywidgets<9,>=7.6.0->ipyaladin) (0.13.3)\n",
            "Requirement already satisfied: nbformat in /usr/local/lib/python3.8/dist-packages (from notebook>=4.4.1->widgetsnbextension~=3.6.0->ipywidgets<9,>=7.6.0->ipyaladin) (5.7.1)\n",
            "Requirement already satisfied: Send2Trash in /usr/local/lib/python3.8/dist-packages (from notebook>=4.4.1->widgetsnbextension~=3.6.0->ipywidgets<9,>=7.6.0->ipyaladin) (1.8.0)\n",
            "Requirement already satisfied: jinja2<=3.0.0 in /usr/local/lib/python3.8/dist-packages (from notebook>=4.4.1->widgetsnbextension~=3.6.0->ipywidgets<9,>=7.6.0->ipyaladin) (2.11.3)\n",
            "Requirement already satisfied: pyzmq>=17 in /usr/local/lib/python3.8/dist-packages (from notebook>=4.4.1->widgetsnbextension~=3.6.0->ipywidgets<9,>=7.6.0->ipyaladin) (23.2.1)\n",
            "Requirement already satisfied: python-dateutil>=2.1 in /usr/local/lib/python3.8/dist-packages (from jupyter-client->ipykernel>=4.5.1->ipywidgets<9,>=7.6.0->ipyaladin) (2.8.2)\n",
            "Requirement already satisfied: six>=1.9.0 in /usr/local/lib/python3.8/dist-packages (from prompt-toolkit<2.1.0,>=2.0.0->ipython>=4.0.0->ipywidgets<9,>=7.6.0->ipyaladin) (1.15.0)\n",
            "Requirement already satisfied: wcwidth in /usr/local/lib/python3.8/dist-packages (from prompt-toolkit<2.1.0,>=2.0.0->ipython>=4.0.0->ipywidgets<9,>=7.6.0->ipyaladin) (0.2.5)\n",
            "Requirement already satisfied: ptyprocess>=0.5 in /usr/local/lib/python3.8/dist-packages (from pexpect->ipython>=4.0.0->ipywidgets<9,>=7.6.0->ipyaladin) (0.7.0)\n",
            "Requirement already satisfied: MarkupSafe>=0.23 in /usr/local/lib/python3.8/dist-packages (from jinja2<=3.0.0->notebook>=4.4.1->widgetsnbextension~=3.6.0->ipywidgets<9,>=7.6.0->ipyaladin) (2.0.1)\n",
            "Requirement already satisfied: platformdirs>=2.5 in /usr/local/lib/python3.8/dist-packages (from jupyter-core>=4.4.0->notebook>=4.4.1->widgetsnbextension~=3.6.0->ipywidgets<9,>=7.6.0->ipyaladin) (2.6.2)\n",
            "Requirement already satisfied: bleach in /usr/local/lib/python3.8/dist-packages (from nbconvert<6.0->notebook>=4.4.1->widgetsnbextension~=3.6.0->ipywidgets<9,>=7.6.0->ipyaladin) (5.0.1)\n",
            "Requirement already satisfied: testpath in /usr/local/lib/python3.8/dist-packages (from nbconvert<6.0->notebook>=4.4.1->widgetsnbextension~=3.6.0->ipywidgets<9,>=7.6.0->ipyaladin) (0.6.0)\n",
            "Requirement already satisfied: entrypoints>=0.2.2 in /usr/local/lib/python3.8/dist-packages (from nbconvert<6.0->notebook>=4.4.1->widgetsnbextension~=3.6.0->ipywidgets<9,>=7.6.0->ipyaladin) (0.4)\n",
            "Requirement already satisfied: defusedxml in /usr/local/lib/python3.8/dist-packages (from nbconvert<6.0->notebook>=4.4.1->widgetsnbextension~=3.6.0->ipywidgets<9,>=7.6.0->ipyaladin) (0.7.1)\n",
            "Requirement already satisfied: pandocfilters>=1.4.1 in /usr/local/lib/python3.8/dist-packages (from nbconvert<6.0->notebook>=4.4.1->widgetsnbextension~=3.6.0->ipywidgets<9,>=7.6.0->ipyaladin) (1.5.0)\n",
            "Requirement already satisfied: mistune<2,>=0.8.1 in /usr/local/lib/python3.8/dist-packages (from nbconvert<6.0->notebook>=4.4.1->widgetsnbextension~=3.6.0->ipywidgets<9,>=7.6.0->ipyaladin) (0.8.4)\n",
            "Requirement already satisfied: fastjsonschema in /usr/local/lib/python3.8/dist-packages (from nbformat->notebook>=4.4.1->widgetsnbextension~=3.6.0->ipywidgets<9,>=7.6.0->ipyaladin) (2.16.2)\n",
            "Requirement already satisfied: jsonschema>=2.6 in /usr/local/lib/python3.8/dist-packages (from nbformat->notebook>=4.4.1->widgetsnbextension~=3.6.0->ipywidgets<9,>=7.6.0->ipyaladin) (4.3.3)\n",
            "Requirement already satisfied: pyrsistent!=0.17.0,!=0.17.1,!=0.17.2,>=0.14.0 in /usr/local/lib/python3.8/dist-packages (from jsonschema>=2.6->nbformat->notebook>=4.4.1->widgetsnbextension~=3.6.0->ipywidgets<9,>=7.6.0->ipyaladin) (0.19.3)\n",
            "Requirement already satisfied: importlib-resources>=1.4.0 in /usr/local/lib/python3.8/dist-packages (from jsonschema>=2.6->nbformat->notebook>=4.4.1->widgetsnbextension~=3.6.0->ipywidgets<9,>=7.6.0->ipyaladin) (5.10.2)\n",
            "Requirement already satisfied: attrs>=17.4.0 in /usr/local/lib/python3.8/dist-packages (from jsonschema>=2.6->nbformat->notebook>=4.4.1->widgetsnbextension~=3.6.0->ipywidgets<9,>=7.6.0->ipyaladin) (22.2.0)\n",
            "Requirement already satisfied: webencodings in /usr/local/lib/python3.8/dist-packages (from bleach->nbconvert<6.0->notebook>=4.4.1->widgetsnbextension~=3.6.0->ipywidgets<9,>=7.6.0->ipyaladin) (0.5.1)\n",
            "Requirement already satisfied: zipp>=3.1.0 in /usr/local/lib/python3.8/dist-packages (from importlib-resources>=1.4.0->jsonschema>=2.6->nbformat->notebook>=4.4.1->widgetsnbextension~=3.6.0->ipywidgets<9,>=7.6.0->ipyaladin) (3.11.0)\n",
            "Installing collected packages: jedi, ipyaladin\n",
            "Successfully installed ipyaladin-0.2.1 jedi-0.18.2\n"
          ]
        }
      ]
    },
    {
      "cell_type": "code",
      "source": [
        "from astroquery.mast import Observations"
      ],
      "metadata": {
        "id": "grhDk1Wr7OIJ"
      },
      "execution_count": 4,
      "outputs": []
    },
    {
      "cell_type": "code",
      "execution_count": 5,
      "metadata": {
        "colab": {
          "base_uri": "https://localhost:8080/"
        },
        "id": "g8iMof9t6xZf",
        "outputId": "46a909a6-d3ac-42a4-fb9d-e15595f092ac"
      },
      "outputs": [
        {
          "output_type": "stream",
          "name": "stderr",
          "text": [
            "WARNING: InputWarning: Coordinate string is being interpreted as an ICRS coordinate provided in degrees. [astroquery.utils.commons]\n",
            "WARNING:astroquery:InputWarning: Coordinate string is being interpreted as an ICRS coordinate provided in degrees.\n"
          ]
        },
        {
          "output_type": "stream",
          "name": "stdout",
          "text": [
            "intentType obs_collection provenance_name ... srcDen  obsid        distance    \n",
            "---------- -------------- --------------- ... ------ -------- -----------------\n",
            "   science           TESS            SPOC ...    nan 62280344               0.0\n",
            "   science           TESS            SPOC ...    nan 62327385               0.0\n",
            "   science           TESS            SPOC ...    nan 28287316               0.0\n",
            "   science           TESS            SPOC ...    nan 62260792  60.0314126074166\n",
            "   science           TESS            SPOC ...    nan 62335423  60.0314126074166\n",
            "   science           TESS            SPOC ...    nan 28231386  60.0314126074166\n",
            "   science           TESS            SPOC ...    nan 28215357 384.7219635056634\n",
            "   science           TESS            SPOC ...    nan 28218068 450.1304803432366\n",
            "   science           TESS            SPOC ...    nan 28219018 579.0555836737651\n",
            "   science           TESS            SPOC ...    nan 28221891 579.0555836737651\n"
          ]
        }
      ],
      "source": [
        "obs_table = Observations.query_region(\"101.2950 -16.6994 \")# 322.49324 12.16683\n",
        "print(obs_table[:10])"
      ]
    },
    {
      "cell_type": "code",
      "source": [
        "#to get all the headers/to see all the column names in the table\n",
        "#then you reference to the MAST API Tools for programmatically querying the MAST Portal. I will place the picture in the readme section later\n",
        "#this will help with CAOM field description or labels to work with specifics keys\n",
        "\n",
        "print(obs_table.keys())"
      ],
      "metadata": {
        "colab": {
          "base_uri": "https://localhost:8080/"
        },
        "id": "guRIZEet_TKR",
        "outputId": "14354000-4ab1-4500-ea94-3831184b5bff"
      },
      "execution_count": 6,
      "outputs": [
        {
          "output_type": "stream",
          "name": "stdout",
          "text": [
            "['intentType', 'obs_collection', 'provenance_name', 'instrument_name', 'project', 'filters', 'wavelength_region', 'target_name', 'target_classification', 'obs_id', 's_ra', 's_dec', 'dataproduct_type', 'proposal_pi', 'calib_level', 't_min', 't_max', 't_exptime', 'em_min', 'em_max', 'obs_title', 't_obs_release', 'proposal_id', 'proposal_type', 'sequence_number', 's_region', 'jpegURL', 'dataURL', 'dataRights', 'mtFlag', 'srcDen', 'obsid', 'distance']\n"
          ]
        }
      ]
    },
    {
      "cell_type": "code",
      "source": [
        "#to display the table in a more readable format in a Jupyter notebook.\n",
        "#obs_table.show_in_notebook()"
      ],
      "metadata": {
        "id": "sYXLKNnw_uxh"
      },
      "execution_count": 7,
      "outputs": []
    },
    {
      "cell_type": "code",
      "source": [
        "#this will let us know if the target was observed\n",
        "if len(obs_table) == 0:\n",
        "    print(\"Object not observed or not found in the database.\")\n",
        "else:\n",
        "    print(\"Object was observed.\")"
      ],
      "metadata": {
        "colab": {
          "base_uri": "https://localhost:8080/"
        },
        "id": "D-qlbeCyBNzq",
        "outputId": "a8f1525b-d2e7-4a41-fdda-e3b006e51a21"
      },
      "execution_count": 8,
      "outputs": [
        {
          "output_type": "stream",
          "name": "stdout",
          "text": [
            "Object was observed.\n"
          ]
        }
      ]
    },
    {
      "cell_type": "code",
      "source": [
        "\n",
        "#this will let us know what camara\n",
        "if 'camera' in obs_table.keys():\n",
        "    camera = obs_table['camera']\n",
        "    print(\"Object was observed with camera: \", camera)\n",
        "else:\n",
        "    print(\"Camera information not available in this catalog.\")"
      ],
      "metadata": {
        "colab": {
          "base_uri": "https://localhost:8080/"
        },
        "id": "tvqlk4fIBrSh",
        "outputId": "354ed876-0d47-4330-fd6d-303ba355ea9e"
      },
      "execution_count": 9,
      "outputs": [
        {
          "output_type": "stream",
          "name": "stdout",
          "text": [
            "Camera information not available in this catalog.\n"
          ]
        }
      ]
    },
    {
      "cell_type": "markdown",
      "source": [
        "In this case I know there is a camara information but maybe the correct key is not camara. \n",
        "I need to find the correct key. i will take a look at the picture with the labels. "
      ],
      "metadata": {
        "id": "6dXPkCGXCJOf"
      }
    },
    {
      "cell_type": "code",
      "source": [
        "# Astronomy tools\n",
        "import astropy.units as u\n",
        "\n",
        "# Access astronomical databases\n",
        "from astroquery.simbad import Simbad\n",
        "from astroquery.vizier import Vizier\n",
        "from astroquery.xmatch import XMatch\n",
        "\n",
        "# Sky visualization\n",
        "import ipyaladin.aladin_widget as ipyal"
      ],
      "metadata": {
        "colab": {
          "base_uri": "https://localhost:8080/"
        },
        "id": "A2GdCo_AFAjg",
        "outputId": "c63e5b66-20a1-425f-dae6-83a7cd9f58e6"
      },
      "execution_count": 10,
      "outputs": [
        {
          "output_type": "stream",
          "name": "stdout",
          "text": [
            "Could not import regions, which is required for some of the functionalities of this module.\n"
          ]
        }
      ]
    },
    {
      "cell_type": "code",
      "source": [
        "from astroquery.mast.observations import ObservationsClass\n",
        "#1:To gather information on any target\n",
        "help(ObservationsClass)\n",
        "# will give us the query classes and methods availables"
      ],
      "metadata": {
        "colab": {
          "base_uri": "https://localhost:8080/"
        },
        "id": "2Is3aysTFajc",
        "outputId": "60a3d7d2-b721-4d65-b82b-ae872554f8f9"
      },
      "execution_count": 11,
      "outputs": [
        {
          "output_type": "stream",
          "name": "stdout",
          "text": [
            "Help on class ObservationsClass in module astroquery.mast.observations:\n",
            "\n",
            "class ObservationsClass(astroquery.mast.core.MastQueryWithLogin)\n",
            " |  ObservationsClass(mast_token=None)\n",
            " |  \n",
            " |  MAST Observations query class.\n",
            " |  \n",
            " |  Class for querying MAST observational data.\n",
            " |  \n",
            " |  Method resolution order:\n",
            " |      ObservationsClass\n",
            " |      astroquery.mast.core.MastQueryWithLogin\n",
            " |      astroquery.query.QueryWithLogin\n",
            " |      astroquery.query.BaseQuery\n",
            " |      builtins.object\n",
            " |  \n",
            " |  Methods defined here:\n",
            " |  \n",
            " |  download_file(self, uri, *, local_path=None, base_url=None, cache=True, cloud_only=False)\n",
            " |      Downloads a single file based on the data URI\n",
            " |      \n",
            " |      Parameters\n",
            " |      ----------\n",
            " |      uri : str\n",
            " |          The product dataURI, e.g. mast:JWST/product/jw00736-o039_t001_miri_ch1-long_x1d.fits\n",
            " |      local_path : str\n",
            " |          Directory in which the files will be downloaded.  Defaults to current working directory.\n",
            " |      base_url: str\n",
            " |          A base url to use when downloading.  Default is the MAST Portal API\n",
            " |      cache : bool\n",
            " |          Default is True. If file is found on disk it will not be downloaded again.\n",
            " |      cloud_only : bool, optional\n",
            " |          Default False. If set to True and cloud data access is enabled (see `enable_cloud_dataset`)\n",
            " |          files that are not found in the cloud will be skipped rather than downloaded from MAST\n",
            " |          as is the default behavior. If cloud access is not enables this argument as no affect.\n",
            " |      \n",
            " |      Returns\n",
            " |      -------\n",
            " |      status: str\n",
            " |          download status message.  Either COMPLETE, SKIPPED, or ERROR.\n",
            " |      msg : str\n",
            " |          An error status message, if any.\n",
            " |      url : str\n",
            " |          The full url download path\n",
            " |  \n",
            " |  download_products(self, products, *, download_dir=None, cache=True, curl_flag=False, mrp_only=False, cloud_only=False, **filters)\n",
            " |      Download data products.\n",
            " |      If cloud access is enabled, files will be downloaded from the cloud if possible.\n",
            " |      \n",
            " |      Parameters\n",
            " |      ----------\n",
            " |      products : str, list, `~astropy.table.Table`\n",
            " |          Either a single or list of obsids (as can be given to `get_product_list`),\n",
            " |          or a Table of products (as is returned by `get_product_list`)\n",
            " |      download_dir : str, optional\n",
            " |          Optional.  Directory to download files to.  Defaults to current directory.\n",
            " |      cache : bool, optional\n",
            " |          Default is True. If file is found on disc it will not be downloaded again.\n",
            " |          Note: has no affect when downloading curl script.\n",
            " |      curl_flag : bool, optional\n",
            " |          Default is False.  If true instead of downloading files directly, a curl script\n",
            " |          will be downloaded that can be used to download the data files at a later time.\n",
            " |      mrp_only : bool, optional\n",
            " |          Default False. When set to true only \"Minimum Recommended Products\" will be returned.\n",
            " |      cloud_only : bool, optional\n",
            " |          Default False. If set to True and cloud data access is enabled (see `enable_cloud_dataset`)\n",
            " |          files that are not found in the cloud will be skipped rather than downloaded from MAST\n",
            " |          as is the default behavior. If cloud access is not enables this argument as no affect.\n",
            " |      **filters :\n",
            " |          Filters to be applied.  Valid filters are all products fields returned by\n",
            " |          ``get_metadata(\"products\")`` and 'extension' which is the desired file extension.\n",
            " |          The Column Name (or 'extension') is the keyword, with the argument being one or\n",
            " |          more acceptable values for that parameter.\n",
            " |          Filter behavior is AND between the filters and OR within a filter set.\n",
            " |          For example: productType=\"SCIENCE\",extension=[\"fits\",\"jpg\"]\n",
            " |      \n",
            " |      Returns\n",
            " |      -------\n",
            " |      response : `~astropy.table.Table`\n",
            " |          The manifest of files downloaded, or status of files on disk if curl option chosen.\n",
            " |  \n",
            " |  filter_products(self, products, *, mrp_only=False, extension=None, **filters)\n",
            " |      Takes an `~astropy.table.Table` of MAST observation data products and filters it based on given filters.\n",
            " |      \n",
            " |      Parameters\n",
            " |      ----------\n",
            " |      products : `~astropy.table.Table`\n",
            " |          Table containing data products to be filtered.\n",
            " |      mrp_only : bool, optional\n",
            " |          Default False. When set to true only \"Minimum Recommended Products\" will be returned.\n",
            " |      extension : string or array, optional\n",
            " |          Default None. Option to filter by file extension.\n",
            " |      **filters :\n",
            " |          Filters to be applied.  Valid filters are all products fields listed\n",
            " |          `here <https://masttest.stsci.edu/api/v0/_productsfields.html>`__.\n",
            " |          The column name is the keyword, with the argument being one or more acceptable values\n",
            " |          for that parameter.\n",
            " |          Filter behavior is AND between the filters and OR within a filter set.\n",
            " |          For example: productType=\"SCIENCE\",extension=[\"fits\",\"jpg\"]\n",
            " |      \n",
            " |      Returns\n",
            " |      -------\n",
            " |      response : `~astropy.table.Table`\n",
            " |  \n",
            " |  get_cloud_uri(self, data_product, *, include_bucket=True, full_url=False)\n",
            " |      For a given data product, returns the associated cloud URI.\n",
            " |      If the product is from a mission that does not support cloud access an\n",
            " |      exception is raised. If the mission is supported but the product\n",
            " |      cannot be found in the cloud, the returned path is None.\n",
            " |      \n",
            " |      Parameters\n",
            " |      ----------\n",
            " |      data_product : `~astropy.table.Row`\n",
            " |          Product to be converted into cloud data uri.\n",
            " |      include_bucket : bool\n",
            " |          Default True. When false returns the path of the file relative to the\n",
            " |          top level cloud storage location.\n",
            " |          Must be set to False when using the full_url argument.\n",
            " |      full_url : bool\n",
            " |          Default False. Return an HTTP fetchable url instead of a cloud uri.\n",
            " |          Must set include_bucket to False to use this option.\n",
            " |      \n",
            " |      Returns\n",
            " |      -------\n",
            " |      response : str or None\n",
            " |          Cloud URI generated from the data product. If the product cannot be\n",
            " |          found in the cloud, None is returned.\n",
            " |  \n",
            " |  get_cloud_uris(self, data_products, *, include_bucket=True, full_url=False)\n",
            " |      Takes an `~astropy.table.Table` of data products and returns the associated cloud data uris.\n",
            " |      \n",
            " |      Parameters\n",
            " |      ----------\n",
            " |      data_products : `~astropy.table.Table`\n",
            " |          Table containing products to be converted into cloud data uris.\n",
            " |      include_bucket : bool\n",
            " |          Default True. When false returns the path of the file relative to the\n",
            " |          top level cloud storage location.\n",
            " |          Must be set to False when using the full_url argument.\n",
            " |      full_url : bool\n",
            " |          Default False. Return an HTTP fetchable url instead of a cloud uri.\n",
            " |          Must set include_bucket to False to use this option.\n",
            " |      \n",
            " |      Returns\n",
            " |      -------\n",
            " |      response : list\n",
            " |          List of URIs generated from the data products, list way contain entries that are None\n",
            " |          if data_products includes products not found in the cloud.\n",
            " |  \n",
            " |  get_metadata(self, query_type)\n",
            " |      Returns metadata about the requested query type.\n",
            " |      \n",
            " |      Parameters\n",
            " |      ----------\n",
            " |      query_type : str\n",
            " |          The query to get metadata for. Options are observations, and products.\n",
            " |      \n",
            " |      Returns\n",
            " |      -------\n",
            " |      response : `~astropy.table.Table`\n",
            " |          The metadata table.\n",
            " |  \n",
            " |  get_product_list(self, *args, **kwargs)\n",
            " |      Queries the service and returns a table object.\n",
            " |      \n",
            " |      Given a \"Product Group Id\" (column name obsid) returns a list of associated data products.\n",
            " |      See column documentation `here <https://masttest.stsci.edu/api/v0/_productsfields.html>`__.\n",
            " |      \n",
            " |      Parameters\n",
            " |      ----------\n",
            " |      observations : str or `~astropy.table.Row` or list/Table of same\n",
            " |          Row/Table of MAST query results (e.g. output from `query_object`)\n",
            " |          or single/list of MAST Product Group Id(s) (obsid).\n",
            " |          See description `here <https://masttest.stsci.edu/api/v0/_c_a_o_mfields.html>`__.\n",
            " |      \n",
            " |      Returns\n",
            " |      -------\n",
            " |      table : A `~astropy.table.Table` object.\n",
            " |  \n",
            " |  get_product_list_async(self, observations)\n",
            " |      Given a \"Product Group Id\" (column name obsid) returns a list of associated data products.\n",
            " |      See column documentation `here <https://masttest.stsci.edu/api/v0/_productsfields.html>`__.\n",
            " |      \n",
            " |      Parameters\n",
            " |      ----------\n",
            " |      observations : str or `~astropy.table.Row` or list/Table of same\n",
            " |          Row/Table of MAST query results (e.g. output from `query_object`)\n",
            " |          or single/list of MAST Product Group Id(s) (obsid).\n",
            " |          See description `here <https://masttest.stsci.edu/api/v0/_c_a_o_mfields.html>`__.\n",
            " |      \n",
            " |      Returns\n",
            " |      -------\n",
            " |          response : list of `~requests.Response`\n",
            " |  \n",
            " |  list_missions(self)\n",
            " |      Lists data missions archived by MAST and avaiable through `astroquery.mast`.\n",
            " |      \n",
            " |      Returns\n",
            " |      -------\n",
            " |      response : list\n",
            " |          List of available missions.\n",
            " |  \n",
            " |  query_criteria(self, *args, **kwargs)\n",
            " |      Queries the service and returns a table object.\n",
            " |      \n",
            " |      Given an set of criteria, returns a list of MAST observations.\n",
            " |      Valid criteria are returned by ``get_metadata(\"observations\")``\n",
            " |      \n",
            " |      Parameters\n",
            " |      ----------\n",
            " |      pagesize : int, optional\n",
            " |          Can be used to override the default pagesize.\n",
            " |          E.g. when using a slow internet connection.\n",
            " |      page : int, optional\n",
            " |          Can be used to override the default behavior of all results being returned to obtain\n",
            " |          one sepcific page of results.\n",
            " |      **criteria\n",
            " |          Criteria to apply. At least one non-positional criteria must be supplied.\n",
            " |          Valid criteria are coordinates, objectname, radius (as in `query_region` and `query_object`),\n",
            " |          and all observation fields returned by the ``get_metadata(\"observations\")``.\n",
            " |          The Column Name is the keyword, with the argument being one or more acceptable values for that parameter,\n",
            " |          except for fields with a float datatype where the argument should be in the form [minVal, maxVal].\n",
            " |          For non-float type criteria wildcards maybe used (both * and % are considered wildcards), however\n",
            " |          only one wildcarded value can be processed per criterion.\n",
            " |          RA and Dec must be given in decimal degrees, and datetimes in MJD.\n",
            " |          For example: filters=[\"FUV\",\"NUV\"],proposal_pi=\"Ost*\",t_max=[52264.4586,54452.8914]\n",
            " |      \n",
            " |      \n",
            " |      Returns\n",
            " |      -------\n",
            " |      table : A `~astropy.table.Table` object.\n",
            " |  \n",
            " |  query_criteria_async(self, *, pagesize=None, page=None, **criteria)\n",
            " |      Given an set of criteria, returns a list of MAST observations.\n",
            " |      Valid criteria are returned by ``get_metadata(\"observations\")``\n",
            " |      \n",
            " |      Parameters\n",
            " |      ----------\n",
            " |      pagesize : int, optional\n",
            " |          Can be used to override the default pagesize.\n",
            " |          E.g. when using a slow internet connection.\n",
            " |      page : int, optional\n",
            " |          Can be used to override the default behavior of all results being returned to obtain\n",
            " |          one sepcific page of results.\n",
            " |      **criteria\n",
            " |          Criteria to apply. At least one non-positional criteria must be supplied.\n",
            " |          Valid criteria are coordinates, objectname, radius (as in `query_region` and `query_object`),\n",
            " |          and all observation fields returned by the ``get_metadata(\"observations\")``.\n",
            " |          The Column Name is the keyword, with the argument being one or more acceptable values for that parameter,\n",
            " |          except for fields with a float datatype where the argument should be in the form [minVal, maxVal].\n",
            " |          For non-float type criteria wildcards maybe used (both * and % are considered wildcards), however\n",
            " |          only one wildcarded value can be processed per criterion.\n",
            " |          RA and Dec must be given in decimal degrees, and datetimes in MJD.\n",
            " |          For example: filters=[\"FUV\",\"NUV\"],proposal_pi=\"Ost*\",t_max=[52264.4586,54452.8914]\n",
            " |      \n",
            " |      \n",
            " |      Returns\n",
            " |      -------\n",
            " |      response : list of `~requests.Response`\n",
            " |  \n",
            " |  query_criteria_count(self, *, pagesize=None, page=None, **criteria)\n",
            " |      Given an set of filters, returns the number of MAST observations meeting those criteria.\n",
            " |      \n",
            " |      Parameters\n",
            " |      ----------\n",
            " |      pagesize : int, optional\n",
            " |          Can be used to override the default pagesize.\n",
            " |          E.g. when using a slow internet connection.\n",
            " |      page : int, optional\n",
            " |          Can be used to override the default behavior of all results being returned to obtain\n",
            " |          one sepcific page of results.\n",
            " |      **criteria\n",
            " |          Criteria to apply. At least one non-positional criterion must be supplied.\n",
            " |          Valid criteria are coordinates, objectname, radius (as in `query_region` and `query_object`),\n",
            " |          and all observation fields listed `here <https://mast.stsci.edu/api/v0/_c_a_o_mfields.html>`__.\n",
            " |          The Column Name is the keyword, with the argument being one or more acceptable values for that parameter,\n",
            " |          except for fields with a float datatype where the argument should be in the form [minVal, maxVal].\n",
            " |          For non-float type criteria wildcards maybe used (both * and % are considered wildcards), however\n",
            " |          only one wildcarded value can be processed per criterion.\n",
            " |          RA and Dec must be given in decimal degrees, and datetimes in MJD.\n",
            " |          For example: filters=[\"FUV\",\"NUV\"],proposal_pi=\"Ost*\",t_max=[52264.4586,54452.8914]\n",
            " |      \n",
            " |      \n",
            " |      Returns\n",
            " |      -------\n",
            " |      response : int\n",
            " |  \n",
            " |  query_object(self, *args, **kwargs)\n",
            " |      Queries the service and returns a table object.\n",
            " |      \n",
            " |      Given an object name, returns a list of MAST observations.\n",
            " |      See column documentation `here <https://mast.stsci.edu/api/v0/_c_a_o_mfields.html>`__.\n",
            " |      \n",
            " |      Parameters\n",
            " |      ----------\n",
            " |      objectname : str\n",
            " |          The name of the target around which to search.\n",
            " |      radius : str or `~astropy.units.Quantity` object, optional\n",
            " |          Default 0.2 degrees.\n",
            " |          The string must be parsable by `~astropy.coordinates.Angle`.\n",
            " |          The appropriate `~astropy.units.Quantity` object from\n",
            " |          `~astropy.units` may also be used. Defaults to 0.2 deg.\n",
            " |      pagesize : int, optional\n",
            " |          Default None.\n",
            " |          Can be used to override the default pagesize for (set in configs) this query only.\n",
            " |          E.g. when using a slow internet connection.\n",
            " |      page : int, optional\n",
            " |          Defaulte None.\n",
            " |          Can be used to override the default behavior of all results being returned\n",
            " |          to obtain a specific page of results.\n",
            " |      \n",
            " |      Returns\n",
            " |      -------\n",
            " |      table : A `~astropy.table.Table` object.\n",
            " |  \n",
            " |  query_object_async(self, objectname, *, radius=<Quantity 0.2 deg>, pagesize=None, page=None)\n",
            " |      Given an object name, returns a list of MAST observations.\n",
            " |      See column documentation `here <https://mast.stsci.edu/api/v0/_c_a_o_mfields.html>`__.\n",
            " |      \n",
            " |      Parameters\n",
            " |      ----------\n",
            " |      objectname : str\n",
            " |          The name of the target around which to search.\n",
            " |      radius : str or `~astropy.units.Quantity` object, optional\n",
            " |          Default 0.2 degrees.\n",
            " |          The string must be parsable by `~astropy.coordinates.Angle`.\n",
            " |          The appropriate `~astropy.units.Quantity` object from\n",
            " |          `~astropy.units` may also be used. Defaults to 0.2 deg.\n",
            " |      pagesize : int, optional\n",
            " |          Default None.\n",
            " |          Can be used to override the default pagesize for (set in configs) this query only.\n",
            " |          E.g. when using a slow internet connection.\n",
            " |      page : int, optional\n",
            " |          Defaulte None.\n",
            " |          Can be used to override the default behavior of all results being returned\n",
            " |          to obtain a specific page of results.\n",
            " |      \n",
            " |      Returns\n",
            " |      -------\n",
            " |      response : list of `~requests.Response`\n",
            " |  \n",
            " |  query_object_count(self, objectname, *, radius=<Quantity 0.2 deg>, pagesize=None, page=None)\n",
            " |      Given an object name, returns the number of MAST observations.\n",
            " |      \n",
            " |      Parameters\n",
            " |      ----------\n",
            " |      objectname : str\n",
            " |          The name of the target around which to search.\n",
            " |      radius : str or `~astropy.units.Quantity` object, optional\n",
            " |          The string must be parsable by `~astropy.coordinates.Angle`. The\n",
            " |          appropriate `~astropy.units.Quantity` object from\n",
            " |          `~astropy.units` may also be used. Defaults to 0.2 deg.\n",
            " |      pagesize : int, optional\n",
            " |          Can be used to override the default pagesize.\n",
            " |          E.g. when using a slow internet connection.\n",
            " |      page : int, optional\n",
            " |          Can be used to override the default behavior of all results being returned to obtain\n",
            " |          one sepcific page of results.\n",
            " |      \n",
            " |      Returns\n",
            " |      -------\n",
            " |      response : int\n",
            " |  \n",
            " |  query_region(self, *args, **kwargs)\n",
            " |      Queries the service and returns a table object.\n",
            " |      \n",
            " |      Given a sky position and radius, returns a list of MAST observations.\n",
            " |      See column documentation `here <https://mast.stsci.edu/api/v0/_c_a_o_mfields.html>`__.\n",
            " |      \n",
            " |      Parameters\n",
            " |      ----------\n",
            " |      coordinates : str or `~astropy.coordinates` object\n",
            " |          The target around which to search. It may be specified as a\n",
            " |          string or as the appropriate `~astropy.coordinates` object.\n",
            " |      radius : str or `~astropy.units.Quantity` object, optional\n",
            " |          Default 0.2 degrees.\n",
            " |          The string must be parsable by `~astropy.coordinates.Angle`. The\n",
            " |          appropriate `~astropy.units.Quantity` object from\n",
            " |          `~astropy.units` may also be used. Defaults to 0.2 deg.\n",
            " |      pagesize : int, optional\n",
            " |          Default None.\n",
            " |          Can be used to override the default pagesize for (set in configs) this query only.\n",
            " |          E.g. when using a slow internet connection.\n",
            " |      page : int, optional\n",
            " |          Default None.\n",
            " |          Can be used to override the default behavior of all results being returned to\n",
            " |          obtain a specific page of results.\n",
            " |      \n",
            " |      Returns\n",
            " |      -------\n",
            " |      table : A `~astropy.table.Table` object.\n",
            " |  \n",
            " |  query_region_async(self, coordinates, *, radius=<Quantity 0.2 deg>, pagesize=None, page=None)\n",
            " |      Given a sky position and radius, returns a list of MAST observations.\n",
            " |      See column documentation `here <https://mast.stsci.edu/api/v0/_c_a_o_mfields.html>`__.\n",
            " |      \n",
            " |      Parameters\n",
            " |      ----------\n",
            " |      coordinates : str or `~astropy.coordinates` object\n",
            " |          The target around which to search. It may be specified as a\n",
            " |          string or as the appropriate `~astropy.coordinates` object.\n",
            " |      radius : str or `~astropy.units.Quantity` object, optional\n",
            " |          Default 0.2 degrees.\n",
            " |          The string must be parsable by `~astropy.coordinates.Angle`. The\n",
            " |          appropriate `~astropy.units.Quantity` object from\n",
            " |          `~astropy.units` may also be used. Defaults to 0.2 deg.\n",
            " |      pagesize : int, optional\n",
            " |          Default None.\n",
            " |          Can be used to override the default pagesize for (set in configs) this query only.\n",
            " |          E.g. when using a slow internet connection.\n",
            " |      page : int, optional\n",
            " |          Default None.\n",
            " |          Can be used to override the default behavior of all results being returned to\n",
            " |          obtain a specific page of results.\n",
            " |      \n",
            " |      Returns\n",
            " |      -------\n",
            " |      response : list of `~requests.Response`\n",
            " |  \n",
            " |  query_region_count(self, coordinates, *, radius=<Quantity 0.2 deg>, pagesize=None, page=None)\n",
            " |      Given a sky position and radius, returns the number of MAST observations in that region.\n",
            " |      \n",
            " |      Parameters\n",
            " |      ----------\n",
            " |      coordinates : str or `~astropy.coordinates` object\n",
            " |          The target around which to search. It may be specified as a\n",
            " |          string or as the appropriate `~astropy.coordinates` object.\n",
            " |      radius : str or `~astropy.units.Quantity` object, optional\n",
            " |          The string must be parsable by `~astropy.coordinates.Angle`. The\n",
            " |          appropriate `~astropy.units.Quantity` object from\n",
            " |          `~astropy.units` may also be used. Defaults to 0.2 deg.\n",
            " |      pagesize : int, optional\n",
            " |          Can be used to override the default pagesize for.\n",
            " |          E.g. when using a slow internet connection.\n",
            " |      page : int, optional\n",
            " |          Can be used to override the default behavior of all results being returned to\n",
            " |          obtain a specific page of results.\n",
            " |      \n",
            " |      Returns\n",
            " |      -------\n",
            " |      response : int\n",
            " |  \n",
            " |  ----------------------------------------------------------------------\n",
            " |  Data and other attributes defined here:\n",
            " |  \n",
            " |  __abstractmethods__ = frozenset()\n",
            " |  \n",
            " |  ----------------------------------------------------------------------\n",
            " |  Methods inherited from astroquery.mast.core.MastQueryWithLogin:\n",
            " |  \n",
            " |  __init__(self, mast_token=None)\n",
            " |      Initialize self.  See help(type(self)) for accurate signature.\n",
            " |  \n",
            " |  disable_cloud_dataset(self)\n",
            " |      Disables downloading public files from S3 instead of MAST\n",
            " |  \n",
            " |  enable_cloud_dataset(self, provider='AWS', profile=None, verbose=True)\n",
            " |      Enable downloading public files from S3 instead of MAST.\n",
            " |      Requires the boto3 library to function.\n",
            " |      \n",
            " |      Parameters\n",
            " |      ----------\n",
            " |      provider : str\n",
            " |          Which cloud data provider to use.  We may in the future support multiple providers,\n",
            " |          though at the moment this argument is ignored.\n",
            " |      profile : str\n",
            " |          Profile to use to identify yourself to the cloud provider (usually in ~/.aws/config).\n",
            " |      verbose : bool\n",
            " |          Default True.\n",
            " |          Logger to display extra info and warning.\n",
            " |  \n",
            " |  login(self, token=None, store_token=False, reenter_token=False)\n",
            " |      Log into the MAST portal.\n",
            " |      \n",
            " |      Parameters\n",
            " |      ----------\n",
            " |      token : string, optional\n",
            " |          Default is None.\n",
            " |          The token to authenticate the user.\n",
            " |          This can be generated at\n",
            " |          https://auth.mast.stsci.edu/token?suggested_name=Astroquery&suggested_scope=mast:exclusive_access.\n",
            " |          If not supplied, it will be prompted for if not in the keyring or set via $MAST_API_TOKEN\n",
            " |      store_token : bool, optional\n",
            " |          Default False.\n",
            " |          If true, MAST token will be stored securely in your keyring.\n",
            " |      reenter_token :  bool, optional\n",
            " |          Default False.\n",
            " |          Asks for the token even if it is already stored in the keyring or $MAST_API_TOKEN environment variable.\n",
            " |          This is the way to overwrite an already stored password on the keyring.\n",
            " |  \n",
            " |  logout(self)\n",
            " |      Log out of current MAST session.\n",
            " |  \n",
            " |  resolve_object(self, objectname)\n",
            " |      Resolves an object name to a position on the sky.\n",
            " |      \n",
            " |      Parameters\n",
            " |      ----------\n",
            " |      objectname : str\n",
            " |          Name of astronomical object to resolve.\n",
            " |      \n",
            " |      Returns\n",
            " |      -------\n",
            " |      response : `~astropy.coordinates.SkyCoord`\n",
            " |          The sky position of the given object.\n",
            " |  \n",
            " |  session_info(self, verbose=True)\n",
            " |      Displays information about current MAST user, and returns user info dictionary.\n",
            " |      \n",
            " |      Parameters\n",
            " |      ----------\n",
            " |      verbose : bool, optional\n",
            " |          Default True. Set to False to suppress output to stdout.\n",
            " |      \n",
            " |      Returns\n",
            " |      -------\n",
            " |      response : dict\n",
            " |  \n",
            " |  ----------------------------------------------------------------------\n",
            " |  Methods inherited from astroquery.query.QueryWithLogin:\n",
            " |  \n",
            " |  authenticated(self)\n",
            " |  \n",
            " |  ----------------------------------------------------------------------\n",
            " |  Methods inherited from astroquery.query.BaseQuery:\n",
            " |  \n",
            " |  __call__(self, *args, **kwargs)\n",
            " |      init a fresh copy of self\n",
            " |  \n",
            " |  ----------------------------------------------------------------------\n",
            " |  Data descriptors inherited from astroquery.query.BaseQuery:\n",
            " |  \n",
            " |  __dict__\n",
            " |      dictionary for instance variables (if defined)\n",
            " |  \n",
            " |  __weakref__\n",
            " |      list of weak references to the object (if defined)\n",
            "\n"
          ]
        }
      ]
    },
    {
      "cell_type": "code",
      "source": [
        "#print(Observations.def_call(t_obs_release))\n",
        "#having a hard time finding the correct method to call so i am going to try with another \n",
        "# there is a good totorial here that specify missions like test and tables haves undestandable headers  https://mast.stsci.edu/api/v0/MastApiTutorial.html\n",
        "#some helpful queries here https://mast.stsci.edu/api/v0/pyex.html\n",
        "#documentations regarding this can be found here https://mast.stsci.edu/api/v0/\n",
        "#queries examples https://astroquery.readthedocs.io/en/latest/api/astroquery.mast.ObservationsClass.html#astroquery.mast.ObservationsClass.get_product_list_async"
      ],
      "metadata": {
        "id": "yZm0_etjFpLh"
      },
      "execution_count": 12,
      "outputs": []
    },
    {
      "cell_type": "code",
      "source": [
        "#Only need to find the correct key for the observation camera number of tess\n",
        "#how? look in this totorial documentation to see if there is something i can follow https://github.com/cds-astro/tutorials/blob/master/Notebooks/1_Intro_to_CDS_services_in_notebooks.ipynb"
      ],
      "metadata": {
        "id": "yukPcUofN-Gl"
      },
      "execution_count": 13,
      "outputs": []
    },
    {
      "cell_type": "code",
      "source": [
        "pip install astroquery"
      ],
      "metadata": {
        "colab": {
          "base_uri": "https://localhost:8080/"
        },
        "id": "sHoxmoxs2dIe",
        "outputId": "11f2b7b1-9546-42f8-ed81-c58088aa79d7"
      },
      "execution_count": 14,
      "outputs": [
        {
          "output_type": "stream",
          "name": "stdout",
          "text": [
            "Looking in indexes: https://pypi.org/simple, https://us-python.pkg.dev/colab-wheels/public/simple/\n",
            "Requirement already satisfied: astroquery in /usr/local/lib/python3.8/dist-packages (0.4.6)\n",
            "Requirement already satisfied: beautifulsoup4>=4.3.2 in /usr/local/lib/python3.8/dist-packages (from astroquery) (4.6.3)\n",
            "Requirement already satisfied: astropy>=4.0 in /usr/local/lib/python3.8/dist-packages (from astroquery) (4.3.1)\n",
            "Requirement already satisfied: keyring>=4.0 in /usr/local/lib/python3.8/dist-packages (from astroquery) (23.13.1)\n",
            "Requirement already satisfied: html5lib>=0.999 in /usr/local/lib/python3.8/dist-packages (from astroquery) (1.0.1)\n",
            "Requirement already satisfied: pyvo>=1.1 in /usr/local/lib/python3.8/dist-packages (from astroquery) (1.4)\n",
            "Requirement already satisfied: requests>=2.4.3 in /usr/local/lib/python3.8/dist-packages (from astroquery) (2.25.1)\n",
            "Requirement already satisfied: numpy>=1.16 in /usr/local/lib/python3.8/dist-packages (from astroquery) (1.21.6)\n",
            "Requirement already satisfied: pyerfa>=1.7.3 in /usr/local/lib/python3.8/dist-packages (from astropy>=4.0->astroquery) (2.0.0.1)\n",
            "Requirement already satisfied: six>=1.9 in /usr/local/lib/python3.8/dist-packages (from html5lib>=0.999->astroquery) (1.15.0)\n",
            "Requirement already satisfied: webencodings in /usr/local/lib/python3.8/dist-packages (from html5lib>=0.999->astroquery) (0.5.1)\n",
            "Requirement already satisfied: importlib-metadata>=4.11.4 in /usr/local/lib/python3.8/dist-packages (from keyring>=4.0->astroquery) (6.0.0)\n",
            "Requirement already satisfied: jaraco.classes in /usr/local/lib/python3.8/dist-packages (from keyring>=4.0->astroquery) (3.2.3)\n",
            "Requirement already satisfied: importlib-resources in /usr/local/lib/python3.8/dist-packages (from keyring>=4.0->astroquery) (5.10.2)\n",
            "Requirement already satisfied: jeepney>=0.4.2 in /usr/local/lib/python3.8/dist-packages (from keyring>=4.0->astroquery) (0.8.0)\n",
            "Requirement already satisfied: SecretStorage>=3.2 in /usr/local/lib/python3.8/dist-packages (from keyring>=4.0->astroquery) (3.3.3)\n",
            "Requirement already satisfied: urllib3<1.27,>=1.21.1 in /usr/local/lib/python3.8/dist-packages (from requests>=2.4.3->astroquery) (1.24.3)\n",
            "Requirement already satisfied: idna<3,>=2.5 in /usr/local/lib/python3.8/dist-packages (from requests>=2.4.3->astroquery) (2.10)\n",
            "Requirement already satisfied: chardet<5,>=3.0.2 in /usr/local/lib/python3.8/dist-packages (from requests>=2.4.3->astroquery) (4.0.0)\n",
            "Requirement already satisfied: certifi>=2017.4.17 in /usr/local/lib/python3.8/dist-packages (from requests>=2.4.3->astroquery) (2022.12.7)\n",
            "Requirement already satisfied: zipp>=0.5 in /usr/local/lib/python3.8/dist-packages (from importlib-metadata>=4.11.4->keyring>=4.0->astroquery) (3.11.0)\n",
            "Requirement already satisfied: cryptography>=2.0 in /usr/local/lib/python3.8/dist-packages (from SecretStorage>=3.2->keyring>=4.0->astroquery) (39.0.0)\n",
            "Requirement already satisfied: more-itertools in /usr/local/lib/python3.8/dist-packages (from jaraco.classes->keyring>=4.0->astroquery) (9.0.0)\n",
            "Requirement already satisfied: cffi>=1.12 in /usr/local/lib/python3.8/dist-packages (from cryptography>=2.0->SecretStorage>=3.2->keyring>=4.0->astroquery) (1.15.1)\n",
            "Requirement already satisfied: pycparser in /usr/local/lib/python3.8/dist-packages (from cffi>=1.12->cryptography>=2.0->SecretStorage>=3.2->keyring>=4.0->astroquery) (2.21)\n"
          ]
        }
      ]
    },
    {
      "cell_type": "code",
      "source": [
        "\n",
        "pip install astroplan"
      ],
      "metadata": {
        "colab": {
          "base_uri": "https://localhost:8080/"
        },
        "id": "6GA-T2_-aJrY",
        "outputId": "2f58f3cd-c40d-4280-c762-464cacb036ff"
      },
      "execution_count": 15,
      "outputs": [
        {
          "output_type": "stream",
          "name": "stdout",
          "text": [
            "Looking in indexes: https://pypi.org/simple, https://us-python.pkg.dev/colab-wheels/public/simple/\n",
            "Collecting astroplan\n",
            "  Downloading astroplan-0.8.tar.gz (134 kB)\n",
            "\u001b[2K     \u001b[90m━━━━━━━━━━━━━━━━━━━━━━━━━━━━━━━━━━━━━━━\u001b[0m \u001b[32m134.7/134.7 KB\u001b[0m \u001b[31m3.9 MB/s\u001b[0m eta \u001b[36m0:00:00\u001b[0m\n",
            "\u001b[?25h  Installing build dependencies ... \u001b[?25l\u001b[?25hdone\n",
            "  Getting requirements to build wheel ... \u001b[?25l\u001b[?25hdone\n",
            "  Preparing metadata (pyproject.toml) ... \u001b[?25l\u001b[?25hdone\n",
            "Requirement already satisfied: six in /usr/local/lib/python3.8/dist-packages (from astroplan) (1.15.0)\n",
            "Requirement already satisfied: pytz in /usr/local/lib/python3.8/dist-packages (from astroplan) (2022.7)\n",
            "Requirement already satisfied: astropy>=4 in /usr/local/lib/python3.8/dist-packages (from astroplan) (4.3.1)\n",
            "Requirement already satisfied: numpy>=1.17 in /usr/local/lib/python3.8/dist-packages (from astroplan) (1.21.6)\n",
            "Requirement already satisfied: pyerfa>=1.7.3 in /usr/local/lib/python3.8/dist-packages (from astropy>=4->astroplan) (2.0.0.1)\n",
            "Building wheels for collected packages: astroplan\n",
            "  Building wheel for astroplan (pyproject.toml) ... \u001b[?25l\u001b[?25hdone\n",
            "  Created wheel for astroplan: filename=astroplan-0.8-py3-none-any.whl size=83275 sha256=929eefc64fddf37739a09e8fdab5b234ac95a1296fa97c649b9cc17216110dca\n",
            "  Stored in directory: /root/.cache/pip/wheels/cd/87/42/4cf5673b77f4570603bcbdf176c0b313b8ad8e9b83b23039cc\n",
            "Successfully built astroplan\n",
            "Installing collected packages: astroplan\n",
            "Successfully installed astroplan-0.8\n"
          ]
        }
      ]
    },
    {
      "cell_type": "code",
      "source": [
        "import numpy as np\n",
        "from astroquery.mast import Catalogs\n",
        "from astroquery.mast import Tesscut\n",
        "from astropy.coordinates import SkyCoord\n",
        "from astropy.wcs import WCS\n",
        "from astropy.io import fits\n",
        "import matplotlib.pyplot as plt\n",
        "\n",
        "%matplotlib inline"
      ],
      "metadata": {
        "id": "z0yNva6Wz5t-"
      },
      "execution_count": 16,
      "outputs": []
    },
    {
      "cell_type": "markdown",
      "source": [
        "Get Coordinates of the Target Using Astroquery Catalogs\n",
        "\n",
        "Here we do a cone search using Catalogs.query_object on the TIC catalog around TIC ID = 261105201. The advantage of doing this (instead of a directly criteria query on the Tess Input Catalog) is that it gives us the nearby stars as well as the star we are looking for. The resulting table is sorted by distance from the requested object. We print out the ID and a few other TIC quantities to ensure we found the star we were looking for."
      ],
      "metadata": {
        "id": "dMIliRD03jmE"
      }
    },
    {
      "cell_type": "code",
      "source": [
        "ticid = 261105201\n",
        "\n",
        "starName = \"TIC \" + str(ticid)\n",
        "radSearch = 4/60 #radius in degrees\n",
        "\n",
        "catalogData = Catalogs.query_object(starName, radius = radSearch, catalog = \"TIC\")\n",
        "ra = catalogData[0]['ra']  #101.2950 -16.6994\n",
        "dec = catalogData[0]['dec']\n",
        "\n",
        "# Print out the first row in the table\n",
        "print( catalogData[:5]['ID', 'Tmag', 'Jmag', 'ra', 'dec', 'objType'] )"
      ],
      "metadata": {
        "colab": {
          "base_uri": "https://localhost:8080/"
        },
        "id": "YTuTq-1n3NDT",
        "outputId": "d1f6576b-8de6-4a4b-9d35-797147b789c0"
      },
      "execution_count": 17,
      "outputs": [
        {
          "output_type": "stream",
          "name": "stdout",
          "text": [
            "    ID      Tmag   Jmag         ra               dec        objType\n",
            "--------- ------- ------ ---------------- ----------------- -------\n",
            "261105201  8.3629   7.74 82.8273670408244 -79.0087723001529    STAR\n",
            "724151530 18.7511    nan 82.8150127457216 -79.0132058191133    STAR\n",
            "261105202 15.6838 13.738  82.807947620659 -79.0136350375361    STAR\n",
            "724151528 20.1425    nan   82.79364170498 -79.0085739998184    STAR\n",
            "724151541 19.6238    nan 82.8606445683429 -79.0110416543022    STAR\n"
          ]
        }
      ]
    },
    {
      "cell_type": "code",
      "source": [
        "# Create a list of nearby bright stars (tess magnitude less than 14) from the rest of the data for later.\n",
        "bright = catalogData['Tmag'] < 15\n",
        "\n",
        "# Make it a list of Ra, Dec pairs of the bright ones. This is now a list of nearby bright stars.\n",
        "nearbyStars = list( map( lambda x,y:[x,y], catalogData[bright]['ra'], catalogData[bright]['dec'] ) )\n",
        "len(nearbyStars)"
      ],
      "metadata": {
        "colab": {
          "base_uri": "https://localhost:8080/"
        },
        "id": "zjd4pFh13rPE",
        "outputId": "ff032af7-dd25-4cee-b629-b8d4cbca3438"
      },
      "execution_count": 18,
      "outputs": [
        {
          "output_type": "execute_result",
          "data": {
            "text/plain": [
              "12"
            ]
          },
          "metadata": {},
          "execution_count": 18
        }
      ]
    },
    {
      "cell_type": "markdown",
      "source": [
        "Query Which Sectors are Available\n",
        "\n",
        "Using the TESS sector information service, we make a request to determine which sectors/cameras/CCDs contain data for this target. Remember that there is a set of FFIs for each TESS sector and those are broken up into 4 cameras which each have 4 CCDs. We will do this with a radius=0 cone search to find only those FFI sets that contain the star of interest. You can also make the query using a larger radius, which may be important if the star is near the edge of one of the CCDs."
      ],
      "metadata": {
        "id": "u6jyN7Uv3yP_"
      }
    },
    {
      "cell_type": "code",
      "source": [
        "from astroquery.mast import Tesscut\n",
        "from astroplan import Observer,FixedTarget\n",
        "from astropy.coordinates import SkyCoord\n",
        "\n"
      ],
      "metadata": {
        "id": "k3WEFpxT33T5"
      },
      "execution_count": 19,
      "outputs": []
    },
    {
      "cell_type": "code",
      "source": [
        "dir(Tesscut)"
      ],
      "metadata": {
        "colab": {
          "base_uri": "https://localhost:8080/"
        },
        "id": "xavYeD4ebODn",
        "outputId": "0cc9023d-3a19-48d7-bd79-112a4c14e939"
      },
      "execution_count": 20,
      "outputs": [
        {
          "output_type": "execute_result",
          "data": {
            "text/plain": [
              "['__abstractmethods__',\n",
              " '__call__',\n",
              " '__class__',\n",
              " '__delattr__',\n",
              " '__dict__',\n",
              " '__dir__',\n",
              " '__doc__',\n",
              " '__eq__',\n",
              " '__format__',\n",
              " '__ge__',\n",
              " '__getattribute__',\n",
              " '__gt__',\n",
              " '__hash__',\n",
              " '__init__',\n",
              " '__init_subclass__',\n",
              " '__le__',\n",
              " '__lt__',\n",
              " '__module__',\n",
              " '__ne__',\n",
              " '__new__',\n",
              " '__reduce__',\n",
              " '__reduce_ex__',\n",
              " '__repr__',\n",
              " '__setattr__',\n",
              " '__sizeof__',\n",
              " '__str__',\n",
              " '__subclasshook__',\n",
              " '__weakref__',\n",
              " '_abc_impl',\n",
              " '_auth_obj',\n",
              " '_authenticated',\n",
              " '_cache_active',\n",
              " '_cloud_connection',\n",
              " '_download_file',\n",
              " '_get_password',\n",
              " '_login',\n",
              " '_portal_api_connection',\n",
              " '_request',\n",
              " '_response_hook',\n",
              " '_service_api_connection',\n",
              " '_session',\n",
              " 'authenticated',\n",
              " 'cache_location',\n",
              " 'disable_cloud_dataset',\n",
              " 'download_cutouts',\n",
              " 'enable_cloud_dataset',\n",
              " 'get_cutouts',\n",
              " 'get_sectors',\n",
              " 'login',\n",
              " 'logout',\n",
              " 'resolve_object',\n",
              " 'session_info']"
            ]
          },
          "metadata": {},
          "execution_count": 20
        }
      ]
    },
    {
      "cell_type": "code",
      "source": [
        "help(Tesscut.get_sectors)\n"
      ],
      "metadata": {
        "colab": {
          "base_uri": "https://localhost:8080/"
        },
        "id": "0y_0uIAXePdT",
        "outputId": "5b4fa63c-8c13-4ed6-e837-d844b550b668"
      },
      "execution_count": 21,
      "outputs": [
        {
          "output_type": "stream",
          "name": "stdout",
          "text": [
            "Help on method get_sectors in module astroquery.mast.cutouts:\n",
            "\n",
            "get_sectors(*, coordinates=None, radius=<Quantity 0. deg>, objectname=None, moving_target=False, mt_type=None) method of astroquery.mast.cutouts.TesscutClass instance\n",
            "    Get a list of the TESS data sectors whose footprints intersect\n",
            "    with the given search area.\n",
            "    \n",
            "    Parameters\n",
            "    ----------\n",
            "    coordinates : str or `astropy.coordinates` object, optional\n",
            "        The target around which to search. It may be specified as a\n",
            "        string or as the appropriate `astropy.coordinates` object.\n",
            "    \n",
            "        NOTE: If moving_target or objectname is supplied, this argument cannot be used.\n",
            "    radius : str, float, or `~astropy.units.Quantity` object, optional\n",
            "        Default 0 degrees.\n",
            "        If supplied as a float degrees is the assumed unit.\n",
            "        The string must be parsable by `~astropy.coordinates.Angle`. The\n",
            "        appropriate `~astropy.units.Quantity` object from\n",
            "        `astropy.units` may also be used.\n",
            "    \n",
            "        NOTE: If moving_target is supplied, this argument is ignored.\n",
            "    objectname : str, optional\n",
            "        The target around which to search, by name (objectname=\"M104\")\n",
            "        or TIC ID (objectname=\"TIC 141914082\"). If moving_target is True, input must be the name or ID (as understood by the\n",
            "        `JPL ephemerides service <https://ssd.jpl.nasa.gov/horizons.cgi>`__)\n",
            "        of a moving target such as an asteroid or comet.\n",
            "    \n",
            "        NOTE: If coordinates is supplied, this argument cannot be used.\n",
            "    moving_target : bool, optional\n",
            "        Indicate whether the object is a moving target or not. Default is set to False, in other words, not a moving target.\n",
            "    \n",
            "        NOTE: If coordinates is supplied, this argument cannot be used.\n",
            "    mt_type : str, optional\n",
            "        The moving target type, valid inputs are majorbody and smallbody. If not supplied\n",
            "        first majorbody is tried and then smallbody if a matching majorbody is not found.\n",
            "    \n",
            "        NOTE: If moving_target is supplied, this argument is ignored.\n",
            "    \n",
            "    Returns\n",
            "    -------\n",
            "    response : `~astropy.table.Table`\n",
            "        Sector/camera/chip information for given coordinates/objectname/moving_target.\n",
            "\n"
          ]
        }
      ]
    },
    {
      "cell_type": "code",
      "source": [
        "catalogData.pprint(max_lines=-1, max_width=-1, show_name=True, show_unit=True)"
      ],
      "metadata": {
        "colab": {
          "base_uri": "https://localhost:8080/"
        },
        "id": "26hgH58WJ1MY",
        "outputId": "20583496-9b96-4b9f-ccfa-b6bace7859b3"
      },
      "execution_count": 22,
      "outputs": [
        {
          "output_type": "stream",
          "name": "stdout",
          "text": [
            "    ID           ra               dec           pmRA     pmDEC     Tmag  objType typeSrc version   HIP      TYC         UCAC        TWOMASS      SDSS       ALLWISE               GAIA         APASS   KIC POSflag   e_pmRA   e_pmDEC  PMflag     plx       e_plx   PARflag     gallong            gallat           eclong            eclat        Bmag  e_Bmag   Vmag  e_Vmag umag e_umag gmag e_gmag rmag e_rmag imag e_imag zmag e_zmag  Jmag  e_Jmag  Hmag  e_Hmag  Kmag  e_Kmag       TWOMflag      prox w1mag  e_w1mag w2mag  e_w2mag w3mag  e_w3mag w4mag e_w4mag GAIAmag e_GAIAmag   e_Tmag   TESSflag SPFlag  Teff   e_Teff   logg    e_logg   MH e_MH   rad      e_rad     mass     e_mass     rho      e_rho    lumclass     lum         e_lum        d      e_d      ebv        e_ebv      numcont   contratio   disposition duplicate_id    priority     eneg_EBV    epos_EBV   EBVflag  eneg_Mass epos_Mass  eneg_Rad  epos_Rad  eneg_rho  epos_rho  eneg_logg epos_logg  eneg_lum  epos_lum eneg_dist epos_dist distflag eneg_Teff epos_Teff TeffFlag  gaiabp e_gaiabp  gaiarp e_gaiarp gaiaqflag starchareFlag VmagFlag BmagFlag    splists           e_RA             e_Dec           RA_orig           Dec_orig         e_RA_orig          e_Dec_orig     raddflag wdflag     dstArcSec     \n",
            "                                                                                                                                                                                                                                                                                                                                                                                                                                                                                                                                                                                                                                                                                                                                                                                                                                                                                                                                                                                                                                                                                                                                                                                                                                                                                                              \n",
            "--------- ---------------- ----------------- --------- --------- ------- ------- ------- -------- ----- ------------ ---------- ---------------- ---- ------------------- ------------------- -------- --- ------- --------- --------- ------ ----------- --------- ------- ---------------- ----------------- ---------------- ----------------- ------ ------ ------- ------ ---- ------ ---- ------ ---- ------ ---- ------ ---- ------ ------ ------ ------ ------ ------ ------ ------------------- ---- ------ ------- ------ ------- ------ ------- ----- ------- ------- --------- ---------- -------- ------ ------ ------- ------- --------- --- ---- -------- --------- -------- --------- --------- ---------- -------- ------------ ------------ ------- ------- --------- -------------- ------- ------------- ----------- ------------ ------------- ----------- ------------ -------- --------- --------- --------- --------- --------- ---------- --------- --------- --------- --------- --------- --------- -------- --------- --------- -------- ------- -------- ------- -------- --------- ------------- -------- -------- ------------- ----------------- ----------------- ---------------- ----------------- ------------------ ------------------ -------- ------ ------------------\n",
            "261105201 82.8273670408244 -79.0087723001529   3.90845   66.2115  8.3629    STAR tmgaia2 20190415 25864 9386-00380-1 055-003595 05311857-7900315   -- J053118.59-790030.8 4623417262036889344 34619050  -- tmgaia2 0.0359289 0.0396663  gaia2       4.259 0.0205434   gaia2 290.948084435706 -30.3807605962388 276.262649078495 -77.3951658426089  9.426  0.032    8.89   0.03  nan    nan  nan    nan  nan    nan  nan    nan  nan    nan   7.74  0.024  7.504  0.047  7.451  0.024 AAA-111-111-000-0-0  nan  7.468   0.033  7.484    0.02  7.453   0.017 7.269   0.073 8.74799  0.006212     0.0086    rered  gaia2 6357.0 149.883 3.53396 0.0943305 nan  nan  3.17864   0.16019     1.26  0.203093 0.0392325 0.00998116    DWARF   14.8657322     0.682107 233.218   1.126 0.0667814     0.01048091     114 0.00319674541          --           -- 0.00273649232  0.00865222    0.0123096 schlegel  0.147109  0.259077  0.171793  0.148588 0.0101741 0.00978822  0.094334  0.094327   0.57713  0.787084     1.121     1.131   bj2018   106.195    193.57    dered 9.03172 0.016764 8.29866 0.015447         1            --  hipvmag tycho2b3            -- 0.722009419698313 0.615231421143332 82.8274553035064   -79.00848722288 0.0187673519902949 0.0222859228555076        1      0                0.0\n",
            "724151530 82.8150127457216 -79.0132058191133   4.74865   6.82991 18.7511    STAR   gaia2 20190415    --           --         --               --   --                  -- 4623416884079905152       --  --   gaia2  0.469891  0.536191  gaia2   -0.254264  0.255299   gaia2 290.953737665809 -30.3819512704872 276.268529030934 -77.3903125004983    nan    nan 19.4688 0.0488  nan    nan  nan    nan  nan    nan  nan    nan  nan    nan    nan    nan    nan    nan    nan    nan                  --  nan    nan     nan    nan     nan    nan     nan   nan     nan 19.2714  0.003775      0.007    rered  gaia2 5651.0   186.0     nan       nan nan  nan      nan       nan      nan       nan       nan        nan    DWARF          nan          nan 3027.94 1062.29  0.106205 5.52010943e-06      --           nan          --           --           nan 1.07589e-05  2.81319e-07 schlegel       nan       nan       nan       nan       nan        nan       nan       nan       nan       nan    865.94   1258.63   bj2018       nan       nan    dered 19.6084 0.037365 18.6091 0.027212         1            --    gaia2       --            --   9.4424845127718   8.3165020725111 82.8151200249881 -79.0131764125749  0.221116955887979  0.303549484468757        1      0 18.072589023849726\n",
            "261105202  82.807947620659 -79.0136350375361       nan       nan 15.6838    STAR tmgaia2 20190415    --           --         -- 05311383-7900490   -- J053113.94-790048.5 4623416884079846528       --  -- tmgaia2       nan       nan     --         nan       nan      -- 290.954599678111  -30.383148452526 276.274097109959 -77.3895881263437    nan    nan     nan    nan  nan    nan  nan    nan  nan    nan  nan    nan  nan    nan 13.738  0.026 13.104  0.022 12.879  0.031 AAA-222-111-c00-0-0  nan 12.422   0.023 12.244   0.022  11.62   0.122 9.467   0.442 16.8544  0.007737     0.0105    gbprp     --    nan     nan     nan       nan nan  nan      nan       nan      nan       nan       nan        nan       --          nan          nan     nan     nan       nan            nan      --           nan          --           --           nan         nan          nan       --       nan       nan       nan       nan       nan        nan       nan       nan       nan       nan       nan       nan       --       nan       nan       -- 18.3476 0.018446    15.5 0.003537         0            --       --       --            --  2.10087766580212  2.17614281420713  82.807947620659 -79.0136350375361   2.10087766580212   2.17614281420713       -1     -1  22.00085830046711\n",
            "724151528   82.79364170498 -79.0085739998184 -0.434318   5.08809 20.1425    STAR   gaia2 20190415    --           --         --               --   --                  -- 4623416884078641664       --  --   gaia2   1.53976   1.19414  gaia2    0.540577  0.596678   gaia2 290.949698406429 -30.3870412669914 276.291543390964  -77.393892138639    nan    nan 20.6238 0.0607  nan    nan  nan    nan  nan    nan  nan    nan  nan    nan    nan    nan    nan    nan    nan    nan                  --  nan    nan     nan    nan     nan    nan     nan   nan     nan  20.515  0.009614      0.013    gbprp  gaia2    nan     nan     nan       nan nan  nan      nan       nan      nan       nan       nan        nan       --          nan          nan 1422.98 829.401  0.105829    0.001453622      --           nan          --           --           nan  0.00265652  0.000250724 schlegel       nan       nan       nan       nan       nan        nan       nan       nan       nan       nan   575.403    1083.4   bj2018       nan       nan       --  20.495 0.114642  19.789 0.102395         0            --    gaia2       --            --  30.9411225893414  18.5205510105321  82.793631897156 -79.0085520927642  0.710842636193953  0.649180748962275        1      1 23.159314515450856\n",
            "724151541 82.8606445683429 -79.0110416543022   4.07718   2.10827 19.6238    STAR   gaia2 20190415    --           --         --               --   --                  -- 4623417257740285312       --  --   gaia2   1.48543   1.13434  gaia2    0.324775  0.614004   gaia2 290.948826254717 -30.3740533782591 276.231977238556  -77.394396221572    nan    nan 21.0306 0.1524  nan    nan  nan    nan  nan    nan  nan    nan  nan    nan    nan    nan    nan    nan    nan    nan                  --  nan    nan     nan    nan     nan    nan     nan   nan     nan 20.4613  0.008399     0.0647    gbprp  gaia2    nan     nan     nan       nan nan  nan      nan       nan      nan       nan       nan        nan       --          nan          nan 1563.01 871.818  0.106415  0.00100949849      --           nan          --           --           nan  0.00187939  0.000139607 schlegel       nan       nan       nan       nan       nan        nan       nan       nan       nan       nan   627.986   1115.65   bj2018       nan       nan       --  20.858 0.228254 19.0929 0.054683         0            --    gaia2       --            --  29.8495965508676  17.5925292103957  82.860736660158 -79.0110325770424  0.676901365519232  0.600720954959814        1      0 24.255651157087577\n",
            "724151542 82.8216413494503 -79.0013754001421       nan       nan 20.9637    STAR   gaia2 20190415    --           --         --               --   --                  -- 4623417262036347008       --  --   gaia2       nan       nan     --         nan       nan      -- 290.940080560962 -30.3836377442198 276.275255787728 -77.4021201954909    nan    nan 20.9928 0.0575  nan    nan  nan    nan  nan    nan  nan    nan  nan    nan    nan    nan    nan    nan    nan    nan                  --  nan    nan     nan    nan     nan    nan     nan   nan     nan 20.9739  0.025434     0.3174    gbprp     --    nan     nan     nan       nan nan  nan      nan       nan      nan       nan       nan        nan       --          nan          nan     nan     nan       nan            nan      --           nan          --           --           nan         nan          nan       --       nan       nan       nan       nan       nan        nan       nan       nan       nan       nan       nan       nan       --       nan       nan       -- 20.4225 0.737941 20.3545 0.229221        --            --    gaia2       --            --  4.21803630228264  3.67658093075091 82.8216413494503 -79.0013754001421   4.21803630228264   3.67658093075091       --      0  26.91746454642673\n",
            "261105203 82.8415696595951 -79.0158237450601   5.82892   13.2639 16.9587    STAR tmgaia2 20190415    --           --         -- 05312204-7900569   -- J053121.33-790055.9 4623416879783122560       --  -- tmgaia2  0.128572  0.150332  gaia2    0.450337 0.0775637   gaia2 290.955234797315 -30.3764018560971 276.243228950293 -77.3889143185166 13.132  0.163 17.7236 0.0462  nan    nan  nan    nan  nan    nan  nan    nan  nan    nan 16.266  0.111 15.552  0.145 15.357  0.181 BBC-222-111-ccc-0-0  nan  14.99    0.04 14.745    0.05 12.452     nan 9.427     nan 17.5061  0.001084     0.0061    rered  gaia2 5488.0   129.0 4.72511       nan nan  nan 0.704065       nan     0.96       nan   2.75063        nan    DWARF    0.4051135          nan 2023.63 330.375  0.106392   3.088825e-05      --           nan          --           --           nan 4.58341e-05  1.59424e-05 schlegel       nan       nan       nan       nan       nan        nan       nan       nan       nan       nan     281.5    379.25   bj2018       nan       nan    dered 17.9503 0.013041 16.8955 0.006241         1            --    gaia2     bpbj            --  2.58387832221396  2.33162077165489 82.8417013747986 -79.0157666366357 0.0680117499015116 0.0829158699920038        1      0  27.19148798447293\n",
            "261105200 82.7799200945776 -79.0072940970705   3.20376   4.58037 16.8404    STAR tmgaia2 20190415    --           -- 055-003592 05310710-7900260   --                  -- 4623416948502349696       --  -- tmgaia2  0.135744  0.140087  gaia2    0.393393 0.0710276   gaia2 290.949009163024 -30.3898925652171 276.304555643786 -77.3945393118274    nan    nan 17.5615 0.0461  nan    nan  nan    nan  nan    nan  nan    nan  nan    nan 16.114  0.104 15.518  0.137 15.682  0.246 ABD-222-111-ccc-0-0  nan    nan     nan    nan     nan    nan     nan   nan     nan 17.3627  0.001001     0.0061    rered  gaia2 5639.0   128.0 4.63975       nan nan  nan  0.79279       nan      1.0       nan    2.0069        nan    DWARF  0.572557151          nan 2268.63  375.68   0.10604 1.30355647e-05      --           nan          --           --           nan 2.01991e-05  5.87203e-06 schlegel       nan       nan       nan       nan       nan        nan       nan       nan       nan       nan    319.95    431.41   bj2018       nan       nan    dered 17.7764 0.010105 16.7732 0.008381         1            --    gaia2       --            --  2.72777693640674  2.17260865897623 82.7799924339693 -79.0072743760418  0.069156774069351  0.073987002954992        1      0  33.00027893549906\n",
            "724151527 82.8010745455708 -79.0188194541866   2.08763    12.873 18.0431    STAR   gaia2 20190415    --           --         --               --   --                  -- 4623416879783110528       --  --   gaia2  0.262534  0.289547  gaia2   0.0907052  0.147836   gaia2  290.96080305492 -30.3831410817691 276.274507594795 -77.3842411399254    nan    nan 18.8491 0.0478  nan    nan  nan    nan  nan    nan  nan    nan  nan    nan    nan    nan    nan    nan    nan    nan                  --  nan    nan     nan    nan     nan    nan     nan   nan     nan 18.6134  0.002261      0.007    rered  gaia2 5355.0   153.0 4.73026       nan nan  nan 0.688885       nan     0.93       nan   2.84475        nan    DWARF    0.3515811          nan 3116.01 959.065  0.106055 2.57905958e-06      --           nan          --           --           nan 4.96655e-06  1.91569e-07 schlegel       nan       nan       nan       nan       nan        nan       nan       nan       nan       nan    775.09   1143.04   bj2018       nan       nan    dered 19.0689 0.029605 17.9663 0.017674         1            --    gaia2       --            --    5.276044838203  4.49078654281066 82.8011217321295 -79.0187640287845   0.13284246445971  0.158785253178904        1      0  40.41819118600296\n",
            "261105198 82.8739638438809 -79.0013309063771   5.65842   11.3712 15.5468    STAR tmgaia2 20190415    --           -- 055-003601 05312978-7900046   -- J053129.82-790005.0 4623417296396628224       --  -- tmgaia2 0.0635711 0.0732469  gaia2     1.10851 0.0365022   gaia2  290.93719227446 -30.3739742882207 276.230714322849  -77.404429887416 18.308  0.104  16.372  0.126  nan    nan  nan    nan  nan    nan  nan    nan  nan    nan 14.444  0.029 13.855  0.042 13.779  0.062 AAA-222-111-000-0-0  nan 13.488   0.024 13.529   0.027 12.582     nan 9.686     nan 16.2862  0.000686      0.006    rered  gaia2 4550.0   122.0 4.42284       nan nan  nan 0.863531       nan     0.72       nan   1.11815        nan    DWARF   0.28793633          nan 879.658  28.474  0.103997    0.000308089      --           nan          --           --           nan 0.000316889  0.000299289 schlegel       nan       nan       nan       nan       nan        nan       nan       nan       nan       nan     27.57    29.378   bj2018       nan       nan    dered 16.9721 0.006779 15.4931 0.002184         1            --    ucac4     bpbj            --  1.27740947788521    1.136025638719 82.8740915399234   -79.00128194707 0.0325109270884985 0.0398367723416589        1      0  41.72803749422988\n",
            "261105206   82.84363975573  -79.020675828888   2.71245   1.74415 15.4445    STAR tmgaia2 20190415    --           -- 055-003597 05312250-7901143   -- J053122.47-790114.1 4623416884079768192       --  -- tmgaia2 0.0550275 0.0637257  gaia2    0.962612 0.0322872   gaia2 290.960573706582 -30.3748261980764 276.236427362801 -77.3842783515417 18.048  0.109  16.251  1.133  nan    nan  nan    nan  nan    nan  nan    nan  nan    nan 14.555  0.033  14.12  0.051 13.907  0.051 AAA-222-111-000-0-0  nan 13.882   0.024 13.987   0.029 12.597     nan 9.121     nan 16.0669  0.000612      0.006    rered  gaia2 5072.0   122.0  4.5394       nan nan  nan 0.820431       nan     0.85       nan   1.53919        nan    DWARF  0.401324719          nan 1008.88  33.122  0.104942   0.0002069265      --           nan          --           --           nan 0.000214769  0.000199084 schlegel       nan       nan       nan       nan       nan        nan       nan       nan       nan       nan    32.054     34.19   bj2018       nan       nan    dered 16.6043 0.002393 15.3904 0.002121         1            --    ucac4     bpbj            --   1.1059142763825 0.988351868764218  82.843701075304 -79.0206683193594 0.0291975354519224 0.0345342375332043        1      0  44.28284201960895\n",
            "261105193 82.8547290371886 -78.9941998526593  -4.76777   16.0547 17.4035    STAR tmgaia2 20190415    --           --         -- 05312514-7859390   -- J053125.11-785938.9 4623417292099983360       --  -- tmgaia2  0.281381  0.300922  gaia2     1.62404  0.164147   gaia2  290.93022339339 -30.3792828702546 276.254527185404 -77.4105433991529 20.744  0.196  19.701 0.0674  nan    nan  nan    nan  nan    nan  nan    nan  nan    nan 15.925  0.087 15.395  0.121 15.194  0.153 ABC-222-111-000-0-0  nan 14.926   0.028 14.845   0.038 13.287     nan 9.655     nan 18.5948  0.002193  0.0193608    cdwrf  cdwrf 3439.0   159.0 4.82125 0.0346428 nan  nan 0.405898 0.0407233 0.398123 0.0481617   5.95342    1.08851    DWARF 0.0207614284  0.008105898 611.206  64.481 0.0985536     0.00214651      --           nan          --           --           nan  0.00221835   0.00207467 schlegel       nan       nan       nan       nan       nan        nan       nan       nan       nan       nan    57.886    71.076   bj2018       nan       nan    cdwrf 19.9443 0.053604  17.457 0.018983         1            --    gaia2     bpbj cooldwarfs_v8   5.6538329452191  4.66703931057984 82.8546215096916 -78.9941307282749  0.143473697559705  0.160141792847878        1      0 55.725266638570325\n",
            "724151529 82.8682831615086 -79.0240177692231   5.97274  -2.75017 18.7643    STAR   gaia2 20190415    --           --         --               --   --                  -- 4623416884079768704       --  --   gaia2  0.622964  0.720679  gaia2     2.22164  0.320313   gaia2 290.962991625991 -30.3694560298585  276.21203651681 -77.3820860413292    nan    nan 20.5663 0.0993  nan    nan  nan    nan  nan    nan  nan    nan  nan    nan    nan    nan    nan    nan    nan    nan                  --  nan    nan     nan    nan     nan    nan     nan   nan     nan 19.7343  0.005167     0.0298    gbprp  gaia2    nan     nan     nan       nan nan  nan      nan       nan      nan       nan       nan        nan       --          nan          nan 456.421 74.9805 0.0912591    0.004735595      --           nan          --           --           nan  0.00473075   0.00474044 schlegel       nan       nan       nan       nan       nan        nan       nan       nan       nan       nan    63.182    86.779   bj2018       nan       nan       -- 20.6781 0.114216 18.5294   0.0255         0            --    gaia2       --            --  12.5199839334724  11.1771297652005 82.8684182261248 -79.0240296102627  0.311253435903708  0.384203309500756        1      0 61.642762933538016\n",
            "724151543  82.788243213244 -78.9930769200341   4.11862   3.24141  20.006    STAR   gaia2 20190415    --           --         --               --   --                  -- 4623417365114973184       --  --   gaia2   1.68189   1.25559  gaia2    0.880543   0.62747   gaia2 290.932582716212 -30.3918622021778 276.312399630253 -77.4087422349902    nan    nan 20.7408  0.081  nan    nan  nan    nan  nan    nan  nan    nan  nan    nan    nan    nan    nan    nan    nan    nan                  --  nan    nan     nan    nan     nan    nan     nan   nan     nan 20.5362  0.009045     0.0109    rered  gaia2    nan     nan     nan       nan nan  nan      nan       nan      nan       nan       nan        nan    DWARF          nan          nan 1176.56 759.562    0.1055  0.00283581251      --           nan          --           --           nan   0.0049597  0.000711925 schlegel       nan       nan       nan       nan       nan        nan       nan       nan       nan       nan   486.455   1032.67   bj2018       nan       nan       -- 20.9149 0.156751 19.8955 0.095812         1            --    gaia2       --            --  33.7912132895997  19.4728289039234 82.7883360911042 -78.9930629639773  0.666579747068631  0.659878333822474        1      1   62.5680165900707\n",
            "261105207 82.8834915556568 -79.0226972660007   2.45022   11.4346 16.3425    STAR tmgaia2 20190415    --           --         -- 05313203-7901216   -- J053131.94-790121.3 4623416123868865536       --  -- tmgaia2 0.0898902  0.111759  gaia2    0.277635 0.0489934   gaia2 290.960684162697 -30.3669729050503 276.200487083863 -77.3840264328812 17.332  0.132 16.9751 0.0461  nan    nan  nan    nan  nan    nan  nan    nan  nan    nan 15.698  0.076  15.04  0.075 14.981  0.149 AAB-222-111-000-0-0  nan 14.998   0.027 14.829   0.038 12.444     nan  9.74     nan 16.8119  0.000759      0.006    rered  gaia2 5981.0   129.0 4.31276       nan nan  nan  1.21158       nan      1.1       nan  0.618497        nan    DWARF     1.692362          nan 3052.97  452.28  0.106809    6.60009e-07      --           nan          --           --           nan 1.09483e-06  2.25188e-07 schlegel       nan       nan       nan       nan       nan        nan       nan       nan       nan       nan    392.77    511.79   bj2018       nan       nan    dered 17.1736 0.012262 16.2762  0.00439         1            --    gaia2     bpbj            --  1.80653960516085  1.73328184819527  82.883546957148 -79.0226480336998 0.0456311580091997 0.0593773300424895        1      0  63.20689684775023\n",
            "724151499 82.9064361197833 -79.0216889256942   1.57093   5.51237 18.3792    STAR   gaia2 20190415    --           --         --               --   --                  -- 4623416501825987712       --  --   gaia2   0.34609  0.428591  gaia2    0.305768  0.183245   gaia2 290.958309951421 -30.3629840298977 276.182035347786 -77.3859931620148    nan    nan 18.9816 0.0473  nan    nan  nan    nan  nan    nan  nan    nan  nan    nan    nan    nan    nan    nan    nan    nan                  --  nan    nan     nan    nan     nan    nan     nan   nan     nan 18.8298  0.002587     0.0078    rered  gaia2 6104.0   172.0     nan       nan nan  nan      nan       nan      nan       nan       nan        nan    DWARF          nan          nan 2224.46  766.73  0.107024 5.14813037e-05      --           nan          --           --           nan  9.4528e-05  8.43461e-06 schlegel       nan       nan       nan       nan       nan        nan       nan       nan       nan       nan    586.28    947.18   bj2018       nan       nan    dered 19.1707 0.028576   18.31 0.022498         1            --    gaia2       --            --  6.95531444195455  6.64725506946254 82.9064716365813 -79.0216651918808  0.171660547583314  0.233277795203767        1      0   71.4432022617225\n",
            "724151525 82.7935331218781 -79.0293833972727   2.63598   14.4247 19.1888    STAR   gaia2 20190415    --           --         --               --   --                  -- 4623416849718407936       --  --   gaia2  0.863947  0.967515  gaia2     1.21626  0.524223   gaia2 290.973080715057 -30.3819254372167  276.26987025376  -77.373628323776    nan    nan  20.969 0.1317  nan    nan  nan    nan  nan    nan  nan    nan  nan    nan    nan    nan    nan    nan    nan    nan                  --  nan    nan     nan    nan     nan    nan     nan   nan     nan 20.1522  0.005806      0.044    gbprp  gaia2    nan     nan     nan       nan nan  nan      nan       nan      nan       nan       nan        nan       --          nan          nan 904.504 564.963  0.103673    0.004556375      --           nan          --           --           nan  0.00690465    0.0022081 schlegel       nan       nan       nan       nan       nan        nan       nan       nan       nan       nan    328.13   801.796   bj2018       nan       nan       -- 21.0732 0.163024 18.9448 0.030187         0            --    gaia2       --            --  17.3654332842963  15.0045691399175 82.7935927594352 -79.0293212909308  0.486818907545271  0.492552232518828        1      0  77.74267972020652\n",
            "261105195 82.7243353303393 -78.9986698517389   7.15179   26.3177 18.4465    STAR tmgaia2 20190415    --           --         -- 05305386-7859551   -- J053053.90-785954.8 4623416948502596352       --  -- tmgaia2  0.502319  0.625736  gaia2     2.62195  0.299036   gaia2 290.942362083785 -30.4022995779513 276.360941554716 -77.4004935053157    nan    nan 20.6736 0.1436  nan    nan  nan    nan  nan    nan  nan    nan  nan    nan 16.456  0.139 15.665  0.143 15.897    nan BCU-220-110-000-0-0  nan 15.544   0.032  15.56   0.063 12.869     nan 9.119     nan 19.5495  0.004047     0.0074    rered  gaia2 3591.0   159.0     nan       nan nan  nan      nan       nan      nan       nan       nan        nan    DWARF          nan          nan 384.137   47.55 0.0852628     0.00411779      --           nan          --           --           nan  0.00403509   0.00420049 schlegel       nan       nan       nan       nan       nan        nan       nan       nan       nan       nan    41.843    53.257   bj2018       nan       nan    dered 20.7918  0.15364  18.284 0.022863         1            --    gaia2       --            --  10.0937242481685  9.70419125525229 82.7244966893578 -78.9985565394611  0.261951008600437  0.320174212033085        1      0  79.55040255480121\n",
            "261105212 82.8032017432026 -79.0313807736119  -1.92878   6.37425 14.2394    STAR tmgaia2 20190415    --           -- 055-003594 05311279-7901529   -- J053112.76-790152.8 4623416849720029696 34619021  -- tmgaia2 0.0322119 0.0385307  gaia2    0.351425 0.0205644   gaia2 290.974797964582 -30.3796495190777 276.259591732154 -77.3721032877824 16.402  0.043  15.246  0.172  nan    nan  nan    nan  nan    nan  nan    nan  nan    nan  13.23  0.024 12.622  0.022 12.543  0.027 AAA-222-111-000-0-0  nan 12.496   0.023  12.59   0.023 12.065   0.153 9.059     nan 14.9191  0.000321      0.006    rered  gaia2 4800.0   122.0     nan       nan nan  nan  4.16131       nan      nan       nan       nan        nan    GIANT          nan          nan 2612.31 142.785  0.105983 1.01719047e-06      --           nan          --           --           nan 1.26602e-06  7.68361e-07 schlegel       nan       nan       nan       nan       nan        nan       nan       nan       nan       nan    135.22    150.35   bj2018       nan       nan    dered 15.5264 0.001763 14.1858 0.001322         1            --    ucac4 apassdr9            -- 0.647445667974513  0.59758107565034 82.8031580977983 -79.0313533289283 0.0177541603381839 0.0206016035102876        0      0   83.0599954893794\n",
            "724151500 82.9400133475001 -79.0181303710292 -0.715525    2.8229   17.78    STAR   gaia2 20190415    --           --         --               --   --                  -- 4623416501825990144       --  --   gaia2  0.222205  0.285724  gaia2    0.405879  0.123534   gaia2 290.952498168965 -30.3576533409376  276.15714981741 -77.3908963475534    nan    nan 18.6774 0.0474  nan    nan  nan    nan  nan    nan  nan    nan  nan    nan    nan    nan    nan    nan    nan    nan                  --  nan    nan     nan    nan     nan    nan     nan   nan     nan 18.3993  0.001848     0.0066    rered  gaia2 5097.0   139.0 4.85088       nan nan  nan 0.576557       nan     0.86       nan   4.48716        nan    DWARF  0.202133134          nan 2094.66 543.205  0.107289    4.56675e-05      --           nan          --           --           nan 7.73087e-05  1.40263e-05 schlegel       nan       nan       nan       nan       nan        nan       nan       nan       nan       nan    429.34    657.07   bj2018       nan       nan    dered 18.8826 0.019702 17.6759 0.019406         1            --    gaia2       --            --   4.4654899623759  4.43134601865041 82.9399971755363 -79.0181182168767  0.110129500828103  0.152476174285877        1      0   84.3081963598266\n",
            "724151501 82.9390062861857 -79.0186383553161    1.5483  0.555888 18.8627    STAR   gaia2 20190415    --           --         --               --   --                  -- 4623416506121032064       --  --   gaia2  0.606155   0.73233  gaia2   -0.228213  0.326383   gaia2 290.953123348106 -30.3577152620424 276.157485094147  -77.390358301789    nan    nan 19.9355 0.0801  nan    nan  nan    nan  nan    nan  nan    nan  nan    nan    nan    nan    nan    nan    nan    nan                  --  nan    nan     nan    nan     nan    nan     nan   nan     nan 19.5626  0.004989     0.0546    gbprp  gaia2    nan     nan     nan       nan nan  nan      nan       nan      nan       nan       nan        nan       --          nan          nan 2591.21 1005.82  0.107303 2.74711256e-05      --           nan          --           --           nan  5.3131e-05  1.81125e-06 schlegel       nan       nan       nan       nan       nan        nan       nan       nan       nan       nan    803.66   1207.98   bj2018       nan       nan       -- 19.9845 0.001034 18.5719 0.131853         0            --    gaia2       --            --  12.1817126403793    11.35807818252 82.9390412817422 -79.0186359619114  0.303412994016968   0.39765343832463        1      0  84.42657623989092\n",
            "724151509 82.9000346865217 -78.9894358300008       nan       nan 20.5791    STAR   gaia2 20190415    --           --         --               --   --                  -- 4623416643561293952       --  --   gaia2       nan       nan     --         nan       nan      --   290.9224070604 -30.3720614569825 276.220816451215 -77.4171424157394    nan    nan     nan    nan  nan    nan  nan    nan  nan    nan  nan    nan  nan    nan    nan    nan    nan    nan    nan    nan                  --  nan    nan     nan    nan     nan    nan     nan   nan     nan 21.0091  0.017316        0.6    goffs     --    nan     nan     nan       nan nan  nan      nan       nan      nan       nan       nan        nan       --          nan          nan     nan     nan       nan            nan      --           nan          --           --           nan         nan          nan       --       nan       nan       nan       nan       nan        nan       nan       nan       nan       nan       nan       nan       --       nan       nan       --     nan      0.0     nan      0.0        --            --       --       --            --  1.50263783925894  2.39238291932161 82.9000346865217 -78.9894358300008   1.50263783925894   2.39238291932161       --      0  85.66077456408853\n",
            "261105190 82.8500399889585 -78.9848200739965  -2.45174   2.21855 17.0412    STAR tmgaia2 20190415    --           --         -- 05312423-7859056   -- J053124.00-785905.2 4623417395179202560       --  -- tmgaia2  0.142929  0.172134  gaia2    0.579145 0.0891993   gaia2 290.919938259162 -30.3824539231432 276.268308543415 -77.4194745546924 18.215  0.146 17.8992 0.0463  nan    nan  nan    nan  nan    nan  nan    nan  nan    nan 16.094  0.095 15.692  0.157 15.729  0.265 ACD-222-111-000-0-0  nan 15.667   0.033 16.176   0.102  13.28     nan  9.48     nan 17.6397  0.001156     0.0061    rered  gaia2 5203.0   128.0 4.82251       nan nan  nan 0.602588       nan     0.88       nan    4.0218        nan    DWARF  0.239746034          nan 1624.21 249.395  0.106569   0.0001183115      --           nan          --           --           nan  0.00016048   7.6143e-05 schlegel       nan       nan       nan       nan       nan        nan       nan       nan       nan       nan    213.93    284.86   bj2018       nan       nan    dered 18.1545 0.014279 16.9923 0.005868         1            --    gaia2     bpbj            --  2.87176993025334  2.66981303692798 82.8499847413803 -78.9848105219111 0.0756557938884476 0.0962640858348663        1      0  87.62402313947507\n",
            "724151531 82.7009568314312 -79.0048819430578  -1.39896   3.35481 20.9819    STAR   gaia2 20190415    --           --         --               --   --                  -- 4623416952798113920       --  --   gaia2    2.2277   1.90917  gaia2    0.771866  0.814416   gaia2 290.950622203302 -30.4050796024929 276.374244897716 -77.3934184145062    nan    nan 20.7736  0.055  nan    nan  nan    nan  nan    nan  nan    nan  nan    nan    nan    nan    nan    nan    nan    nan                  --  nan    nan     nan    nan     nan    nan     nan   nan     nan 20.7452  0.012325     0.0072    rered  gaia2    nan     nan     nan       nan nan  nan      nan       nan      nan       nan       nan        nan       --          nan          nan 1254.65 825.408  0.105362    0.002780335      --           nan          --           --           nan  0.00505099   0.00050968 schlegel       nan       nan       nan       nan       nan        nan       nan       nan       nan       nan   560.796   1090.02   bj2018       nan       nan       -- 20.1341 0.291339 20.4041 0.135363        --            --    gaia2       --            --  44.7618686838464  29.6021557442593 82.7009252504174 -79.0048674987385  0.801838000975228  0.770175855993973       --      0  87.90237768831796\n",
            "261105210 82.8913714697073 -79.0301037384022   17.2642   11.3843  18.337    STAR tmgaia2 20190415    --           --         -- 05313393-7901482   -- J053133.97-790148.6 4623416128165525120       --  -- tmgaia2   3.91277   3.92134   hsoy         nan       nan      -- 290.968579579533 -30.3637021098484  276.18615547977 -77.3771487772277 21.812  0.213 20.6305 0.1146  nan    nan  nan    nan  nan    nan  nan    nan  nan    nan 16.387  0.129 15.808  0.191 15.676    nan BCU-220-110-000-0-0  nan 15.502   0.032 15.308   0.053 13.318     nan  9.73     nan 19.4379  0.003795     0.0274    gbprp     --    nan     nan     nan       nan nan  nan      nan       nan      nan       nan       nan        nan    DWARF          nan          nan     nan     nan       nan            nan      --           nan          --           --           nan         nan          nan       --       nan       nan       nan       nan       nan        nan       nan       nan       nan       nan       nan       nan       --       nan       nan       -- 20.7734 0.114711 18.1885 0.019288         0            --    gaia2     bpbj            --  78.6464718739918  60.7817582570285 82.8917620878049 -79.0300547229144  0.264240172439897  0.346604995573023        1      0  88.45003096454134\n",
            "724151526 82.8536500847426 -79.0337366370704   4.98142   7.33349 19.1864    STAR   gaia2 20190415    --           --         --               --   --                  -- 4623416849718619392       --  --   gaia2   1.04573   1.15357  gaia2  -0.0399472  0.546217   gaia2 290.974703979057 -30.3697670937631 276.214389425853 -77.3719891324126    nan    nan 20.9873   0.12  nan    nan  nan    nan  nan    nan  nan    nan  nan    nan    nan    nan    nan    nan    nan    nan                  --  nan    nan     nan    nan     nan    nan     nan   nan     nan 20.1726  0.005685      0.018    rered  gaia2 3873.0   162.0 4.79935       nan nan  nan 0.511014       nan      0.6       nan   4.49627        nan    DWARF 0.0529359132          nan 1872.01  926.85   0.10641 0.000371150352      --           nan          --           --           nan 0.000704599  3.77017e-05 schlegel       nan       nan       nan       nan       nan        nan       nan       nan       nan       nan    701.07   1152.63   bj2018       nan       nan    dered 21.1401 0.140066 19.0146 0.050987         1            --    gaia2       --            --  21.0181093614817  17.8918488239297 82.8537628307405 -79.0337050623433  0.510487293089778  0.641774591369865        1      0  91.66032777975155\n",
            "724151508 82.9300807264665  -78.991294713978 -0.488275   4.25711 18.2338    STAR   gaia2 20190415    --           --         --               --   --                  -- 4623416639264955520       --  --   gaia2  0.269163  0.321256  gaia2    0.188905  0.159092   gaia2 290.922875278192 -30.3660450886026 276.193221628904 -77.4166229759926    nan    nan 19.0374 0.0474  nan    nan  nan    nan  nan    nan  nan    nan  nan    nan    nan    nan    nan    nan    nan    nan                  --  nan    nan     nan    nan     nan    nan     nan   nan     nan 18.8028  0.002155     0.0125    rered  gaia2 5366.0   147.0 4.93845       nan nan  nan 0.542065       nan     0.93       nan   5.83886        nan    DWARF  0.219482929          nan 2685.85  852.62  0.106946   1.061066e-05      --           nan          --           --           nan 2.00263e-05  1.19502e-06 schlegel       nan       nan       nan       nan       nan        nan       nan       nan       nan       nan    675.34    1029.9   bj2018       nan       nan    dered 19.2921 0.026962 18.1924 0.013942         1            --    gaia2       --            --  5.40824754344428  4.98244084612673 82.9300697172728 -78.9912763847548  0.138108111987723  0.172090738065783        1      0  94.53494583509136\n",
            "261105213 82.8849008512923 -79.0332914879049   -2.2084   60.9996 17.0678    STAR tmgaia2 20190415    --           --         -- 05313241-7901596   -- J053132.38-790159.1 4623416089509123584       --  -- tmgaia2  0.258943  0.322682  gaia2     3.55275  0.147135   gaia2 290.972511234583 -30.3641136306868 276.188357131796 -77.3737655984946 21.572  0.167     nan    nan  nan    nan  nan    nan  nan    nan  nan    nan  nan    nan 15.126  0.047 14.493  0.057 14.294  0.088 AAA-222-111-000-0-0  nan 14.049   0.025 13.863   0.028 13.258   0.478  9.62     nan 18.5364  0.002061  0.0129212    cdwrf  cdwrf 3128.0   164.0 4.92143 0.0082215 nan  nan 0.303895 0.0169364 0.281066 0.0259657   10.0147   0.749275    DWARF  0.007965422  0.002582786  279.93  11.646 0.0742314     0.00160735      --           nan          --           --           nan  0.00158143   0.00163327 schlegel       nan       nan       nan       nan       nan        nan       nan       nan       nan       nan    11.171    12.121   bj2018       nan       nan    cdwrf 20.2887 0.113733 17.1706 0.007529         1            --       --     bpbj cooldwarfs_v8  5.20435542681738  5.00450999565111  82.884850869904 -79.0330288507402  0.128654746264647  0.171487108935016        1      0     96.68204959978\n",
            "724151555 82.7045228330303  -78.991679472137   5.62896   10.0213 17.5082    STAR   gaia2 20190415    --           --         --               --   --                  -- 4623417536914792576       --  --   gaia2   0.17726  0.224804  gaia2    0.369486  0.106802   gaia2 290.935597257601 -30.4076966470655 276.385227497041  -77.406419511675    nan    nan  18.373 0.0472  nan    nan  nan    nan  nan    nan  nan    nan  nan    nan    nan    nan    nan    nan    nan    nan                  --  nan    nan     nan    nan     nan    nan     nan   nan     nan 18.1103  0.001437     0.0065    rered  gaia2 5182.0   139.0 4.71118       nan nan  nan 0.684992       nan     0.88       nan   2.73795        nan    DWARF  0.304828584          nan 2271.33  542.07  0.106264   2.175425e-05      --           nan          --           --           nan 3.70573e-05   6.4512e-06 schlegel       nan       nan       nan       nan       nan        nan       nan       nan       nan       nan    436.37    647.77   bj2018       nan       nan    dered 18.6188 0.025166 17.4488 0.009571         1            --    gaia2       --            --  3.56167782978468  3.48634582078214 82.7046497542348 -78.9916363248991 0.0916416704292322  0.114593859526073        1      0  104.4350775386371\n",
            "724151519 82.7854186058623 -79.0377890257061   1.28646   8.04534 19.5114    STAR   gaia2 20190415    --           --         --               --   --                  -- 4623416742346157952       --  --   gaia2   1.13235   1.04546  gaia2   -0.470472  0.528152   gaia2 290.982964447226 -30.3813449297608 276.267966192531  -77.365092276374    nan    nan 20.7475 0.0978  nan    nan  nan    nan  nan    nan  nan    nan  nan    nan    nan    nan    nan    nan    nan    nan                  --  nan    nan     nan    nan     nan    nan     nan   nan     nan 20.2903  0.006996     0.0262    rered  gaia2 4420.0   263.0     nan       nan nan  nan      nan       nan      nan       nan       nan        nan    DWARF          nan          nan 2185.61 982.705  0.105854 0.000131271459      --           nan          --           --           nan  0.00025265  9.89293e-06 schlegel       nan       nan       nan       nan       nan        nan       nan       nan       nan       nan    771.37   1194.04   bj2018       nan       nan    dered 20.9173 0.147417 19.3438 0.051328         1            --    gaia2       --            --  22.7602547223667  16.2131157651828 82.7854477333366 -79.0377543860489  0.578855934105753  0.524489636046869        1      0 108.34558185577461\n",
            "724151510 82.9562387257517  -78.991386673238   6.39746   6.30506 17.9095    STAR   gaia2 20190415    --           --         --               --   --                  -- 4623416673624694272       --  --   gaia2  0.227335  0.274252  gaia2   0.0428892  0.133553   gaia2 290.921566168236 -30.3611785467975 276.170782497618 -77.4176538517704    nan    nan 18.6263 0.0472  nan    nan  nan    nan  nan    nan  nan    nan  nan    nan    nan    nan    nan    nan    nan    nan                  --  nan    nan     nan    nan     nan    nan     nan   nan     nan 18.4293  0.001877     0.0151    rered  gaia2 5658.0   154.0 4.70389       nan nan  nan 0.736358       nan      1.0       nan   2.50457        nan    DWARF    0.5006391          nan 3463.97  1004.2  0.107074   7.429539e-07      --           nan          --           --           nan 1.44324e-06  4.26678e-08 schlegel       nan       nan       nan       nan       nan        nan       nan       nan       nan       nan     825.5   1182.89   bj2018       nan       nan    dered 18.8637 0.026346 17.8655 0.016038         1            --    gaia2       --            --  4.56780262468653  4.25340974667945 82.9563829712249 -78.9913595264857  0.116596224909056  0.145920020256857        1      0  108.4139752760977\n",
            "724151544 82.7380255007049 -78.9836804548444       nan       nan 20.6905    STAR   gaia2 20190415    --           --         --               --   --                  -- 4623417365115706624       --  --   gaia2       nan       nan     --         nan       nan      -- 290.924768645675 -30.4034761593802 276.365158096171 -77.4156820586196    nan    nan     nan    nan  nan    nan  nan    nan  nan    nan  nan    nan  nan    nan    nan    nan    nan    nan    nan    nan                  --  nan    nan     nan    nan     nan    nan     nan   nan     nan 21.1205  0.028663        0.6    goffs     --    nan     nan     nan       nan nan  nan      nan       nan      nan       nan       nan        nan       --          nan          nan     nan     nan       nan            nan      --           nan          --           --           nan         nan          nan       --       nan       nan       nan       nan       nan        nan       nan       nan       nan       nan       nan       nan       --       nan       nan       --     nan      0.0     nan      0.0        --            --       --       --            --  6.46720021073875  1.90771139059581 82.7380255007049 -78.9836804548444   6.46720021073875   1.90771139059581       --      0  109.2173328087521\n",
            "261105205 82.6780228141684 -79.0195635744346   2.39197   12.2823 17.9434    STAR tmgaia2 20190415    --           --         -- 05304276-7901102   -- J053042.66-790109.7 4623417021518798592       --  -- tmgaia2  0.319724  0.373905  gaia2    0.590081  0.191554   gaia2 290.968370554503 -30.4056650415454 276.378134342076 -77.3781234373439 20.148  0.191  19.426 0.0577  nan    nan  nan    nan  nan    nan  nan    nan  nan    nan 16.658  0.157 16.182  0.259 15.818  0.273 CDD-222-111-000-0-0  nan 15.596   0.033 15.637   0.068  13.21     nan 9.289     nan 18.8205  0.002485     0.0065    rered  gaia2 4064.0   135.0 4.59072       nan nan  nan 0.671064       nan     0.64       nan   2.11782        nan    DWARF  0.110671774          nan 1549.32 494.335  0.105473    0.000345938      --           nan          --           --           nan 0.000555491  0.000136385 schlegel       nan       nan       nan       nan       nan        nan       nan       nan       nan       nan    368.51    620.16   bj2018       nan       nan    dered  19.693 0.052115 17.8703 0.016959         1            --    gaia2     bpbj            --  6.42573661080071  5.79880219550571 82.6780768833334 -79.0195106923139  0.174120163100717   0.19485353305926        1      0 109.57378504246928\n",
            "724151534 82.6739635434946 -79.0174907918518   6.06259   3.33594 19.5824    STAR   gaia2 20190415    --           --         --               --   --                  -- 4623417017222116864       --  --   gaia2   1.33568   1.28929  gaia2     1.42412  0.658155   gaia2 290.966265864636 -30.4069297068588  276.38377821615 -77.3799601741169    nan    nan 21.1763  0.188  nan    nan  nan    nan  nan    nan  nan    nan  nan    nan    nan    nan    nan    nan    nan    nan                  --  nan    nan     nan    nan     nan    nan     nan   nan     nan 20.4862  0.007962     0.0746    gbprp  gaia2    nan     nan     nan       nan nan  nan      nan       nan      nan       nan       nan        nan       --          nan          nan 827.817 609.066  0.102494    0.006350245      --           nan          --           --           nan  0.00962916   0.00307133 schlegel       nan       nan       nan       nan       nan        nan       nan       nan       nan       nan   330.199   887.933   bj2018       nan       nan       -- 21.1858 0.262419  19.235 0.048586         0            --    gaia2       --            --  26.8433312945301  19.9944385125507  82.674100559457 -79.0174764288073  0.669322119978508    0.6461542169997        1      0 109.83068562433216\n",
            "261105196 82.6761668180236 -78.9988065906582   8.08606  0.365539 17.3717    STAR tmgaia2 20190415    --           --         -- 05304230-7859557   -- J053042.28-785956.1 4623417154661026304       --  -- tmgaia2  0.222207  0.263896  gaia2     1.28592  0.125205   gaia2  290.94516102454 -30.4111700263132 276.401785411647 -77.3982308946956 20.272    0.2 19.1835 0.0568  nan    nan  nan    nan  nan    nan  nan    nan  nan    nan 15.986  0.084 15.359  0.109 15.309  0.168 ABC-222-111-000-0-0  nan 14.992   0.029 14.992   0.043 12.652     nan 9.322     nan 18.4053  0.001688  0.0111958    cdwrf  cdwrf 3707.0   160.0 4.77142 0.0375162 nan  nan 0.461364 0.0445077  0.45861 0.0489562   4.66995   0.867279    DWARF 0.0362136625   0.01338727 765.969  76.995  0.101861     0.00132119      --           nan          --           --           nan  0.00140686   0.00123552 schlegel       nan       nan       nan       nan       nan        nan       nan       nan       nan       nan    69.499    84.491   bj2018       nan       nan    cdwrf 19.4689 0.045235  17.393 0.008561         1            --    gaia2     bpbj cooldwarfs_v8  4.46494355982669  4.09261481772618  82.676349258325 -78.9988050168641  0.111535628874007  0.134989094848031        1      0 109.84967079518275\n",
            "724151548 82.7956339185569 -78.9782501268326   0.18978  0.951613 20.0086    STAR   gaia2 20190415    --           --         --               --   --                  -- 4623417468194181376       --  --   gaia2   1.24386   1.07864  gaia2  0.00571434  0.523567   gaia2 290.915520657064 -30.3941487528605 276.321680886978 -77.4234982084645    nan    nan 20.4791 0.0617  nan    nan  nan    nan  nan    nan  nan    nan  nan    nan    nan    nan    nan    nan    nan    nan                  --  nan    nan     nan    nan     nan    nan     nan   nan     nan 20.3727  0.007554     0.0157    rered  gaia2    nan     nan     nan       nan nan  nan      nan       nan      nan       nan       nan        nan    DWARF          nan          nan  1870.3   918.9  0.106481 0.000361191138      --           nan          --           --           nan 0.000684627  3.77553e-05 schlegel       nan       nan       nan       nan       nan        nan       nan       nan       nan       nan    693.74   1144.06   bj2018       nan       nan       -- 20.5899 0.113466 19.8934 0.117371         1            --    gaia2       --            --  24.9898457427778  16.7293098690527 82.7956381925471   -78.97824602961  0.590591283382581  0.589510583777474        1      1 112.02355089882059\n",
            "261105194 82.9803578017334 -78.9971435292724   2.29114   2.71353 14.8965    STAR tmgaia2 20190415    --           -- 056-003726 05315532-7859495   -- J053155.32-785949.5 4623416643561600768 34619198  -- tmgaia2 0.0427669 0.0596699  gaia2   0.0992919 0.0255891   gaia2 290.926737057488  -30.355310446643 276.144278837694 -77.4130716921454 16.716  0.017  15.606  0.286  nan    nan  nan    nan  nan    nan  nan    nan  nan    nan 13.876   0.03 13.332  0.036 13.268  0.031 AAA-222-111-000-0-0  nan 13.135   0.024 13.174   0.024 12.709     nan 9.753     nan 15.5459   0.00046      0.006    rered  gaia2 4945.0   122.0     nan       nan nan  nan  6.88661       nan      nan       nan       nan        nan    GIANT          nan          nan 6229.07 863.155  0.107063        4.7e-12      --           nan          --           --           nan 1.76738e-09 -1.75798e-09 schlegel       nan       nan       nan       nan       nan        nan       nan       nan       nan       nan    765.88    960.43   bj2018       nan       nan    dered 16.1068 0.004659 14.8341 0.001629         1            --    ucac4 apassdr9            -- 0.859339152729369 0.925356704147472 82.9804094874581 -78.9971318460225 0.0218245655377315 0.0295911106038487        0      0 113.09665922595805\n",
            "261105204 82.9848817224858 -79.0195372769284   5.00777   23.6238 18.3492    STAR tmgaia2 20190415    --           --         -- 05315645-7901101   -- J053156.38-790110.1 4623416471761296384       --  -- tmgaia2  0.570408  0.684718  gaia2     2.03574  0.307869   gaia2 290.951663407285 -30.3490215115911 276.117546351296  -77.391433083072    nan    nan     nan    nan  nan    nan  nan    nan  nan    nan  nan    nan  nan    nan 16.337  0.107 15.716  0.179 15.396  0.198 BCC-222-111-000-0-0  nan  15.23    0.03 14.993   0.044 13.191     nan 9.677     nan 19.5848    0.0041     0.0074    rered  gaia2 3281.0   156.0     nan       nan nan  nan      nan       nan      nan       nan       nan        nan       --          nan          nan  498.08  85.937 0.0947053     0.00457777      --           nan          --           --           nan  0.00464268   0.00451286 schlegel       nan       nan       nan       nan       nan        nan       nan       nan       nan       nan    71.794    100.08   bj2018       nan       nan    dered 21.2149 0.160395 18.2335 0.019002         1            --       --       --            --  11.4634619316688  10.6193758015932  82.984994920102 -79.0194355633651  0.289505395074497  0.364191220132638       -1      0 114.80023332051265\n",
            "724151502 82.9839020554558 -78.9966075473119    6.6108  0.755083 17.9506    STAR   gaia2 20190415    --           --         --               --   --                  -- 4623416574842124288       --  --   gaia2  0.232667  0.335207  gaia2    0.396886  0.135853   gaia2 290.925943811423 -30.3547847649952 276.141801303771 -77.4137450413023    nan    nan  18.613 0.0477  nan    nan  nan    nan  nan    nan  nan    nan  nan    nan    nan    nan    nan    nan    nan    nan                  --  nan    nan     nan    nan     nan    nan     nan   nan     nan 18.4381  0.001883     0.0097    rered  gaia2 5864.0   176.0     nan       nan nan  nan      nan       nan      nan       nan       nan        nan    DWARF          nan          nan 2094.86  584.29  0.107077   5.125865e-05      --           nan          --           --           nan  8.8322e-05  1.41953e-05 schlegel       nan       nan       nan       nan       nan        nan       nan       nan       nan       nan     456.4    712.18   bj2018       nan       nan    dered 18.7653 0.031417  17.832 0.023396         1            --    gaia2       --            --  4.67501900329977  5.19822304909959 82.9840511810187 -78.9966042962965  0.115374478176442  0.161666481429977        1      0 116.07776715813867\n",
            "724151546 82.7720242516102 -78.9781612529937  -1.98212   6.68591 18.0986    STAR   gaia2 20190415    --           --         --               --   --                  -- 4623417463898681344       --  --   gaia2  0.266799  0.318397  gaia2    0.159496  0.158933   gaia2 290.916711169751 -30.3985450457794 276.341950391172 -77.4225489688053    nan    nan 19.0642 0.0493  nan    nan  nan    nan  nan    nan  nan    nan  nan    nan    nan    nan    nan    nan    nan    nan                  --  nan    nan     nan    nan     nan    nan     nan   nan     nan 18.7526  0.002219     0.0081    rered  gaia2 4920.0   149.0 4.64235       nan nan  nan 0.711381       nan     0.81       nan   2.24998        nan    DWARF  0.267152667          nan 2783.69 883.965  0.106395   7.783337e-06      --           nan          --           --           nan 1.47859e-05  7.80775e-07 schlegel       nan       nan       nan       nan       nan        nan       nan       nan       nan       nan     703.5   1064.43   bj2018       nan       nan    dered 19.3453 0.036844 18.0621 0.015081         1            --    gaia2       --            --  5.36025202264866  4.93816829163532 82.7719796131133 -78.9781324664398  0.137308919396075  0.172528281595292        1      0 116.57989465172223\n",
            "261105211 82.7038881607337 -79.0310568290111   2.22765  0.108387 16.8181    STAR tmgaia2 20190415    --           --         -- 05304891-7901517   -- J053048.84-790151.7 4623416811063629184       --  -- tmgaia2   0.12558   0.15579  gaia2   0.0469291 0.0769896   gaia2 290.979858310409 -30.3980380967474  276.34404937575 -77.3680823115185  18.78  0.132 17.9207 0.0464  nan    nan  nan    nan  nan    nan  nan    nan  nan    nan 15.696  0.075 15.132  0.102 14.908  0.134 AAB-222-111-000-0-0  nan 14.707   0.027 14.747    0.04 13.412     nan 9.425     nan 17.5378  0.001274     0.0061    rered  gaia2 4628.0   124.0     nan       nan nan  nan  2.40781       nan      nan       nan       nan        nan    GIANT          nan          nan 4571.95 1076.56  0.105543   9.440393e-09      --           nan          --           --           nan   1.825e-08  6.30786e-10 schlegel       nan       nan       nan       nan       nan        nan       nan       nan       nan       nan    911.48   1241.65   bj2018       nan       nan    dered  18.192 0.012782 16.7594 0.005964         1            --    gaia2     bpbj            --  2.52400636261976   2.4160615921969 82.7039385676495  -79.031056362349 0.0656592872509819 0.0797508762587164        0      0  116.6383922284096\n",
            "724151523 82.8249026195936 -79.0417731973122   4.31749  -4.80718 20.3545    STAR   gaia2 20190415    --           --         --               --   --                  -- 4623416746640267648       --  --   gaia2   2.74184   2.57519  gaia2  -0.0987501  0.945001   gaia2 290.985292139232 -30.3730868455802 276.230403501279 -77.3629224242155    nan    nan 20.8022 0.0749  nan    nan  nan    nan  nan    nan  nan    nan  nan    nan    nan    nan    nan    nan    nan    nan                  --  nan    nan     nan    nan     nan    nan     nan   nan     nan 20.7042  0.012466     0.0144    gbprp  gaia2    nan     nan     nan       nan nan  nan      nan       nan      nan       nan       nan        nan       --          nan          nan 1573.77 911.393  0.105928    0.001198149      --           nan          --           --           nan  0.00226338  0.000132918 schlegel       nan       nan       nan       nan       nan        nan       nan       nan       nan       nan   680.167   1142.62   bj2018       nan       nan       -- 20.8258 0.169629 20.1638    0.177         0            --    gaia2       --            --  55.1173975341201  39.9365792254242 82.8250004094531 -79.0417938949085   1.27217396420675   1.29908070594658        1      1 118.81523521313154\n",
            "724151518 82.7842221794952 -79.0411633255747  -8.04293   1.73728 18.3388    STAR   gaia2 20190415    --           --         --               --   --                  -- 4623416742344149248       --  --   gaia2    0.6087   0.79257  gaia2     2.12293  0.374911   gaia2 290.986819684191 -30.3807313870403 276.265456149827 -77.3617551935054    nan    nan 19.4762  0.051  nan    nan  nan    nan  nan    nan  nan    nan  nan    nan    nan    nan    nan    nan    nan    nan                  --  nan    nan     nan    nan     nan    nan     nan   nan     nan 19.0675   0.00359     0.0107    gbprp  gaia2    nan     nan     nan       nan nan  nan      nan       nan      nan       nan       nan        nan       --          nan          nan 483.501 103.271 0.0922349    0.005637355      --           nan          --           --           nan  0.00570591    0.0055688 schlegel       nan       nan       nan       nan       nan        nan       nan       nan       nan       nan    82.524   124.019   bj2018       nan       nan       -- 19.6996 0.038221 18.2166 0.018049         0            --    gaia2       --            --  12.2352142306039  12.2914624562979 82.7840400195459 -79.0411558456731  0.318221613966731  0.403581884324731        1      0 120.29860427406354\n",
            "724151514 82.9795536571455 -78.9919693419174  0.941707   6.16825 19.2389    STAR   gaia2 20190415    --           --         --               --   --                  -- 4623416677921417856       --  --   gaia2   1.47067   1.32219  gaia2     0.38607  0.709744   gaia2 290.920964407956 -30.3567186819507 276.150264543101 -77.4180811797367    nan    nan 20.8263  0.099  nan    nan  nan    nan  nan    nan  nan    nan  nan    nan    nan    nan    nan    nan    nan    nan                  --  nan    nan     nan    nan     nan    nan     nan   nan     nan 20.1405  0.010263     0.0248    gbprp  gaia2    nan     nan     nan       nan nan  nan      nan       nan      nan       nan       nan        nan       --          nan          nan 1478.32 858.995   0.10697    0.001387846      --           nan          --           --           nan  0.00257399  0.000201702 schlegel       nan       nan       nan       nan       nan        nan       nan       nan       nan       nan   616.511   1101.48   bj2018       nan       nan       -- 20.9648  0.11637 19.0204 0.053495         0            --    gaia2       --            --  29.5515921874191  20.5058529495566  82.979574891209 -78.9919427841751  0.764933391952838  0.698729937681795        1      0 120.77563537281725\n",
            "724151513  82.905691935482 -78.9773041334896   3.04642   7.56297  20.094    STAR   gaia2 20190415    --           --         --               --   --                  -- 4623416677920204032       --  --   gaia2   2.24944    1.8701  gaia2    0.840796  0.753671   gaia2 290.908470912876 -30.3739825844631 276.228543332053 -77.4292045397299    nan    nan 20.8981  0.075  nan    nan  nan    nan  nan    nan  nan    nan  nan    nan    nan    nan    nan    nan    nan    nan                  --  nan    nan     nan    nan     nan    nan     nan   nan     nan 20.6609  0.008939       0.04    gbprp  gaia2    nan     nan     nan       nan nan  nan      nan       nan      nan       nan       nan        nan       --          nan          nan 1214.86 804.815  0.106498  0.00297391554      --           nan          --           --           nan  0.00533445  0.000613381 schlegel       nan       nan       nan       nan       nan        nan       nan       nan       nan       nan    533.46   1076.17   bj2018       nan       nan       -- 20.9018 0.139844 19.7953 0.055348         0            --    gaia2       --            --  45.1913337630693  29.0026429473073  82.905760537365 -78.9772715707099  0.903596438297873  0.966031586695893        1      1 125.42682074198095\n",
            "724151511 82.9377826689545 -78.9810043366155   1.10576   1.87947 18.7904    STAR   gaia2 20190415    --           --         --               --   --                  -- 4623416673624699264       --  --   gaia2  0.477081  0.510923  gaia2   0.0710693  0.290166   gaia2 290.910893158077 -30.3671299864703 276.197255114137 -77.4269808432447    nan    nan 19.8319 0.0609  nan    nan  nan    nan  nan    nan  nan    nan  nan    nan    nan    nan    nan    nan    nan    nan                  --  nan    nan     nan    nan     nan    nan     nan   nan     nan 19.4816  0.005335     0.0093    rered  gaia2 4752.0   200.0 4.98322       nan nan  nan 0.465404       nan     0.76       nan   7.53919        nan    DWARF 0.0995084345          nan 2321.31  925.12    0.1072  5.9912516e-05      --           nan          --           --           nan 0.000114172  5.65303e-06 schlegel       nan       nan       nan       nan       nan        nan       nan       nan       nan       nan    718.48   1131.76   bj2018       nan       nan    dered 20.1121 0.075081 18.7457 0.034968         1            --    gaia2       --            --  9.58569682273845  7.92400738836379 82.9378075776594  -78.980996244454  0.262058584493532  0.272905935995575        1      0 125.50219444012504\n",
            "261105209 82.9815248612489 -79.0280402038056 -0.480633    20.497 15.8523    STAR tmgaia2 20190415    --           -- 055-003609 05315560-7901408   -- J053155.52-790140.8 4623416437403172608       --  -- tmgaia2 0.0784111  0.112138  gaia2    0.762861 0.0453168   gaia2  290.96140008304 -30.3475699722687 276.111734621295 -77.3830011331656 17.486  0.118  16.577  1.133  nan    nan  nan    nan  nan    nan  nan    nan  nan    nan 14.951  0.042  14.41  0.056 14.173  0.065 AAA-222-111-000-0-0  nan 14.219   0.025 14.268   0.033 13.327     nan  9.71     nan 16.5059  0.000678      0.006    rered  gaia2 4926.0   124.0 4.43162       nan nan  nan 0.906706       nan     0.81       nan   1.08664        nan    DWARF  0.436119646          nan 1262.82  73.995  0.107429   0.0001602865      --           nan          --           --           nan 0.000176123   0.00014445 schlegel       nan       nan       nan       nan       nan        nan       nan       nan       nan       nan     69.77     78.22   bj2018       nan       nan    dered 17.0812 0.009963 15.7993 0.003386         1            --    ucac4     bpbj            --  1.57588898491178  1.73919263384018 82.9815139885139 -79.0279519528329 0.0392782787730375 0.0605296149247181        1      0 126.44242680025793\n",
            "261105187 82.8983074340018 -78.9754291519178   1.13289  -2.89307  17.559    STAR tmgaia2 20190415    --           --         -- 05313560-7858315   -- J053135.64-785831.8 4623417429538944512       --  -- tmgaia2  0.200782  0.232365  gaia2    0.494576  0.115012   gaia2 290.906763841034 -30.3758102491315 276.236809530272 -77.4307121749728 18.715   0.19 18.5201 0.0483  nan    nan  nan    nan  nan    nan  nan    nan  nan    nan 16.592  0.152  15.83  0.192  15.38    nan BCU-220-110-000-0-0  nan 15.977   0.038 16.403    0.12 12.733     nan 9.718     nan 18.2108  0.001409     0.0062    rered  gaia2 4933.0   142.0  4.7939       nan nan  nan 0.597484       nan     0.81       nan   3.79758        nan    DWARF  0.190454483          nan 1832.35 408.535  0.107072   8.862045e-05      --           nan          --           --           nan 0.000137803  3.94379e-05 schlegel       nan       nan       nan       nan       nan        nan       nan       nan       nan       nan    329.87     487.2   bj2018       nan       nan    dered 18.7898 0.032494 17.5116  0.00837         1            --    gaia2     bpbj            --  4.03376689376318  3.60379073650649 82.8983329410999 -78.9754416081926  0.101111555542497  0.123979535503743        1      0  129.5625024222334\n",
            "724151505 82.9966972212363 -78.9929014561955  -5.82275   36.8589 19.0335    STAR   gaia2 20190415    --           --         --               --   --                  -- 4623416609200246784       --  --   gaia2  0.711284  0.909145  gaia2     1.33347  0.396785   gaia2 290.921089501622 -30.3533168995894 276.134662104457 -77.4179021936327    nan    nan 20.9239 0.1748  nan    nan  nan    nan  nan    nan  nan    nan  nan    nan    nan    nan    nan    nan    nan    nan                  --  nan    nan     nan    nan     nan    nan     nan   nan     nan 20.0295  0.006013     0.0554    gbprp  gaia2    nan     nan     nan       nan nan  nan      nan       nan      nan       nan       nan        nan       --          nan          nan  787.54 346.698  0.103429    0.004656415      --           nan          --           --           nan  0.00602442   0.00328841 schlegel       nan       nan       nan       nan       nan        nan       nan       nan       nan       nan   223.785    469.61   bj2018       nan       nan       -- 20.9738 0.212755 18.7436 0.038615         0            --    gaia2       --            --  14.2915844479924   14.099978558399 82.9965659160792 -78.9927427581807  0.342958021299079  0.481713341683331        1      0 129.58218125733083\n",
            "724151520 82.8454325376256  -79.044709433368   1.80577   6.01963 17.3384    STAR   gaia2 20190415    --           --         --               --   --                  -- 4623416746639198592       --  --   gaia2  0.173628  0.217243  gaia2    0.419677 0.0997934   gaia2 290.987476454726 -30.3685817210114 276.209990239824 -77.3609474941349    nan    nan 18.1478 0.0469  nan    nan  nan    nan  nan    nan  nan    nan  nan    nan    nan    nan    nan    nan    nan    nan                  --  nan    nan     nan    nan     nan    nan     nan   nan     nan 17.9106   0.00152      0.008    rered  gaia2 5345.0   139.0 4.78408       nan nan  nan 0.644004       nan     0.92       nan   3.44446        nan    DWARF  0.304974079          nan 2098.28 449.415  0.106228    3.36898e-05      --           nan          --           --           nan 5.43751e-05  1.30045e-05 schlegel       nan       nan       nan       nan       nan        nan       nan       nan       nan       nan    367.07    531.76   bj2018       nan       nan    dered 18.3901 0.015353 17.2836 0.020021         1            --    gaia2       --            --  3.48997175209029  3.36925816545206 82.8454734486051 -79.0446835155191 0.0874293030234297  0.115831357771355        1      0   129.964623898131\n",
            "261105189 82.6852796357967 -78.9847938899006  -1.82777   2.00818  16.694    STAR tmgaia2 20190415    --           --         -- 05304449-7859051   -- J053044.46-785905.1 4623417536914790784       --  -- tmgaia2  0.122594  0.154628  gaia2    0.876037 0.0738808   gaia2  290.92892088021 -30.4129662528998 276.408958533295 -77.4122643260207 18.695  0.123 18.0095 0.0479  nan    nan  nan    nan  nan    nan  nan    nan  nan    nan 15.524   0.06 14.982  0.079 14.904  0.126 AAB-222-111-000-0-0  nan 14.656   0.027 14.742   0.039 13.039   0.458 9.531     nan  17.506  0.001159     0.0061    rered  gaia2 4302.0   127.0 4.53416       nan nan  nan 0.732813       nan     0.67       nan   1.70253        nan    DWARF  0.165715232          nan  1106.7  92.795  0.105609   0.0003797695      --           nan          --           --           nan   0.0004231  0.000336439 schlegel       nan       nan       nan       nan       nan        nan       nan       nan       nan       nan     85.26    100.33   bj2018       nan       nan    dered 18.2845 0.022982 16.6292  0.00557         1            --    gaia2     bpbj            --  2.46315665915407  2.39806776058428 82.6852384488728 -78.9847852435727 0.0635153406460491 0.0799694791637714        1      0 130.31920582131204\n",
            "724151537 82.6362893448027 -79.0105129549582   4.68739   17.3144  20.247    STAR   gaia2 20190415    --           --         --               --   --                  -- 4623417124596805632       --  --   gaia2   4.43019   4.30139  gaia2     5.59601   1.84434   gaia2 290.960503818015 -30.4156212156003 276.423178784179 -77.3850749265786    nan    nan 21.1228 0.1619  nan    nan  nan    nan  nan    nan  nan    nan  nan    nan    nan    nan    nan    nan    nan    nan                  --  nan    nan     nan    nan     nan    nan     nan   nan     nan 20.8516   0.01532     0.0768    gbprp  gaia2    nan     nan     nan       nan nan  nan      nan       nan      nan       nan       nan        nan       --          nan          nan 230.093 230.093 0.0658801      0.0305179      --           nan          --           --           nan   0.0217777    0.0392581 schlegel       nan       nan       nan       nan       nan        nan       nan       nan       nan       nan   102.849   1029.15   bj2018       nan       nan       -- 20.9249 0.331032 19.7346  0.16205         0            --    gaia2       --            --  89.0762745406444  66.6850230526125 82.6363952144824 -79.0104384068648    2.5177210066372   1.34066656571818        1      1 131.28956424317602\n",
            "261105217  82.847187381652 -79.0453514275981   2.21576 -0.487965 16.6137    STAR tmgaia2 20190415    --           --         -- 05312332-7902430   -- J053123.24-790242.6 4623416742344148480       --  -- tmgaia2  0.113504  0.142104  gaia2    0.629079 0.0659449   gaia2 290.988102503645 -30.3681004656134 276.207841533916 -77.3603976627747 17.469  0.135 17.5874 0.0466  nan    nan  nan    nan  nan    nan  nan    nan  nan    nan 15.617  0.079 15.071  0.109 15.074  0.161 ABC-222-111-000-0-0  nan 14.677   0.026  14.76   0.041 12.573     nan  9.65     nan 17.2718  0.001008     0.0061    rered  gaia2 4900.0   128.0 4.56521       nan nan  nan 0.772633       nan      0.8       nan   1.73449        nan    DWARF    0.3100453          nan 1513.43 156.495  0.106085 0.000115927352      --           nan          --           --           nan 0.000142012  8.98427e-05 schlegel       nan       nan       nan       nan       nan        nan       nan       nan       nan       nan    141.01    171.98   bj2018       nan       nan    dered 17.8285 0.016579 16.5364 0.006394         1            --    gaia2     bpbj            --  2.28148671379975   2.2038942274978  82.847237584147 -79.0453535285627   0.05774634586327 0.0751674361285429        1      0 132.38340366294833\n",
            "724151512 82.9330748654914  -78.978012860022 -0.947695   4.81164 20.2032    STAR   gaia2 20190415    --           --         --               --   --                  -- 4623416673624699776       --  --   gaia2   2.27824   1.60974  gaia2  -0.0443587  0.845017   gaia2 290.907785280872  -30.368732662147 276.204373012436 -77.4296935071283    nan    nan 20.9733 0.1247  nan    nan  nan    nan  nan    nan  nan    nan  nan    nan    nan    nan    nan    nan    nan    nan                  --  nan    nan     nan    nan     nan    nan     nan   nan     nan 20.7516  0.014715     0.0546    gbprp  gaia2    nan     nan     nan       nan nan  nan      nan       nan      nan       nan       nan        nan       --          nan          nan 1606.82 920.646  0.107128    0.001069163      --           nan          --           --           nan  0.00202133  0.000116996 schlegel       nan       nan       nan       nan       nan        nan       nan       nan       nan       nan   683.603   1157.69   bj2018       nan       nan       -- 20.8589 0.265227 19.7929 0.152058         0            --    gaia2       --            --  45.7702584573421  24.9664573455765  82.933053523132 -78.9779921432394  0.971730446173048  0.879254483973991        1      1 132.44155740661301\n",
            "261105214 82.7070825131134 -79.0382456507301   4.23366  -11.8832 16.0247    STAR tmgaia2 20190415    --           --         -- 05304972-7902176   -- J053049.73-790217.6 4623416781000551296       --  -- tmgaia2  0.082229   0.10332  gaia2    0.975817 0.0547441   gaia2 290.987756398201 -30.3956634023904 276.333758840889 -77.3612280188196 18.445  0.111 17.1007  0.046  nan    nan  nan    nan  nan    nan  nan    nan  nan    nan 14.972  0.036 14.342  0.056 14.285  0.071 AAA-222-111-000-0-0  nan 14.208   0.025 14.308   0.034 12.876     nan  9.33     nan  16.732  0.000747      0.006    rered  gaia2 4674.0   123.0 4.57077       nan nan  nan 0.738352       nan     0.74       nan    1.8384        nan    DWARF  0.234410256          nan 996.437 55.7275  0.103931     0.00036208      --           nan          --           --           nan 0.000384967  0.000339193 schlegel       nan       nan       nan       nan       nan        nan       nan       nan       nan       nan    52.682    58.773   bj2018       nan       nan    dered 17.3772 0.007308 15.9731  0.00342         1            --    gaia2     bpbj            --  1.65283804806644  1.60238446695107 82.7071783737675 -79.0382968145233 0.0448353239930567 0.0544228658383103        1      0  134.3731555910761\n",
            "261105188 82.7107446779579 -78.9786642186814   5.59475   3.52651 15.2958    STAR tmgaia2 20190415    --           -- 056-003711 05305060-7858430   -- J053050.60-785843.0 4623417571274529536 34618938  -- tmgaia2 0.0557063 0.0718141  gaia2     1.45822 0.0338599   gaia2  290.92063548021 -30.4097721046968 276.393758390536 -77.4193560409885 17.773 -0.139  16.549  1.133  nan    nan  nan    nan  nan    nan  nan    nan  nan    nan 14.177  0.033 13.616  0.031 13.432  0.045 AAA-222-111-000-0-0  nan 13.386   0.024 13.466   0.026 12.787   0.312 9.455     nan 16.0799  0.000569      0.006    rered  gaia2 4390.0   122.0 4.46763       nan nan  nan 0.802868       nan     0.69       nan   1.33327        nan    DWARF  0.215695322          nan  672.72 15.4455  0.100489     0.00040158      --           nan          --           --           nan 0.000405705  0.000397455 schlegel       nan       nan       nan       nan       nan        nan       nan       nan       nan       nan    15.098    15.793   bj2018       nan       nan    dered 16.8331 0.004645 15.2454 0.001576         1            --    ucac4 apassdr9            --  1.11919778438824  1.11372304581149 82.7108706806654 -78.9786490351225  0.028768204855817 0.0366894592152655        1      0 134.80701048081113\n",
            "724151522 82.8090810598227 -79.0461635127919  -2.44997   1.41862 19.2233    STAR   gaia2 20190415    --           --         --               --   --                  -- 4623416746639719552       --  --   gaia2   1.38511   1.34047  gaia2    0.844176  0.560077   gaia2 290.991083362465 -30.3749180695984  276.23922521077 -77.3579635364647    nan    nan 21.2788 0.1561  nan    nan  nan    nan  nan    nan  nan    nan  nan    nan    nan    nan    nan    nan    nan    nan                  --  nan    nan     nan    nan     nan    nan     nan   nan     nan 20.2846  0.008009     0.0258    rered  gaia2 3704.0   172.0     nan       nan nan  nan      nan       nan      nan       nan       nan        nan    DWARF          nan          nan 1196.02 731.547  0.105305    0.002441815      --           nan          --           --           nan  0.00422942   0.00065421 schlegel       nan       nan       nan       nan       nan        nan       nan       nan       nan       nan   470.923    992.17   bj2018       nan       nan    dered 21.4431 0.176116 19.0883 0.042626         1            --    gaia2       --            --  27.8416324968778  20.7881401623247 82.8090255467646 -79.0461574048497  0.655230116298674  0.671713806045864        1      0  135.1902720537136\n",
            "724151524 82.7302461181724 -79.0420097659135  -2.69179    13.995 18.9964    STAR   gaia2 20190415    --           --         --               --   --                  -- 4623416776705880576       --  --   gaia2   0.67407  0.755006  gaia2     0.88737  0.382099   gaia2  290.99071592574 -30.3904628233842 276.310212141715 -77.3585797641811    nan    nan 20.7852 0.0877  nan    nan  nan    nan  nan    nan  nan    nan  nan    nan    nan    nan    nan    nan    nan    nan                  --  nan    nan     nan    nan     nan    nan     nan   nan     nan 19.9785  0.006116     0.0075    rered  gaia2 3880.0   144.0     nan       nan nan  nan      nan       nan      nan       nan       nan        nan    DWARF          nan          nan 1132.14 576.246  0.104697    0.002066208      --           nan          --           --           nan  0.00329846  0.000833956 schlegel       nan       nan       nan       nan       nan        nan       nan       nan       nan       nan   370.262    782.23   bj2018       nan       nan    dered 20.9194 0.094386 18.8046 0.035143         1            --    gaia2       --            --  13.5493186297906  11.7089287765805 82.7301851486344  -79.041949509671  0.355209523004342  0.385136561995794        1      0  136.9222647894863\n",
            "724151536 82.6262044156253 -79.0089138531972   8.22691   20.4487 18.8574    STAR   gaia2 20190415    --           --         --               --   --                  -- 4623417120303233792       --  --   gaia2    0.6293  0.730204  gaia2       1.107  0.356669   gaia2  290.95926435873 -30.4178819909316 276.433449402199 -77.3861806491472    nan    nan 20.6738 0.1012  nan    nan  nan    nan  nan    nan  nan    nan  nan    nan    nan    nan    nan    nan    nan    nan                  --  nan    nan     nan    nan     nan    nan     nan   nan     nan 19.8317  0.004432     0.0279    gbprp  gaia2    nan     nan     nan       nan nan  nan      nan       nan      nan       nan       nan        nan       --          nan          nan 930.701 407.866  0.103615    0.003056715      --           nan          --           --           nan  0.00428247   0.00183096 schlegel       nan       nan       nan       nan       nan        nan       nan       nan       nan       nan   267.244   548.489   bj2018       nan       nan       -- 20.7801 0.114922  18.618 0.031502         0            --    gaia2       --            --   12.646177586511  11.3241753554126 82.6263902024106 -79.0088258102436  0.323715383840041  0.368993796548021        1      0 138.07225091276246\n",
            "724151545 82.8779486149625 -78.9713041512819       nan       nan 20.6542    STAR   gaia2 20190415    --           --         --               --   --                  -- 4623417433834443776       --  --   gaia2       nan       nan     --         nan       nan      -- 290.903227678276 -30.3805933866116 276.258542450131 -77.4338493609308    nan    nan     nan    nan  nan    nan  nan    nan  nan    nan  nan    nan  nan    nan    nan    nan    nan    nan    nan    nan                  --  nan    nan     nan    nan     nan    nan     nan   nan     nan 21.0842  0.019816        0.6    goffs     --    nan     nan     nan       nan nan  nan      nan       nan      nan       nan       nan        nan       --          nan          nan     nan     nan       nan            nan      --           nan          --           --           nan         nan          nan       --       nan       nan       nan       nan       nan        nan       nan       nan       nan       nan       nan       nan       --       nan       nan       --     nan      0.0     nan      0.0        --            --       --       --            --  5.82061051791652  4.04375399852913 82.8779486149625 -78.9713041512819   5.82061051791652   4.04375399852913       --      0 139.29620784024806\n",
            "724151538 82.6312101388756 -78.9980524129502   4.68937   4.08705 18.4651    STAR   gaia2 20190415    --           --         --               --   --                  -- 4623417158957668224       --  --   gaia2  0.332808  0.382895  gaia2  -0.0605532  0.187456   gaia2 290.946791164718 -30.4196669514497  276.44082944342 -77.3969643122974    nan    nan 19.1281 0.0476  nan    nan  nan    nan  nan    nan  nan    nan  nan    nan    nan    nan    nan    nan    nan    nan                  --  nan    nan     nan    nan     nan    nan     nan   nan     nan  18.953  0.002914     0.0095    rered  gaia2 5857.0   173.0     nan       nan nan  nan      nan       nan      nan       nan       nan        nan    DWARF          nan          nan 3191.16 1033.62  0.105972 2.47841058e-06      --           nan          --           --           nan 4.81962e-06  1.37201e-07 schlegel       nan       nan       nan       nan       nan        nan       nan       nan       nan       nan    843.83   1223.41   bj2018       nan       nan    dered 19.3342 0.024704 18.4001 0.028741         1            --    gaia2       --            --  6.68740286154938  5.93806899590316 82.6313159347899 -78.9980348159484   0.17133127689066  0.194812239990467        1      0 140.12043227332475\n",
            "724151506  83.008456240331 -78.9907480522244   7.15563   15.4819 19.8576    STAR   gaia2 20190415    --           --         --               --   --                  -- 4623416609201317632       --  --   gaia2   1.51604   1.31469  gaia2   -0.164412  0.561273   gaia2 290.918036607042 -30.3516620403654 276.126811362154 -77.4205011718251    nan    nan 20.8246 0.0781  nan    nan  nan    nan  nan    nan  nan    nan  nan    nan    nan    nan    nan    nan    nan    nan                  --  nan    nan     nan    nan     nan    nan     nan   nan     nan 20.5078  0.008715     0.0186    gbprp  gaia2    nan     nan     nan       nan nan  nan      nan       nan      nan       nan       nan        nan       --          nan          nan 1932.17  946.47  0.107339 0.000318207254      --           nan          --           --           nan 0.000606787  2.96275e-05 schlegel       nan       nan       nan       nan       nan        nan       nan       nan       nan       nan    722.17   1170.77   bj2018       nan       nan       -- 20.9189 0.113475 19.6243 0.077792         0            --    gaia2       --            --   30.460495889191  20.3900480148964 83.0086175712281 -78.9906813940949  0.686616475587966  0.709650996446368        1      0 140.30137931679428\n",
            "261105185 82.8068469398566 -78.9699535725956 -0.994058   18.2176 13.7379    STAR tmgaia2 20190415    --           -- 056-003714 05311368-7858117   -- J053113.65-785811.5 4623417502555055232 34619031  -- tmgaia2   0.02558 0.0294951  gaia2     2.55954 0.0148344   gaia2 290.905586152531 -30.3941132384333 276.320818855847 -77.4320653883395 15.774  0.088   14.58  0.137  nan    nan  nan    nan  nan    nan  nan    nan  nan    nan 12.814  0.023 12.295  0.022 12.191  0.027 AAA-222-111-000-0-0  nan 12.132   0.023 12.185   0.021 12.307   0.205 9.569     nan 14.3931  0.000522      0.006    rered  gaia2 4852.0   122.0 4.59339       nan nan  nan 0.743278       nan     0.79       nan   1.92386        nan    DWARF    0.2758548          nan 386.336   2.231 0.0860204   0.0001961105      --           nan          --           --           nan 0.000195985  0.000196236 schlegel       nan       nan       nan       nan       nan        nan       nan       nan       nan       nan     2.219     2.243   bj2018       nan       nan    dered 14.9727 0.002281 13.6837 0.002274         1            --    ucac4 apassdr9            -- 0.513905270595548 0.457460471936558 82.8068245695438 -78.9698751357069 0.0135479977904101 0.0161855302976421        1      0 140.45783603238425\n",
            "724151507 82.9937693037766 -78.9856517217115   10.0116   11.1027 20.1625    STAR   gaia2 20190415    --           --         --               --   --                  -- 4623416609201318272       --  --   gaia2   2.96275   3.23021  gaia2   0.0796143   3.42231   gaia2 290.913097569958 -30.3556215816995 276.144580478873 -77.4248452261832    nan    nan 21.1626 0.1302  nan    nan  nan    nan  nan    nan  nan    nan  nan    nan    nan    nan    nan    nan    nan    nan                  --  nan    nan     nan    nan     nan    nan     nan   nan     nan 20.8286  0.019775     0.0748    gbprp  gaia2    nan     nan     nan       nan nan  nan      nan       nan      nan       nan       nan        nan       --          nan          nan  1285.5 940.518  0.106925    0.004615543      --           nan          --           --           nan  0.00877221  0.000458876 schlegel       nan       nan       nan       nan       nan        nan       nan       nan       nan       nan   706.626   1174.41   bj2018       nan       nan       -- 20.3785 0.245395 19.0466 0.075859         0            --    gaia2       --            --  59.6005549351146  50.0935283503526 82.9939949222663 -78.9856039185049   3.01788636278882   1.59104489017536        1      0 141.42059428760152\n",
            "724151521 82.8499526503414 -79.0479985231348   2.74015    3.1346 19.5521    STAR   gaia2 20190415    --           --         --               --   --                  -- 4623416746639199360       --  --   gaia2  0.955826   1.00635  gaia2   -0.459114  0.459312   gaia2 290.990926257127 -30.3669396655604 276.202765662472 -77.3579381266359    nan    nan 20.3118 0.0638  nan    nan  nan    nan  nan    nan  nan    nan  nan    nan    nan    nan    nan    nan    nan    nan                  --  nan    nan     nan    nan     nan    nan     nan   nan     nan 20.0947  0.007137     0.0173    gbprp  gaia2    nan     nan     nan       nan nan  nan      nan       nan      nan       nan       nan        nan       --          nan          nan 2346.47 1001.03  0.106264   7.325996e-05      --           nan          --           --           nan 0.000141472  5.04792e-06 schlegel       nan       nan       nan       nan       nan        nan       nan       nan       nan       nan    793.09   1208.96   bj2018       nan       nan       -- 20.4193 0.097465 19.3658 0.066093         0            --    gaia2       --            --  19.2130587245944  15.6077208053124 82.8500147487679 -79.0479850269465  0.471204262884357  0.538596561404311        1      0 142.05976189850566\n",
            "724151504 82.9969259763228 -78.9854844951814   3.99945   2.27152 19.9525    STAR   gaia2 20190415    --           --         --               --   --                  -- 4623416604908435328       --  --   gaia2    2.0205   2.05806  gaia2   0.0173734  0.922846   gaia2 290.912739721731 -30.3550772054791  276.14205113411 -77.4251426238868    nan    nan 20.9242 0.1055  nan    nan  nan    nan  nan    nan  nan    nan  nan    nan    nan    nan    nan    nan    nan    nan                  --  nan    nan     nan    nan     nan    nan     nan   nan     nan  20.605  0.011702     0.0507    gbprp  gaia2    nan     nan     nan       nan nan  nan      nan       nan      nan       nan       nan        nan       --          nan          nan 1544.77 916.528  0.107252   0.0013539365      --           nan          --           --           nan    0.002555  0.000152873 schlegel       nan       nan       nan       nan       nan        nan       nan       nan       nan       nan   676.505   1156.55   bj2018       nan       nan       -- 20.2847 0.191391 18.9848  0.07706         0            --    gaia2       --            --  40.6002162615382  31.9141707424451  82.997016105411  -78.985474715039   1.03680901137695  0.953289134020204        1      0   143.531253892375\n",
            "724151503 83.0345235409077 -79.0029914075436   3.83448  -2.51152 20.3028    STAR   gaia2 20190415    --           --         --               --   --                  -- 4623416574842345088       --  --   gaia2   4.14199   3.21363  gaia2     1.68073    1.7987   gaia2 290.930400567018  -30.343864041124 276.092082227662 -77.4096663407799    nan    nan 21.2095 0.1322  nan    nan  nan    nan  nan    nan  nan    nan  nan    nan    nan    nan    nan    nan    nan    nan                  --  nan    nan     nan    nan     nan    nan     nan   nan     nan 20.9269  0.019842     0.0224    rered  gaia2    nan     nan     nan       nan nan  nan      nan       nan      nan       nan       nan        nan    DWARF          nan          nan 1116.08 885.192  0.106665  0.00675106654      --           nan          --           --           nan   0.0125584  0.000943733 schlegel       nan       nan       nan       nan       nan        nan       nan       nan       nan       nan   626.283    1144.1   bj2018       nan       nan       -- 21.3593 0.185433  20.142 0.217159         1            --    gaia2       --            --   83.246053940236  49.8332555556878 83.0346100882028 -79.0030022210448   1.81769199637101     1.480283208804        1      1  143.7376993419268\n",
            "724151487 82.8963660976321 -79.0467697760549   1.35561  0.925723 19.7998    STAR   gaia2 20190415    --           --         --               --   --                  -- 4623415990724957312       --  --   gaia2   1.14819   1.19604  gaia2    -0.75069  0.509565   gaia2 290.987034539188 -30.3586935377985 276.164772466497 -77.3611239308829    nan    nan 20.5042 0.0635  nan    nan  nan    nan  nan    nan  nan    nan  nan    nan    nan    nan    nan    nan    nan    nan                  --  nan    nan     nan    nan     nan    nan     nan   nan     nan 20.3123  0.007209     0.0079    rered  gaia2 5703.0   402.0     nan       nan nan  nan      nan       nan      nan       nan       nan        nan    DWARF          nan          nan 2404.54 1025.17  0.106854   6.413357e-05      --           nan          --           --           nan 0.000124288  3.97914e-06 schlegel       nan       nan       nan       nan       nan        nan       nan       nan       nan       nan    818.04   1232.29   bj2018       nan       nan    dered 20.6544 0.087506 19.6709 0.088522         1            --    gaia2       --            --  23.0785113112972  18.5482344799914 82.8963968156291 -79.0467657903046  0.510128389197811   0.59713551254472        1      0 144.73067171585268\n",
            "724151578 82.9626675437785  -78.976976950719   5.68758   15.6741 18.7892    STAR   gaia2 20190415    --           --         --               --   --                  -- 4623418155388468864       --  --   gaia2  0.676318  0.854182  gaia2    0.947538   0.40574   gaia2 290.905022325487 -30.3634979163479 276.180104891917 -77.4319727039174    nan    nan 20.9224 0.1643  nan    nan  nan    nan  nan    nan  nan    nan  nan    nan    nan    nan    nan    nan    nan    nan                  --  nan    nan     nan    nan     nan    nan     nan   nan     nan 19.8718  0.006544     0.0143    rered  gaia2 3663.0   172.0  4.9437       nan nan  nan 0.406743       nan     0.53       nan   7.87617        nan    DWARF   0.02683385          nan  1079.6  565.25  0.106321    0.002499475      --           nan          --           --           nan  0.00393579   0.00106316 schlegel       nan       nan       nan       nan       nan        nan       nan       nan       nan       nan   358.001     772.5   bj2018       nan       nan    dered 21.0425 0.182415 18.6201 0.038087         1            --    gaia2       --            --  13.5880145614399  13.2467759559895 82.9627956177962 -78.9769094650397  0.349060942786303  0.429200554682831        1      0 147.48097943175418\n",
            "724151547 82.7745450720014 -78.9686056382904  -9.12631   13.5502 18.9451    STAR   gaia2 20190415    --           --         --               --   --                  -- 4623417468193686912       --  --   gaia2  0.733723  0.806763  gaia2     2.00965  0.413587   gaia2 290.905836979003 -30.4004353062834 276.349885687473 -77.4319595217865    nan    nan  20.991 0.1544  nan    nan  nan    nan  nan    nan  nan    nan  nan    nan    nan    nan    nan    nan    nan    nan                  --  nan    nan     nan    nan     nan    nan     nan   nan     nan 20.0018  0.005856     0.0203    rered  gaia2 3699.0   170.0     nan       nan nan  nan      nan       nan      nan       nan       nan        nan    DWARF          nan          nan 516.923 141.239 0.0947013     0.00650367      --           nan          --           --           nan  0.00674322   0.00626412 schlegel       nan       nan       nan       nan       nan        nan       nan       nan       nan       nan   105.922   176.556   bj2018       nan       nan    dered 21.0976 0.177264 18.7489 0.028977         1            --    gaia2       --            --  14.7404146432218  12.5123984898497 82.7743397180162 -78.9685472972201  0.378015251433755  0.435235767937153        1      0 149.09178175648145\n",
            "724151533 82.6323065017212  -79.028105225354   3.98922   9.01696 19.8746    STAR   gaia2 20190415    --           --         --               --   --                  -- 4623416987157861120       --  --   gaia2   2.95893   3.39531  gaia2     1.64325       1.2   gaia2 290.980477442721  -30.411966112908 276.407770865008   -77.36779127265    nan    nan 21.6508 0.2809  nan    nan  nan    nan  nan    nan  nan    nan  nan    nan    nan    nan    nan    nan    nan    nan                  --  nan    nan     nan    nan     nan    nan     nan   nan     nan 20.8525  0.013867     0.0078    rered  gaia2 3888.0   308.0     nan       nan nan  nan      nan       nan      nan       nan       nan        nan    DWARF          nan          nan 969.184 805.961  0.103573    0.007290925      --           nan          --           --           nan   0.0128792   0.00170265 schlegel       nan       nan       nan       nan       nan        nan       nan       nan       nan       nan   503.865   1108.06   bj2018       nan       nan    dered 21.8438 0.356843 19.7404 0.119483         1            --    gaia2       --            --  59.4824212603654   52.642421957675 82.6323967451818 -79.0280664023452   1.34445558164052   1.26149039111676        1      0 150.79029064663413\n",
            "724151549 82.7905672221838 -78.9662625663468 -0.339295  -18.6375 18.7903    STAR   gaia2 20190415    --           --         --               --   --                  -- 4623417502553425408       --  --   gaia2  0.587065  0.658428  gaia2     1.86151  0.341481   gaia2 290.902328003576 -30.3980413703587 276.338643739111 -77.4349442068445    nan    nan 20.7972 0.1798  nan    nan  nan    nan  nan    nan  nan    nan  nan    nan    nan    nan    nan    nan    nan    nan                  --  nan    nan     nan    nan     nan    nan     nan   nan     nan 19.8188  0.004658     0.0583    gbprp  gaia2    nan     nan     nan       nan nan  nan      nan       nan      nan       nan       nan        nan       --          nan          nan 549.947 123.542 0.0963713    0.005082735      --           nan          --           --           nan  0.00530931   0.00485616 schlegel       nan       nan       nan       nan       nan        nan       nan       nan       nan       nan    97.643   149.441   bj2018       nan       nan       --  20.888 0.212008 18.5524 0.021192         0            --    gaia2       --            --  11.7938864855416  10.2115913323178 82.7905595892009 -78.9663428111392  0.305096973685971  0.348758077055879        1      0 155.11332865457513\n",
            "724151516 82.7793319121867 -79.0511274775342       nan       nan 20.6052    STAR   gaia2 20190415    --           --         --               --   --                  -- 4623416712279983104       --  --   gaia2       nan       nan     --         nan       nan      -- 290.998272601608 -30.3791659797011 276.259205564384 -77.3518426372795    nan    nan     nan    nan  nan    nan  nan    nan  nan    nan  nan    nan  nan    nan    nan    nan    nan    nan    nan    nan                  --  nan    nan     nan    nan     nan    nan     nan   nan     nan 21.0352  0.016381        0.6    goffs     --    nan     nan     nan       nan nan  nan      nan       nan      nan       nan       nan        nan       --          nan          nan     nan     nan       nan            nan      --           nan          --           --           nan         nan          nan       --       nan       nan       nan       nan       nan        nan       nan       nan       nan       nan       nan       nan       --       nan       nan       --     nan      0.0     nan      0.0        --            --       --       --            --  4.59563375899778  2.53980408755188 82.7793319121867 -79.0511274775342   4.59563375899778   2.53980408755188       --      0 155.98914770983046\n",
            "724151579 82.9415939393565  -78.970696684303       nan       nan 20.7423    STAR   gaia2 20190415    --           --         --               --   --                  -- 4623418155389436288       --  --   gaia2       nan       nan     --         nan       nan      -- 290.899096267722 -30.3689352220762 276.204646432473 -77.4371892145134    nan    nan     nan    nan  nan    nan  nan    nan  nan    nan  nan    nan  nan    nan    nan    nan    nan    nan    nan    nan                  --  nan    nan     nan    nan     nan    nan     nan   nan     nan 21.1723   0.02475        0.6    goffs     --    nan     nan     nan       nan nan  nan      nan       nan      nan       nan       nan        nan       --          nan          nan     nan     nan       nan            nan      --           nan          --           --           nan         nan          nan       --       nan       nan       nan       nan       nan        nan       nan       nan       nan       nan       nan       nan       --       nan       nan       --     nan      0.0     nan      0.0        --            --       --       --            --  3.64110789714505    3.394252552193 82.9415939393565  -78.970696684303   3.64110789714505     3.394252552193       --      0  157.9769162357632\n",
            "261105221 82.9262806618298 -79.0487024663136   8.06583   60.1743 14.2108    STAR tmgaia2 20190415    --           -- 055-003605 05314233-7902552   -- J053142.34-790254.6 4623416093805788800       --  -- tmgaia2 0.0573978 0.0706755  gaia2     4.49686 0.0330844   gaia2 290.987591827791 -30.3527097082403  276.13747847859 -77.3605155329277 17.533  0.179  16.273   0.24  nan    nan  nan    nan  nan    nan  nan    nan  nan    nan 12.804  0.027 12.088  0.023 11.948  0.025 AAA-222-111-000-0-0  nan 11.773   0.023 11.789    0.02 11.744   0.136 9.623     nan 15.3062  0.000511 0.00740375    cdwrf  cdwrf 3607.0   157.0 4.67613 0.0105349 nan  nan 0.570719 0.0173047 0.563515 0.0205045   3.03137   0.165676    DWARF 0.0496734045  0.011719319 220.972   1.628 0.0651863   0.0002899635     108  0.0014513504          --           --  0.0009547146 0.000288824  0.000291103 schlegel       nan       nan       nan       nan       nan        nan       nan       nan       nan       nan     1.616      1.64   bj2018       nan       nan    cdwrf  16.456 0.003911 14.2446 0.001735         1            --    ucac4     bpbj cooldwarfs_v8  1.15375457548696  1.09608793895578 82.9264634646523 -79.0484433825742 0.0294034315059977  0.036792679832502        1      0 158.92253024010006\n",
            "724151554 82.6333811924275 -78.9846377406053   4.16267 -0.300686 18.4121    STAR   gaia2 20190415    --           --         --               --   --                  -- 4623417536914789504       --  --   gaia2  0.301256  0.361004  gaia2    0.481434  0.178881   gaia2 290.931606090334  -30.422609640952 276.453368724666 -77.4101038423068    nan    nan 19.0716 0.0483  nan    nan  nan    nan  nan    nan  nan    nan  nan    nan    nan    nan    nan    nan    nan    nan                  --  nan    nan     nan    nan     nan    nan     nan   nan     nan 18.8979  0.002485     0.0068    rered  gaia2 5874.0   191.0     nan       nan nan  nan      nan       nan      nan       nan       nan        nan    DWARF          nan          nan 1789.25  575.75  0.106768 0.000167285543      --           nan          --           --           nan  0.00028366  5.09111e-05 schlegel       nan       nan       nan       nan       nan        nan       nan       nan       nan       nan     433.6     717.9   bj2018       nan       nan    dered 19.2716 0.042567 18.3417  0.01564         1            --    gaia2       --            --   6.0528976622205  5.59860613773665 82.6334749926169   -78.98463903524  0.158263286824555  0.184598455189752        1      0 159.10774910683935\n",
            "724151551 82.7787910963017 -78.9642002050628   -1.5591   9.67534 19.7003    STAR   gaia2 20190415    --           --         --               --   --                  -- 4623417502553915776       --  --   gaia2   2.32565   2.84878  gaia2     2.83822  0.786765   gaia2 290.900654678593 -30.4007341070943 276.350905684858 -77.4364337763879    nan    nan 21.4494 0.2246  nan    nan  nan    nan  nan    nan  nan    nan  nan    nan    nan    nan    nan    nan    nan    nan                  --  nan    nan     nan    nan     nan    nan     nan   nan     nan 20.6672  0.010124      0.017    rered  gaia2 3888.0   240.0     nan       nan nan  nan      nan       nan      nan       nan       nan        nan    DWARF          nan          nan 394.963 239.389 0.0867394      0.0149184      --           nan          --           --           nan   0.0143817    0.0154551 schlegel       nan       nan       nan       nan       nan        nan       nan       nan       nan       nan   127.864   350.915   bj2018       nan       nan    dered 21.5864 0.294794  19.505 0.064411         1            --    gaia2       --            --  46.7216310699484  44.1666181997492 82.7787560283309 -78.9641585473506  0.832032124635899  0.964302397754594        1      0 163.90042170920208\n",
            "724151517 82.8271960616668 -79.0544880329971  -19.1468   17.9937 15.9226    STAR   gaia2 20190415    --           --         --               --   --                  -- 4623416712281077120       --  --   gaia2  0.137874  0.174695  gaia2     5.78856 0.0758021   gaia2 290.999450042796 -30.3695299693061 276.215280971381 -77.3506382580874    nan    nan 18.2658 0.0478  nan    nan  nan    nan  nan    nan  nan    nan  nan    nan    nan    nan    nan    nan    nan    nan                  --  nan    nan     nan    nan     nan    nan     nan   nan     nan 17.0475  0.000851     0.0108    rered  gaia2 3494.0   122.0     nan       nan nan  nan      nan       nan      nan       nan       nan        nan    DWARF          nan          nan 171.944  2.2585 0.0548994   0.0004898365      --           nan          --           --           nan 0.000485782  0.000493891 schlegel       nan       nan       nan       nan       nan        nan       nan       nan       nan       nan     2.229     2.288   bj2018       nan       nan    dered 18.4757 0.014395 15.8625 0.002915         1            --    gaia2       --            --  2.77143985324087  2.70905708545605 82.8267618947457 -79.0544105604281 0.0670208573405907 0.0834169077789573        1      0  164.5766799086315\n",
            "261105186 82.9853416755803  -78.973282522487  -4.66808  -5.49428 18.9083    STAR tmgaia2 20190415    --           --         -- 05315658-7858235   -- J053156.47-785823.8 4623418151093451648       --  -- tmgaia2   3.68604   3.68996   hsoy         nan       nan      -- 290.899646658299  -30.360190992925 276.164476881368 -77.4365432945257 17.958  0.161 20.0478 0.0539  nan    nan  nan    nan  nan    nan  nan    nan  nan    nan 16.172  0.117 15.577  0.153 15.194  0.159 BBC-222-111-000-0-0  nan 14.481   0.026  14.38   0.034 12.045   0.171  9.62     nan 19.6379  0.015827     0.0179    gbprp     --    nan     nan     nan       nan nan  nan      nan       nan      nan       nan       nan        nan    DWARF          nan          nan     nan     nan       nan            nan      --           nan          --           --           nan         nan          nan       --       nan       nan       nan       nan       nan        nan       nan       nan       nan       nan       nan       nan       --       nan       nan       -- 18.9917 0.038385 17.5063 0.023984         0            --    gaia2     bpbj            --  74.0676414496545  57.2245776680973 82.9852365936386 -78.9733061784329   1.36165148546409    1.8588129835205       -1     -1   167.683708004314\n",
            "724151552 82.6460379328919 -78.9775322694743 -0.155607   11.7547 18.7012    STAR   gaia2 20190415    --           --         --               --   --                  -- 4623417532618156928       --  --   gaia2  0.508416  0.610343  gaia2     1.04354  0.306054   gaia2 290.922927055249 -30.4220364973726 276.450200385855 -77.4175780117595    nan    nan 20.4689 0.1006  nan    nan  nan    nan  nan    nan  nan    nan  nan    nan    nan    nan    nan    nan    nan    nan                  --  nan    nan     nan    nan     nan    nan     nan   nan     nan 19.6767  0.004498     0.0157    rered  gaia2 3896.0   149.0     nan       nan nan  nan      nan       nan      nan       nan       nan        nan    DWARF          nan          nan 969.907 369.281  0.105374     0.00245008      --           nan          --           --           nan   0.0033823   0.00151786 schlegel       nan       nan       nan       nan       nan        nan       nan       nan       nan       nan    254.17   484.393   bj2018       nan       nan    dered  20.653 0.118587 18.5579 0.029124         1            --    gaia2       --            --  10.2147849552393  9.46550200995498 82.6460344287292 -78.9774816589608   0.26889903705038  0.313273076228252        1      0 167.87410498841402\n",
            "261105219 82.6824551548032 -79.0463777870315  0.628809   13.3169 17.9574    STAR tmgaia2 20190415    --           --         -- 05304389-7902466   -- J053043.78-790246.6 4623410901188623872       --  -- tmgaia2  0.279542  0.340312  gaia2    0.587667  0.168766   gaia2 290.998238107115 -30.3981749731032  276.34598185272 -77.3522342280017  20.42  0.158 19.4349 0.0637  nan    nan  nan    nan  nan    nan  nan    nan  nan    nan  16.48  0.122 16.014  0.199 15.617  0.238 BDD-222-111-000-0-0  nan  15.72   0.034 15.887   0.075 13.221     nan 9.672     nan 18.8325  0.002612     0.0065    rered  gaia2 4069.0   143.0 4.59025       nan nan  nan 0.671431       nan     0.64       nan   2.11435        nan    DWARF  0.111339189          nan 1566.14  451.52  0.105135   0.0002878545      --           nan          --           --           nan 0.000451856  0.000123853 schlegel       nan       nan       nan       nan       nan        nan       nan       nan       nan       nan     344.1    558.94   bj2018       nan       nan    dered 19.6848 0.068159  17.867  0.01303         1            --    gaia2     bpbj            --  5.61910048097605    5.277661385078 82.6824694030532 -79.0463204503786  0.146677167858928  0.172669825526666        1      0 167.89044007668537\n",
            "261090483 82.5807848328217 -79.0083807168985   8.97065    7.7147 18.1263    STAR tmgaia2 20190415    --           --         -- 05301947-7900301   -- J053019.51-790030.1 4623417085941543936       --  -- tmgaia2    0.3775  0.471841  gaia2     1.69219  0.237467   gaia2  290.96117582301 -30.4264001125729 276.472568714431 -77.3846684142316  21.27  0.202 20.4708 0.1265  nan    nan  nan    nan  nan    nan  nan    nan  nan    nan 16.237  0.104 15.658  0.173 15.374  0.183 ACC-222-111-000-0-0  nan 15.422   0.034 15.244   0.056 12.756     nan 9.654     nan 19.2607  0.002904     0.0068    rered  gaia2 3537.0   150.0     nan       nan nan  nan      nan       nan      nan       nan       nan        nan    DWARF          nan          nan 593.172 91.7545 0.0970483     0.00320441      --           nan          --           --           nan  0.00334537   0.00306345 schlegel       nan       nan       nan       nan       nan        nan       nan       nan       nan       nan    78.182   105.327   bj2018       nan       nan    dered 20.6513 0.128141 18.0471 0.019753         1            --    gaia2     bpbj            --  7.58609718447074  7.31792886575248 82.5809874056539  -79.008347500896  0.197492632783579  0.253537718008788        1      0 169.25567869839395\n",
            "724151532 82.6001102836914 -79.0271545027882   5.92255  -12.8991 19.8379    STAR   gaia2 20190415    --           --         --               --   --                  -- 4623416987157857024       --  --   gaia2   1.29291   1.28999  gaia2    0.586893  0.618528   gaia2 290.981185890572 -30.4181373408745  276.43603176505 -77.3672832164915    nan    nan 20.6876  0.086  nan    nan  nan    nan  nan    nan  nan    nan  nan    nan    nan    nan    nan    nan    nan    nan                  --  nan    nan     nan    nan     nan    nan     nan   nan     nan 20.4319  0.007687     0.0068    rered  gaia2    nan     nan     nan       nan nan  nan      nan       nan      nan       nan       nan        nan    DWARF          nan          nan 1384.24 823.343  0.104885    0.001632031      --           nan          --           --           nan  0.00297284  0.000291222 schlegel       nan       nan       nan       nan       nan        nan       nan       nan       nan       nan   566.806   1079.88   bj2018       nan       nan       -- 20.9369 0.149475  19.784 0.096814         1            --    gaia2       --            --  25.9854734895977  20.0078497923327 82.6002442511518 -79.0272100406096  0.642884239787934  0.721267452838236        1      1  169.3209315361754\n",
            "724151515 82.8283803808738 -79.0558328561236  0.889056  -0.36289  19.268    STAR   gaia2 20190415    --           --         --               --   --                  -- 4623416707986429824       --  --   gaia2  0.637342  0.793006  gaia2   -0.147561  0.327513   gaia2 291.000896357221 -30.3689804603054 276.212888322349 -77.3493794655162    nan    nan 19.9047 0.0508  nan    nan  nan    nan  nan    nan  nan    nan  nan    nan    nan    nan    nan    nan    nan    nan                  --  nan    nan     nan    nan     nan    nan     nan   nan     nan 19.7399  0.004887     0.0067    rered  gaia2 5961.0   252.0     nan       nan nan  nan      nan       nan      nan       nan       nan        nan    DWARF          nan          nan 2486.61  981.27  0.106056   3.786575e-05      --           nan          --           --           nan 7.29543e-05   2.7772e-06 schlegel       nan       nan       nan       nan       nan        nan       nan       nan       nan       nan    778.17   1184.37   bj2018       nan       nan    dered 20.0568 0.055115 19.1544 0.038046         1            --    gaia2       --            --  12.8113379734649  12.2974283590017   82.82840054328 -79.0558344185673  0.294406339622491  0.378795151936467        1      0 169.41942315758814\n",
            "724151264 82.7630832537913 -79.0543288746642  -3.27441   30.9865 19.1245    STAR   gaia2 20190415    --           --         --               --   --                  -- 4623410836765815552       --  --   gaia2  0.990084   1.08281  gaia2     1.54623  0.463306   gaia2 291.002758252941  -30.381365269786 276.269570476325    -77.3480201887    nan    nan  21.028 0.2103  nan    nan  nan    nan  nan    nan  nan    nan  nan    nan    nan    nan    nan    nan    nan    nan                  --  nan    nan     nan    nan     nan    nan     nan   nan     nan 20.1412  0.006493     0.0073    rered  gaia2 3789.0   216.0     nan       nan nan  nan      nan       nan      nan       nan       nan        nan    DWARF          nan          nan 693.672 335.068  0.100099    0.006303085      --           nan          --           --           nan   0.0078142   0.00479197 schlegel       nan       nan       nan       nan       nan        nan       nan       nan       nan       nan   206.617   463.518   bj2018       nan       nan    dered  21.249 0.247029 19.0285 0.094214         1            --    gaia2       --            --  19.9022624699966  16.7926773130885 82.7630090053526 -79.0541954605826  0.471997294366977  0.553437352816898        1      0 169.81175439515536\n",
            "261105216 82.6533744654105  -79.042431518993   5.95495   4.98771 16.4375    STAR tmgaia2 20190415    --           --         -- 05303682-7902327   -- J053036.82-790232.6 4623411107347055232       --  -- tmgaia2 0.0914067   0.11312  gaia2     0.48839 0.0564962   gaia2 290.995403858188 -30.4045107441511 276.374717000218 -77.3547914708099 17.605  0.128 17.1701  0.046  nan    nan  nan    nan  nan    nan  nan    nan  nan    nan 15.544  0.065 15.162  0.099 15.217  0.172 AAC-222-111-000-0-0  nan 15.167    0.03  15.44   0.057 13.313     nan 9.617     nan 16.9664  0.000834     0.0061    rered  gaia2 5594.0   126.0 4.61204       nan nan  nan 0.814387       nan     0.99       nan   1.83292        nan    DWARF  0.585121751          nan 1909.48 211.645  0.105125   2.957085e-05      --           nan          --           --           nan 3.91737e-05   1.9968e-05 schlegel       nan       nan       nan       nan       nan        nan       nan       nan       nan       nan    189.45    233.84   bj2018       nan       nan    dered 17.3912 0.008128 16.3742 0.005696         1            --    gaia2     bpbj            --  1.83731896929044  1.75434108444885 82.6535093512545   -79.04241004416 0.0479899996190968 0.0586630291167628        1      0 170.00519576500898\n",
            "724151553  82.631336986159 -78.9798364705632 -0.760275   6.78986 19.6269    STAR   gaia2 20190415    --           --         --               --   --                  -- 4623417536913654528       --  --   gaia2   1.61261   1.87446  gaia2    0.907789  0.701799   gaia2 290.926326720817  -30.424184486297 276.460268140551  -77.414680303188    nan    nan 21.4528 0.1756  nan    nan  nan    nan  nan    nan  nan    nan  nan    nan    nan    nan    nan    nan    nan    nan                  --  nan    nan     nan    nan     nan    nan     nan   nan     nan 20.6209  0.010262     0.0138    rered  gaia2 3853.0   192.0     nan       nan nan  nan      nan       nan      nan       nan       nan        nan    DWARF          nan          nan 1168.61 777.617  0.106353     0.00314985      --           nan          --           --           nan  0.00556034   0.00073936 schlegel       nan       nan       nan       nan       nan        nan       nan       nan       nan       nan   501.965   1053.27   bj2018       nan       nan    dered 21.6799 0.213451 19.5313 0.071824         1            --    gaia2       --            --  32.3990829596843  29.0641782597416 82.6313198617527 -78.9798072364442  0.699869174881651  0.764190982108041        1      0 170.29907852925993\n",
            "261090476 82.5798756777071 -79.0051999910649   8.76703   7.56546 16.6507    STAR tmgaia2 20190415    --           --         -- 05301919-7900186   -- J053019.20-790018.5 4623417090238190592       --  -- tmgaia2   0.14963  0.192144  gaia2     1.32683 0.0927982   gaia2 290.957654844161 -30.4273641857553 276.476766378499 -77.3877191146534 19.679   0.19 18.3591 0.0483  nan    nan  nan    nan  nan    nan  nan    nan  nan    nan 15.345  0.057 14.743  0.082 14.555  0.095 AAA-222-111-000-0-0  nan 14.415   0.026 14.385   0.036 12.961     nan 9.302     nan   17.65  0.001254 0.00899133    cdwrf  cdwrf 3790.0   158.0  4.6733 0.0284854 nan  nan 0.574022 0.0359879 0.566358   0.03392   2.99437   0.387021    DWARF   0.06125036  0.018031951 740.417 52.2945   0.10106    0.001002679      --           nan          --           --           nan  0.00104457  0.000960788 schlegel       nan       nan       nan       nan       nan        nan       nan       nan       nan       nan    48.692    55.897   bj2018       nan       nan    cdwrf 18.6432 0.020875 16.6648 0.005561         1            --    gaia2     bpbj cooldwarfs_v8  3.00682208763638  2.97992568962638 82.5800735958776 -79.0051674176206 0.0781806800991466  0.100455312807575        1      0  170.3841411241828\n",
            "261105225 82.7652527755804  -79.054811060768  -1.52517   18.3654 18.3014    STAR tmgaia2 20190415    --           --         -- 05310362-7903170   -- J053103.51-790316.5 4623410832469145344       --  -- tmgaia2   0.52732   0.67723  gaia2     1.46622  0.295211   gaia2 291.003181526841 -30.3808467527937 276.267236067087 -77.3476450128429 21.455  0.224 20.5703 0.0943  nan    nan  nan    nan  nan    nan  nan    nan  nan    nan  16.55  0.139 15.641  0.156 15.681  0.239 BCD-222-111-000-0-0  nan   15.2    0.03  15.13    0.05 13.003     nan  9.49     nan 19.4179  0.003979     0.0073    rered  gaia2 3583.0   136.0     nan       nan nan  nan      nan       nan      nan       nan       nan        nan    DWARF          nan          nan 693.974 172.333  0.100115    0.003761165      --           nan          --           --           nan  0.00422601   0.00329632 schlegel       nan       nan       nan       nan       nan        nan       nan       nan       nan       nan   133.174   211.492   bj2018       nan       nan    dered 20.7186 0.089795 18.1787 0.023596         1            --    gaia2     bpbj            --  10.5999428528868  10.5026115399382 82.7652181902885 -79.0547319875193  0.256710839079385  0.341285136824786        1      0 171.11307746784541\n",
            "724151497 83.0721487182979 -79.0193991180081    2.8727   5.37631  18.205    STAR   gaia2 20190415    --           --         --               --   --                  -- 4623416364387037568       --  --   gaia2  0.392478  0.491277  gaia2    0.409966   0.20767   gaia2 290.946831756863 -30.3329302308471 276.043414065592 -77.3952447940449    nan    nan 19.5084 0.0572  nan    nan  nan    nan  nan    nan  nan    nan  nan    nan    nan    nan    nan    nan    nan    nan                  --  nan    nan     nan    nan     nan    nan     nan   nan     nan 19.0123  0.003101     0.0092    rered  gaia2 4327.0   149.0  4.6819       nan nan  nan 0.622782       nan     0.68       nan   2.81515        nan    DWARF  0.122493848          nan 1908.27 695.675  0.108598 0.000149768457      --           nan          --           --           nan 0.000266794  3.27429e-05 schlegel       nan       nan       nan       nan       nan        nan       nan       nan       nan       nan     517.4    873.95   bj2018       nan       nan    dered 19.7921 0.050401 18.1496 0.030931         1            --    gaia2       --            --  7.88733868205003  7.61868424096383 83.0722136531382 -79.0193759700138  0.190169937517923  0.243453313529141        1      0 172.23328053053362\n",
            "724151498 83.0774380433279  -79.013599445861   2.01712   2.19759 18.9239    STAR   gaia2 20190415    --           --         --               --   --                  -- 4623416364387041024       --  --   gaia2  0.516527  0.632147  gaia2    0.323573  0.277956   gaia2 290.940029363633 -30.3333558284663  276.04475171117   -77.40112413056    nan    nan  19.792 0.0528  nan    nan  nan    nan  nan    nan  nan    nan  nan    nan    nan    nan    nan    nan    nan    nan                  --  nan    nan     nan    nan     nan    nan     nan   nan     nan 19.5278  0.004547     0.0077    rered  gaia2 5181.0   196.0     nan       nan nan  nan      nan       nan      nan       nan       nan        nan    DWARF          nan          nan 1940.63   809.6   0.10845 0.000185456753      --           nan          --           --           nan 0.000342077  2.88365e-05 schlegel       nan       nan       nan       nan       nan        nan       nan       nan       nan       nan    600.17   1019.03   bj2018       nan       nan    dered 19.9999 0.052798 18.8263 0.033065         1            --    gaia2       --            --  10.3799787160546  9.80391897233602 83.0774836147663 -79.0135899840185  0.254752957603949  0.332514138899075        1      0  172.4818464291948\n",
            "724151610 82.9076054263248 -78.9625402485812    3.1656   13.2664 19.5794    STAR   gaia2 20190415    --           --         --               --   --                  -- 4623418911303790848       --  --   gaia2   1.55017   1.28411  gaia2     1.09535  0.567727   gaia2 290.891773172603  -30.377235935959 276.242230512539 -77.4436697458261    nan    nan 21.1987 0.1487  nan    nan  nan    nan  nan    nan  nan    nan  nan    nan    nan    nan    nan    nan    nan    nan                  --  nan    nan     nan    nan     nan    nan     nan   nan     nan 20.4917  0.008087     0.0401    gbprp  gaia2    nan     nan     nan       nan nan  nan      nan       nan      nan       nan       nan        nan       --          nan          nan 1005.46 651.576  0.105976     0.00391755      --           nan          --           --           nan  0.00635541   0.00147969 schlegel       nan       nan       nan       nan       nan        nan       nan       nan       nan       nan   388.981    914.17   bj2018       nan       nan       --  21.339 0.189505 19.3636 0.076269         0            --    gaia2       --            --  31.1399840132395  19.9160003213511 82.9076766178328 -78.9624831293668  0.707377997030952  0.699711421253125        1      0  175.3465391996259\n",
            "724151576 83.0677699827642 -78.9915387789674       nan       nan   20.63    STAR   gaia2 20190415    --           --         --               --   --                  -- 4623418086670156544       --  --   gaia2       nan       nan     --         nan       nan      -- 290.915739736296 -30.3404795248176 276.075299817015 -77.4222381897914    nan    nan     nan    nan  nan    nan  nan    nan  nan    nan  nan    nan  nan    nan    nan    nan    nan    nan    nan    nan                  --  nan    nan     nan    nan     nan    nan     nan   nan     nan   21.06  0.026337        0.6    goffs     --    nan     nan     nan       nan nan  nan      nan       nan      nan       nan       nan        nan       --          nan          nan     nan     nan       nan            nan      --           nan          --           --           nan         nan          nan       --       nan       nan       nan       nan       nan        nan       nan       nan       nan       nan       nan       nan       --       nan       nan       --     nan      0.0     nan      0.0        --            --       --       --            --  5.00470238047287  4.22921503591095 83.0677699827642 -78.9915387789674   5.00470238047287   4.22921503591095       --      0  176.4030817672127\n",
            "724151535 82.5716064205645 -79.0163362327275       nan       nan 20.6207    STAR   gaia2 20190415    --           --         --               --   --                  -- 4623417055877916928       --  --   gaia2       nan       nan     --         nan       nan      -- 290.970611165956 -30.4260992912494 276.471796146719 -77.3765251617686    nan    nan     nan    nan  nan    nan  nan    nan  nan    nan  nan    nan  nan    nan    nan    nan    nan    nan    nan    nan                  --  nan    nan     nan    nan     nan    nan     nan   nan     nan 21.0507  0.018746        0.6    goffs     --    nan     nan     nan       nan nan  nan      nan       nan      nan       nan       nan        nan       --          nan          nan     nan     nan       nan            nan      --           nan          --           --           nan         nan          nan       --       nan       nan       nan       nan       nan        nan       nan       nan       nan       nan       nan       nan       --       nan       nan       --     nan      0.0     nan      0.0        --            --       --       --            --  1.90112901481296   2.0960903427437 82.5716064205645 -79.0163362327275   1.90112901481296    2.0960903427437       --      0 177.58701706363107\n",
            "724151486 82.8652640160673 -79.0576797353256  0.177565   3.44722 18.3292    STAR   gaia2 20190415    --           --         --               --   --                  -- 4623415952070161792       --  --   gaia2  0.304995  0.382125  gaia2    0.110014  0.172725   gaia2  291.00097253348 -30.3617394178159 276.179838563626 -77.3491640269215    nan    nan 18.9833 0.0471  nan    nan  nan    nan  nan    nan  nan    nan  nan    nan    nan    nan    nan    nan    nan    nan                  --  nan    nan     nan    nan     nan    nan     nan   nan     nan 18.8117  0.002388     0.0063    rered  gaia2 5894.0   160.0     nan       nan nan  nan      nan       nan      nan       nan       nan        nan    DWARF          nan          nan 2840.34   930.8   0.10637   7.309058e-06      --           nan          --           --           nan  1.3998e-05  6.20116e-07 schlegel       nan       nan       nan       nan       nan        nan       nan       nan       nan       nan    742.81   1118.79   bj2018       nan       nan    dered 19.1862 0.025059 18.2629 0.019605         1            --    gaia2       --            --  6.13103757454373   5.9264278819075 82.8652680436364 -79.0576648931284  0.152122470644126  0.203368656740219        1      0 177.96945045477622\n",
            "261105223 82.7122636113482 -79.0531015732663   9.01867    17.008  17.597    STAR tmgaia2 20190415    --           --         -- 05305096-7903112   -- J053050.96-790312.0 4623410905485291136       --  -- tmgaia2  0.187511  0.236445  gaia2    0.306781  0.113867   gaia2  291.00415535485 -30.3910181281109 276.313736914679 -77.3469993683836 18.833   0.19 18.4628  0.047  nan    nan  nan    nan  nan    nan  nan    nan  nan    nan 16.607  0.152 16.353  0.296 16.754    nan BDU-220-110-000-0-0  nan 15.881   0.037 15.885   0.085 13.356     nan 9.297     nan 18.1996   0.00154     0.0062    rered  gaia2 5177.0   137.0 4.66212       nan nan  nan 0.724792       nan     0.88       nan   2.31123        nan    DWARF    0.3399649          nan 2500.99  657.56  0.105377   1.196912e-05      --           nan          --           --           nan 2.14378e-05  2.50044e-06 schlegel       nan       nan       nan       nan       nan        nan       nan       nan       nan       nan    524.72     790.4   bj2018       nan       nan    dered 18.7199 0.022664 17.5488 0.010631         1            --    gaia2     bpbj            --   3.7693326090218  3.66687108737526 82.7124680903374 -79.0530283444449 0.0976183314813048   0.12029083889631        1      0 178.00059297617008\n",
            "724151574 83.0692935205414 -78.9892072972198   4.77835   10.8619 18.9078    STAR   gaia2 20190415    --           --         --               --   --                  -- 4623418082373969408       --  --   gaia2  0.699475  0.902595  gaia2    0.896392  0.388582   gaia2 290.913041758892 -30.3407630124849 276.076345826055 -77.4245759201071    nan    nan 20.6981 0.1304  nan    nan  nan    nan  nan    nan  nan    nan  nan    nan    nan    nan    nan    nan    nan    nan                  --  nan    nan     nan    nan     nan    nan     nan   nan     nan 19.8907   0.00579     0.0116    rered  gaia2 3882.0   167.0     nan       nan nan  nan      nan       nan      nan       nan       nan        nan    DWARF          nan          nan 1124.35 578.278  0.107258  0.00220003957      --           nan          --           --           nan  0.00350939  0.000890689 schlegel       nan       nan       nan       nan       nan        nan       nan       nan       nan       nan   370.235    786.32   bj2018       nan       nan    dered 20.8592  0.15933 18.7435 0.042153         1            --    gaia2       --            --  14.0540836454847  13.9988313547231 83.0694012383856 -78.9891605307255  0.343032702065057  0.490870347926182        1      0 180.50610510808136\n",
            "724151566 83.0791764525669 -78.9941249458266   4.94604   5.49395 19.0269    STAR   gaia2 20190415    --           --         --               --   --                  -- 4623417880510572800       --  --   gaia2  0.490548  0.628551  gaia2    0.757491  0.279323   gaia2 290.918042120297  -30.337742980737  276.06291833277  -77.420194722148    nan    nan 19.5961 0.0508  nan    nan  nan    nan  nan    nan  nan    nan  nan    nan    nan    nan    nan    nan    nan    nan                  --  nan    nan     nan    nan     nan    nan     nan   nan     nan 19.4567   0.00446     0.0075    gbprp  gaia2    nan     nan     nan       nan nan  nan      nan       nan      nan       nan       nan        nan       --          nan          nan 1268.69  518.95  0.107611      0.0011272      --           nan          --           --           nan  0.00178141   0.00047299 schlegel       nan       nan       nan       nan       nan        nan       nan       nan       nan       nan   357.939    679.96   bj2018       nan       nan       -- 19.6589 0.051333   18.84 0.052974         0            --    gaia2       --            --  9.85649713012656  9.74853941301113 83.0792879998367 -78.9941012913398  0.240607754803964  0.341943405977046        1      1  180.8082653151666\n",
            "724151556 82.6686192999735 -78.9682869240703   1.59183   13.7755 17.8052    STAR   gaia2 20190415    --           --         --               --   --                  -- 4623417566977898368       --  --   gaia2  0.203957  0.258057  gaia2     0.31031  0.123949   gaia2 290.911296870488  -30.420152191924  276.44082544425 -77.4275762290327    nan    nan 18.5754 0.0471  nan    nan  nan    nan  nan    nan  nan    nan  nan    nan    nan    nan    nan    nan    nan    nan                  --  nan    nan     nan    nan     nan    nan     nan   nan     nan 18.3556  0.001748     0.0199    rered  gaia2 5474.0   145.0 4.89627       nan nan  nan  0.57814       nan     0.96       nan   4.96788        nan    DWARF  0.270383745          nan 2439.88 672.105  0.107246 1.61850257e-05      --           nan          --           --           nan 2.90922e-05  3.27785e-06 schlegel       nan       nan       nan       nan       nan        nan       nan       nan       nan       nan     532.3    811.91   bj2018       nan       nan    dered 18.8189 0.020866  17.758 0.018389         1            --    gaia2       --            --  4.09742320525823  4.00209035909611 82.6686551172213 -78.9682276128914   0.10588216168658  0.132888031055575        1      0 182.09265167872735\n",
            "261090463 82.5824306263021 -78.9889948802501   5.07673  -58.4435 18.3587    STAR tmgaia2 20190415    --           --         -- 05301970-7859206   -- J053019.78-785920.8 4623417223380505984       --  -- tmgaia2  0.553388  0.647705  gaia2     4.67441  0.315857   gaia2 290.939317340049 -30.4309469152999 276.492073350188 -77.4035837345156    nan    nan     nan    nan  nan    nan  nan    nan  nan    nan  nan    nan  nan    nan 16.121  0.095 15.561  0.152 15.062  0.155 ABB-222-111-000-0-0  nan 15.201   0.029 15.022   0.044 13.181     nan 9.446     nan 19.5863  0.004147     0.0073    rered  gaia2 3252.0   164.0     nan       nan nan  nan      nan       nan      nan       nan       nan        nan       --          nan          nan 214.227  14.956 0.0637611    0.002718655      --           nan          --           --           nan  0.00261877   0.00281854 schlegel       nan       nan       nan       nan       nan        nan       nan       nan       nan       nan    13.933    15.979   bj2018       nan       nan    dered 21.2124 0.186996 18.2221 0.020798         1            --       --       --            --  11.1190902504391  10.0448439368845 82.5825450683153 -78.9892465120048  0.285047383070212   0.32982599747446       -1      0  182.7098303120105\n",
            "724151577 83.0276816176795 -78.9750931185144   1.50175   9.46432 19.3633    STAR   gaia2 20190415    --           --         --               --   --                  -- 4623418116733712128       --  --   gaia2  0.849376  0.990764  gaia2    0.151463  0.442926   gaia2 290.899404274992 -30.3518961108439 276.126331350189 -77.4365811067129    nan    nan 20.2697 0.0693  nan    nan  nan    nan  nan    nan  nan    nan  nan    nan    nan    nan    nan    nan    nan    nan                  --  nan    nan     nan    nan     nan    nan     nan   nan     nan 19.9873  0.005685     0.0093    rered  gaia2 5075.0   309.0     nan       nan nan  nan      nan       nan      nan       nan       nan        nan    DWARF          nan          nan 1867.04 885.495  0.108129   0.0003295709      --           nan          --           --           nan 0.000619891  3.92508e-05 schlegel       nan       nan       nan       nan       nan        nan       nan       nan       nan       nan    663.63   1107.36   bj2018       nan       nan    dered 20.4321 0.113239 19.2152 0.041569         1            --    gaia2       --            --  17.0643306581956   15.366336995226 83.0277154286687 -78.9750523693604  0.418318352715666   0.54010780209758        1      0 183.46962666042197\n",
            "261105218  82.642004577528 -79.0457658884183   6.38413  -2.47664 16.4713    STAR tmgaia2 20190415    --           --         -- 05303407-7902446   -- J053034.13-790244.7 4623411111643719680       --  -- tmgaia2 0.0953701  0.119976  gaia2     0.52088 0.0658167   gaia2 290.999772840148 -30.4057712232886  276.38077537381 -77.3510460769961 17.548  0.129 17.1899  0.046  nan    nan  nan    nan  nan    nan  nan    nan  nan    nan 15.821   0.07 15.177  0.101 15.103  0.165 AAC-222-111-000-0-0  nan 15.293    0.03 15.502   0.062 13.483     nan 9.451     nan 16.9921  0.000871     0.0061    rered  gaia2 5644.0   125.0 4.69671       nan nan  nan 0.742471       nan      1.0       nan   2.44321        nan    DWARF  0.503967166          nan 1796.79 218.285  0.105007   4.897215e-05      --           nan          --           --           nan  6.5029e-05  3.29153e-05 schlegel       nan       nan       nan       nan       nan        nan       nan       nan       nan       nan    193.32    243.25   bj2018       nan       nan    dered 17.4161 0.007749 16.4158 0.005459         1            --    gaia2     bpbj            --  1.91706351566314   1.8608805121067  82.642149228227 -79.0457765517636 0.0512730170301733 0.0682640604894565        1      0   184.035584441269\n",
            "724151270 82.7123253168965  -79.055060167777       nan       nan 20.5402    STAR   gaia2 20190415    --           --         --               --   --                  -- 4623410905484196864       --  --   gaia2       nan       nan     --         nan       nan      -- 291.006346473569 -30.3905180333589 276.311636684017 -77.3450966708052    nan    nan     nan    nan  nan    nan  nan    nan  nan    nan  nan    nan  nan    nan    nan    nan    nan    nan    nan    nan                  --  nan    nan     nan    nan     nan    nan     nan   nan     nan 20.9702  0.021722        0.6    goffs     --    nan     nan     nan       nan nan  nan      nan       nan      nan       nan       nan        nan       --          nan          nan     nan     nan       nan            nan      --           nan          --           --           nan         nan          nan       --       nan       nan       nan       nan       nan        nan       nan       nan       nan       nan       nan       nan       --       nan       nan       --     nan      0.0 19.8981 0.217076        --            --       --       --            --  5.73212428749106  2.69430937928135 82.7123253168965  -79.055060167777   5.73212428749106   2.69430937928135       --      0 184.32747964075907\n",
            "724151269 82.7440887833379 -79.0576136137033    2.7202   5.71389 20.0071    STAR   gaia2 20190415    --           --         --               --   --                  -- 4623410901190624128       --  --   gaia2   1.77737   1.92088  gaia2    0.489176  0.734197   gaia2  291.00748314344 -30.3840447575711 276.282160018888 -77.3439968254796    nan    nan 20.7734 0.0881  nan    nan  nan    nan  nan    nan  nan    nan  nan    nan    nan    nan    nan    nan    nan    nan                  --  nan    nan     nan    nan     nan    nan     nan   nan     nan 20.5534   0.00996     0.0362    gbprp  gaia2    nan     nan     nan       nan nan  nan      nan       nan      nan       nan       nan        nan       --          nan          nan  1414.2 859.265  0.105271    0.001706351      --           nan          --           --           nan  0.00315334  0.000259362 schlegel       nan       nan       nan       nan       nan        nan       nan       nan       nan       nan     605.5   1113.03   bj2018       nan       nan       -- 20.8619 0.172897 19.8004 0.098755         0            --    gaia2       --            --  35.7316087122592  29.7915133071924 82.7441504831562 -79.0575890122387  0.865789985522968   1.03180728967173        1      1 184.84762411164317\n",
            "261105192 83.0859969687388 -78.9935874870355   5.43778   4.17473 14.6315    STAR tmgaia2 20190415    --           -- 056-003731 05322066-7859367   -- J053220.66-785936.7 4623417880512184704 34619305  -- tmgaia2 0.0362006 0.0475371  gaia2    0.862555 0.0217882   gaia2  290.91707328993 -30.3366092965427 276.057628816939 -77.4210054460492 16.022  0.052  15.156  0.217  nan    nan  nan    nan  nan    nan  nan    nan  nan    nan 13.924  0.029 13.477  0.025 13.449   0.04 AAA-222-111-000-0-0  nan 13.403   0.024 13.464   0.025 12.626   0.256 9.675     nan 15.1446  0.000358      0.006    rered  gaia2 5701.0   122.0 4.39247       nan nan  nan  1.06439       nan     1.02       nan  0.845868        nan    DWARF    1.0781945          nan 1121.78   27.63  0.107281    0.000109335      --           nan          --           --           nan 0.000113074  0.000105596 schlegel       nan       nan       nan       nan       nan        nan       nan       nan       nan       nan     26.96      28.3   bj2018       nan       nan    dered 15.5557 0.003036 14.5711 0.001301         1            --    ucac4 apassdr9            -- 0.727385759893906  0.73728027813659 83.0861196002286 -78.9935695125281 0.0186922296845027  0.025904714274903        1      0  185.8581028112281\n",
            "261090499 82.5864947759289 -79.0348753688669   6.95862   19.2722 18.2994    STAR tmgaia2 20190415    --           --         -- 05302064-7902052   -- J053020.79-790205.2 4623411111642087936       --  -- tmgaia2   3.81046   3.81136   hsoy         nan       nan      -- 290.990606162525 -30.4187127388692 276.439271893209 -77.3591701912835 21.226  0.226 20.2276 0.0711  nan    nan  nan    nan  nan    nan  nan    nan  nan    nan 16.552  0.139 15.815  0.181 15.384  0.221 BCD-222-111-000-0-0  nan 15.638   0.034 15.642   0.065  13.31     nan 9.724     nan 19.3061  0.012188     0.0206    gbprp     --    nan     nan     nan       nan nan  nan      nan       nan      nan       nan       nan        nan    DWARF          nan          nan     nan     nan       nan            nan      --           nan          --           --           nan         nan          nan       --       nan       nan       nan       nan       nan        nan       nan       nan       nan       nan       nan       nan       --       nan       nan       -- 20.2722 0.065242 18.0075 0.015222         0            --    gaia2     bpbj            --   76.594718360784  59.0859591011815 82.5866522886586 -79.0347923913789  0.799585831381662   1.08043266337485        1      0 189.99917879900414\n",
            "724151575 83.0758989233214 -78.9854558513706   5.81509   6.14525 19.0842    STAR   gaia2 20190415    --           --         --               --   --                  -- 4623418086669000448       --  --   gaia2  0.845165   1.08371  gaia2     0.88588  0.440731   gaia2 290.908470453365 -30.3404454943629 276.074489954798 -77.4285132127853    nan    nan 20.9959 0.1696  nan    nan  nan    nan  nan    nan  nan    nan  nan    nan    nan    nan    nan    nan    nan    nan                  --  nan    nan     nan    nan     nan    nan     nan   nan     nan 20.0863  0.006818     0.0552    gbprp  gaia2    nan     nan     nan       nan nan  nan      nan       nan      nan       nan       nan        nan       --          nan          nan 1143.44  638.11  0.107559     0.00235204      --           nan          --           --           nan  0.00387147   0.00083261 schlegel       nan       nan       nan       nan       nan        nan       nan       nan       nan       nan    403.88    872.34   bj2018       nan       nan       -- 21.0875 0.205182 18.8378 0.030924         0            --    gaia2       --            --  16.9808323653733  16.8077063228776 83.0760299681934 -78.9854293926832  0.405974966739976  0.585506286111367        1      0 190.27877765078895\n",
            "261105180 82.8356618651908  -78.954928245259   2.38532   10.8893 14.8201    STAR tmgaia2 20190415    --           -- 056-003718 05312059-7857177   -- J053120.56-785717.5 4623418911304328064 34619061  -- tmgaia2 0.0391876 0.0481248  gaia2    0.944597 0.0225524   gaia2 290.887129345745 -30.3924588542205 276.311915727765 -77.4479539329625 16.367  0.091  15.289  0.183  nan    nan  nan    nan  nan    nan  nan    nan  nan    nan 14.094  0.032 13.768  0.036 13.711  0.048 AAA-222-111-000-0-0  nan 13.638   0.024 13.663   0.027 12.851     nan 9.538     nan 15.3312  0.000376      0.006    rered  gaia2 5709.0   122.0 4.54717       nan nan  nan 0.890738       nan     1.02       nan   1.44328        nan    DWARF    0.7593372          nan 1027.32   23.98  0.106161   0.0001398155      --           nan          --           --           nan 0.000143719  0.000135912 schlegel       nan       nan       nan       nan       nan        nan       nan       nan       nan       nan     23.43     24.53   bj2018       nan       nan    dered 15.7412 0.001951 14.7606  0.00118         1            --    ucac4 apassdr9            --  0.78717700973208 0.746378268553097 82.8357154723893 -78.9548813607772 0.0199106026460477 0.0257369513532375        1      0 193.92259475434358\n",
            "261105228 82.7500888713015 -79.0606115303841  -16.4033   7.24823 12.1515    STAR tmgaia2 20190415    --           -- 055-003591 05310003-7903380   -- J053059.97-790338.0 4623410901188398336 34618964  -- tmgaia2 0.0376685 0.0452952  gaia2     2.06164 0.0213192   gaia2 291.010522419628 -30.3821980979596 276.273965590369 -77.3413396995874 13.384  0.036  12.827   0.08  nan    nan  nan    nan  nan    nan  nan    nan  nan    nan 11.457  0.026 11.166  0.023  11.09  0.024 AAA-222-111-000-0-0  nan 11.037   0.023 11.056    0.02 10.942   0.067 9.082     nan 12.6025   0.00017      0.006    rered  gaia2 6036.0 135.211 4.28028 0.0795972 nan  nan  1.26912 0.0607789     1.12  0.146471  0.547914   0.122717    DWARF   1.92617333   0.08627295 478.384  4.9165 0.0916747     0.01032122     116 0.00852991547          --           -- 0.00123033114   0.0114062   0.00923624 schlegel  0.117189  0.175753 0.0597276 0.0618302 0.0981715   0.147263 0.0832763 0.0759182 0.0744125 0.0981334     4.867     4.966   bj2018   122.249   148.173    dered 12.9528 0.001269 12.0918 0.000911         1            --    ucac4 apassdr9            -- 0.757236172838979 0.702473833393882 82.7497167094686 -79.0605803229521 0.0190859993350262 0.0236503380046724        1      0 193.97880976351794\n",
            "724151266 82.6795047152377 -79.0557806235986   7.88359   7.31511 18.3736    STAR   gaia2 20190415    --           --         --               --   --                  -- 4623410866828882560       --  --   gaia2  0.359621  0.418186  gaia2 0.000885663  0.205254   gaia2 291.008957812317 -30.3963760631695 276.338539343782 -77.3429568416022    nan    nan 19.5313 0.0583  nan    nan  nan    nan  nan    nan  nan    nan  nan    nan    nan    nan    nan    nan    nan    nan                  --  nan    nan     nan    nan     nan    nan     nan   nan     nan 19.1183  0.003075     0.0081    rered  gaia2 4534.0   160.0 4.50643       nan nan  nan 0.778839       nan     0.71       nan   1.50285        nan    DWARF   0.23094894          nan 2890.76 980.765  0.105158   7.044987e-06      --           nan          --           --           nan 1.36011e-05  4.88874e-07 schlegel       nan       nan       nan       nan       nan        nan       nan       nan       nan       nan    789.62   1171.91   bj2018       nan       nan    dered 19.8087 0.061835 18.3174 0.029475         1            --    gaia2       --            --  7.22920283501284  6.48526579699161 82.6796835019233 -79.0557491280416  0.185807666176817  0.209440282515725        1      0  197.2185859050394\n",
            "261090481 82.5389826622164 -79.0064836188556   2.10434   20.5746 15.9307    STAR tmgaia2 20190415    --           -- 055-003582 05300938-7900234   -- J053009.39-790023.1 4623417090238189568       --  -- tmgaia2 0.0730733 0.0896933  gaia2    0.691261 0.0473124   gaia2 290.961363294863 -30.4345920727732 276.510083820063 -77.3846321611931 17.341  0.119  16.326  0.652  nan    nan  nan    nan  nan    nan  nan    nan  nan    nan 15.068  0.044 14.627  0.085 14.701   0.11 AAB-222-111-000-0-0  nan 14.515   0.026 14.563   0.037 13.315     nan 9.648     nan 16.5264  0.000784     0.0061    rered  gaia2 5214.0   123.0  4.5247       nan nan  nan 0.853846       nan     0.89       nan   1.42972        nan    DWARF    0.4854431          nan 1387.15   93.13  0.105562   0.0001153905      --           nan          --           --           nan 0.000130492  0.000100289 schlegel       nan       nan       nan       nan       nan        nan       nan       nan       nan       nan     87.05     99.21   bj2018       nan       nan    dered 17.0312 0.005535 15.8748 0.003608         1            --    ucac4     bpbj            --  1.46846611531147  1.39106195666304 82.5390301737634 -79.0063950337752 0.0397906839815119 0.0476341231197098        1      0  198.1303084226308\n",
            "261105229  82.926251478495 -79.0608984741079 -0.913739   10.3438 17.4046    STAR tmgaia2 20190415    --           --         -- 05314237-7903385   -- J053142.27-790339.0 4623415990726574720       --  -- tmgaia2  0.215466  0.268635  gaia2    0.679625  0.121724   gaia2  291.00129610193 -30.3497284668474 276.125037352008 -77.3486275227641  20.14  0.135 18.9409 0.0519  nan    nan  nan    nan  nan    nan  nan    nan  nan    nan 16.069  0.093 15.574  0.144 15.548  0.214 ABD-222-111-000-0-0  nan 15.208    0.03 15.254   0.052 12.673     nan 9.675     nan 18.3015  0.001843     0.0063    rered  gaia2 4019.0   125.0 4.42999       nan nan  nan 0.801145       nan     0.63       nan    1.2252        nan    DWARF  0.150865331          nan 1401.82 258.855  0.106806   0.0003115365      --           nan          --           --           nan   0.0004195  0.000203573 schlegel       nan       nan       nan       nan       nan        nan       nan       nan       nan       nan    215.18    302.53   bj2018       nan       nan    dered 19.2239 0.035657 17.3489 0.009187         1            --    gaia2     bpbj            --    4.331389746037  4.16623031552992 82.9262307468378 -79.0608539383027  0.106709768004764  0.141034312258713        1      0  199.4970199627965\n",
            "261090464 82.5526405503691 -78.9901779542626   2.35717   5.59735 14.1942    STAR tmgaia2 20190415    --           -- 056-003703 05301265-7859247   -- J053012.64-785924.5 4623417193317403904 34618794  -- tmgaia2 0.0277212 0.0345149  gaia2    0.754677 0.0169097   gaia2 290.942297956062 -30.4361589996831 276.516143641538 -77.4010917731103 15.497  0.055  14.823  0.126  nan    nan  nan    nan  nan    nan  nan    nan  nan    nan 13.472   0.03 13.166  0.029 13.061  0.034 AAA-222-111-000-0-0  nan  13.05   0.024 13.092   0.024 13.048   0.403   9.5     nan 14.6675  0.000276      0.006    rered  gaia2 5952.0   122.0 4.20054       nan nan  nan  1.37239       nan     1.09       nan   0.42169        nan    DWARF     2.129619          nan 1276.02   27.74  0.106238   5.553155e-05      --           nan          --           --           nan 5.76174e-05  5.34457e-05 schlegel       nan       nan       nan       nan       nan        nan       nan       nan       nan       nan     27.15     28.33   bj2018       nan       nan    dered 15.0354 0.001442 14.1301 0.001396         1            --    ucac4 apassdr9            -- 0.556998604603115  0.53529458082714 82.5526936924336 -78.9901538545658 0.0144988241689352 0.0183213372874503        1      0 200.24182644635985\n",
            "261105224 82.6524612832728  -79.053582603826  -1.07365   17.9493 16.7882    STAR tmgaia2 20190415    --           --         -- 05303656-7903128   -- J053036.58-790312.6 4623411072987313664       --  -- tmgaia2  0.172575  0.219905  gaia2     1.07935  0.106382   gaia2 291.007974223244  -30.401896720486 276.363661301934 -77.3439050444886 19.528  0.113 18.4859 0.0523  nan    nan  nan    nan  nan    nan  nan    nan  nan    nan 15.533  0.057 14.728   0.08 14.834  0.105 AAB-222-111-000-0-0  nan 14.567   0.026  14.49   0.034 13.027   0.369 9.426     nan 17.7964  0.001466  0.0112281    cdwrf  cdwrf 3816.0   160.0 4.64863  0.038446 nan  nan  0.60305 0.0476378  0.59057 0.0411516   2.69285   0.456835    DWARF     0.069476   0.02283778 906.934  91.528  0.102787    0.000857331      --           nan          --           --           nan 0.000938691  0.000775971 schlegel       nan       nan       nan       nan       nan        nan       nan       nan       nan       nan      82.6   100.456   bj2018       nan       nan    cdwrf   18.75 0.035649 16.8001 0.008878         1            --    gaia2     bpbj cooldwarfs_v8   3.4690714004375  3.41054903923253 82.6524369395071 -79.0535053221206 0.0886750753284304  0.117409670614119        1      0 200.94086242041314\n",
            "724151539 82.5423650525992 -78.9953614705139   2.59166    8.1266 18.6378    STAR   gaia2 20190415    --           --         --               --   --                  -- 4623417189020764800       --  --   gaia2  0.417088  0.504638  gaia2    0.501258  0.249512   gaia2 290.948688495251 -30.4367584658678  276.51926267432 -77.3955913229155    nan    nan 19.7831 0.0588  nan    nan  nan    nan  nan    nan  nan    nan  nan    nan    nan    nan    nan    nan    nan    nan                  --  nan    nan     nan    nan     nan    nan     nan   nan     nan  19.377  0.003827     0.0095    rered  gaia2 4556.0   164.0     nan       nan nan  nan      nan       nan      nan       nan       nan        nan    DWARF          nan          nan  1670.5 669.865  0.106155  0.00033949886      --           nan          --           --           nan 0.000593562  8.54357e-05 schlegel       nan       nan       nan       nan       nan        nan       nan       nan       nan       nan    482.32    857.41   bj2018       nan       nan    dered 20.0365 0.064873 18.5584 0.027797         1            --    gaia2       --            --  8.38088283463382  7.82617881626891 82.5424235083901 -78.9953264809914  0.218886876409628   0.25908943609356        1      0 201.60105445192784\n",
            "724151222 82.8461349216198 -79.0651332115885  0.683677   7.20236 18.5933    STAR   gaia2 20190415    --           --         --               --   --                  -- 4623410076554897152       --  --   gaia2  0.404782  0.464241  gaia2    0.143995  0.224101   gaia2 291.010380543451 -30.3634229125931 276.188296822557 -77.3410833934736    nan    nan 19.3231 0.0514  nan    nan  nan    nan  nan    nan  nan    nan  nan    nan    nan    nan    nan    nan    nan    nan                  --  nan    nan     nan    nan     nan    nan     nan   nan     nan 19.1206  0.002989     0.0069    rered  gaia2 5608.0   228.0     nan       nan nan  nan      nan       nan      nan       nan       nan        nan    DWARF          nan          nan 2454.75 894.695  0.106145   3.101004e-05      --           nan          --           --           nan 5.88441e-05  3.17598e-06 schlegel       nan       nan       nan       nan       nan        nan       nan       nan       nan       nan    698.75   1090.64   bj2018       nan       nan    dered 19.5062 0.048628 18.4926 0.042035         1            --    gaia2       --            --   8.1373859997869  7.19994967533473 82.8461504393758 -79.0651022014287  0.200710310939402  0.246304570384808        1      0 203.30572275205816\n",
            "261105215 83.0778039165662 -79.0397528440857   2.83775   2.05847 14.0752    STAR tmgaia2 20190415    --           -- 055-003611 05321870-7902229   -- J053218.69-790223.0 4623416231244744960 34619295  -- tmgaia2 0.0292297  0.036717  gaia2     1.11556  0.016273   gaia2 290.969409615575 -30.3269583626391 276.018139577183 -77.3756242697457 15.641  0.026  14.889  0.115  nan    nan  nan    nan  nan    nan  nan    nan  nan    nan 13.262  0.026 12.824  0.029 12.779  0.035 AAA-222-111-000-0-0  nan 12.708   0.023 12.752   0.023 13.009   0.388 9.216     nan 14.6288   0.00026      0.006    rered  gaia2 5452.0   122.0 4.28598       nan nan  nan   1.1612       nan     0.95       nan  0.606744        nan    DWARF   1.07332218          nan 873.803   12.52  0.106455   0.0001430205      --           nan          --           --           nan 0.000144797  0.000141244 schlegel       nan       nan       nan       nan       nan        nan       nan       nan       nan       nan    12.344    12.696   bj2018       nan       nan    dered 15.0869 0.002255 14.0193 0.000839         1            --    ucac4 apassdr9            -- 0.587504393642288 0.569437054408192 83.0778681790533 -79.0397439812354 0.0147487128271558 0.0191933074489017        1      0 204.70398399153098\n",
            "724151612 82.7954903558706 -78.9521355101469   12.1134   23.7405 18.4899    STAR   gaia2 20190415    --           --         --               --   --                  -- 4623418975727176192       --  --   gaia2   0.51745  0.592153  gaia2     2.07262  0.303538   gaia2 290.886184339312 -30.4006062316618 276.349335406821 -77.4489105411548    nan    nan     nan    nan  nan    nan  nan    nan  nan    nan  nan    nan  nan    nan    nan    nan    nan    nan    nan    nan                  --  nan    nan     nan    nan     nan    nan     nan   nan     nan 19.6751  0.004201     0.0074    rered  gaia2 3406.0   155.0     nan       nan nan  nan      nan       nan      nan       nan       nan        nan    DWARF          nan          nan  488.62  81.402 0.0939794     0.00450607      --           nan          --           --           nan  0.00455352   0.00445862 schlegel       nan       nan       nan       nan       nan        nan       nan       nan       nan       nan    68.436    94.368   bj2018       nan       nan    dered 21.2274 0.137411 18.4379 0.024901         1            --       --       --            --  10.3942532724093  9.18381507077243 82.7957625220005 -78.9520332942281   0.26866276945927  0.316157970221384        1      0  205.0689303140397\n",
            "261105220  83.049405958247 -79.0473838937585   4.83234   27.6265  18.138    STAR tmgaia2 20190415    --           --         -- 05321187-7902506   --                  -- 4623415848990951424       --  -- tmgaia2  0.428354  0.513368  gaia2    0.956821  0.246947   gaia2  290.97950284236 -30.3303447334998 276.034554259778 -77.3669937768108    nan    nan 20.4802 0.1077  nan    nan  nan    nan  nan    nan  nan    nan  nan    nan 16.659   0.15 15.619   0.15 15.013    nan CBU-220-110-000-0-0  nan    nan     nan    nan     nan    nan     nan   nan     nan  19.274  0.003254     0.0069    rered  gaia2 3549.0   141.0 4.60339       nan nan  nan 0.572745       nan     0.48       nan    2.5548        nan    DWARF 0.0468858033          nan 1037.74 320.182  0.107412     0.00169907      --           nan          --           --           nan  0.00229762   0.00110052 schlegel       nan       nan       nan       nan       nan        nan       nan       nan       nan       nan   235.565     404.8   bj2018       nan       nan    dered 20.7069 0.105239  18.107 0.020874         1            --    gaia2       --            --   8.6102785908171  7.96186886662179 83.0495154646887 -79.0472649463465  0.217057918894751  0.272507525887582        1      0  206.0751605483389\n",
            "724151580 82.9485341081176 -78.9560885629768   3.31577   4.32688 20.1782    STAR   gaia2 20190415    --           --         --               --   --                  -- 4623418189749285504       --  --   gaia2   2.01251   2.82469  gaia2    -1.55692  0.785453   gaia2 290.882304773187 -30.3712084225557 276.213782126415 -77.4517217003123    nan    nan 20.7872 0.0791  nan    nan  nan    nan  nan    nan  nan    nan  nan    nan    nan    nan    nan    nan    nan    nan                  --  nan    nan     nan    nan     nan    nan     nan   nan     nan 20.6328  0.011653     0.0131    gbprp  gaia2    nan     nan     nan       nan nan  nan      nan       nan      nan       nan       nan        nan       --          nan          nan 2183.67  1016.9   0.10806 0.000156975948      --           nan          --           --           nan 0.000303729  1.02229e-05 schlegel       nan       nan       nan       nan       nan        nan       nan       nan       nan       nan    806.25   1227.54   bj2018       nan       nan       -- 20.8135 0.146185 19.9444 0.144899         0            --    gaia2       --            --   40.430603759128  43.7932815729078 82.9486086337928 -78.9560699333635   0.84212030487981  0.962875620713609        1      1 207.17317544476091\n",
            "724151492 83.1096402127782 -79.0293739232011   2.79161  0.793312 18.9881    STAR   gaia2 20190415    --           --         --               --   --                  -- 4623416261307817728       --  --   gaia2  0.489224  0.590226  gaia2    0.451547  0.255977   gaia2 290.956045740979 -30.3235922455818 276.001493754145 -77.3870772534791    nan    nan 19.5637 0.0489  nan    nan  nan    nan  nan    nan  nan    nan  nan    nan    nan    nan    nan    nan    nan    nan                  --  nan    nan     nan    nan     nan    nan     nan   nan     nan 19.4217  0.003909     0.0064    rered  gaia2    nan     nan     nan       nan nan  nan      nan       nan      nan       nan       nan        nan    DWARF          nan          nan 1752.22  709.24  0.109299   0.0002899483      --           nan          --           --           nan 0.000515728  6.41686e-05 schlegel       nan       nan       nan       nan       nan        nan       nan       nan       nan       nan    515.29    903.19   bj2018       nan       nan       -- 19.7636 0.041423 18.9357 0.038055         1            --    gaia2       --            --  9.83242429662526  9.15379854477242 83.1097033713221 -79.0293705075587  0.241936839956722  0.311320826911176        1      1 207.28681560779884\n",
            "261090494 82.5410084831751 -79.0285222147112   6.68903   2.58236 16.2131    STAR tmgaia2 20190415    --           -- 055-003583 05300983-7901427   -- J053009.85-790142.4 4623411180363191680       --  -- tmgaia2 0.0805547  0.100021  gaia2    0.535817 0.0497915   gaia2 290.985991735122 -30.4286841973882 276.484546938991 -77.3633087061347 17.259  0.125  16.575  1.133  nan    nan  nan    nan  nan    nan  nan    nan  nan    nan 15.467  0.063 15.253  0.133 14.804  0.111 ABB-222-111-000-0-0  nan 14.908   0.028  14.94   0.044 12.759     nan 9.789     nan 16.7499  0.000735      0.006    rered  gaia2 5547.0   124.0 4.57522       nan nan  nan 0.845348       nan     0.98       nan   1.62226        nan    DWARF   0.60953486          nan 1759.64 156.845  0.105249    4.03915e-05      --           nan          --           --           nan 5.00664e-05  3.07166e-05 schlegel       nan       nan       nan       nan       nan        nan       nan       nan       nan       nan    143.43    170.26   bj2018       nan       nan    dered 17.1978  0.00601 16.1647 0.003652         1            --    ucac4     bpbj            --  1.61903152174503  1.55117402502623 82.5411598069605 -79.0285110962542 0.0424837546980619 0.0513000971326824        1      0 208.84865389213326\n",
            "261105181 82.9439420536996 -78.9550963522855   3.42269    2.7069 15.9866    STAR tmgaia2 20190415    --           --         -- 05314657-7857182   -- J053146.57-785718.2 4623418185453193984       --  -- tmgaia2 0.0689457 0.0872823  gaia2    0.274323 0.0418474   gaia2 290.881437746986 -30.3723033156443 276.218754431023   -77.45249071771 16.346  0.112  16.588 0.0459  nan    nan  nan    nan  nan    nan  nan    nan  nan    nan 15.241  0.047 14.995  0.082 14.718  0.111 AAB-222-111-000-0-0  nan 14.866   0.028 14.866   0.043 13.244     nan 9.766     nan 16.4366  0.000676      0.006    rered  gaia2 6112.0   125.0 4.19893       nan nan  nan  1.41227       nan     1.15       nan  0.408268        nan    DWARF   2.50762653          nan 3128.56 404.445  0.108101   4.112915e-07      --           nan          --           --           nan  6.6529e-07  1.57293e-07 schlegel       nan       nan       nan       nan       nan        nan       nan       nan       nan       nan    357.08    451.81   bj2018       nan       nan    dered 16.7823 0.006804 15.9228 0.004078         1            --    gaia2     bpbj            --    1.384948019516  1.35361915712331 82.9440189756957  -78.955084697587  0.035263857816046 0.0448586465278625        1      0 209.21813490826776\n",
            "261105197 83.1297071223138 -79.0007713030863  -3.09604   7.31143 17.5098    STAR tmgaia2 20190415    --           --         -- 05323132-7900024   -- J053231.08-790002.5 4623417876215534208       --  -- tmgaia2  0.184586  0.240504  gaia2    0.262616  0.102992   gaia2 290.922819017434 -30.3267803132766 276.013035018304 -77.4158243214789 18.622  0.187  18.312 0.0467  nan    nan  nan    nan  nan    nan  nan    nan  nan    nan  16.46  0.148 16.216  0.256 15.567    nan BDU-220-110-000-0-0  nan 16.084    0.04 16.079    0.09 12.646     nan 9.636     nan 18.0781  0.001588     0.0062    rered  gaia2 5376.0   137.0 4.62547       nan nan  nan  0.77721       nan     0.93       nan   1.98093        nan    DWARF  0.454577565          nan 2763.83  707.84  0.108663 5.01495242e-06      --           nan          --           --           nan  9.1599e-06  8.70005e-07 schlegel       nan       nan       nan       nan       nan        nan       nan       nan       nan       nan    570.39    845.29   bj2018       nan       nan    dered   18.55 0.015959  17.452 0.016208         1            --    gaia2     bpbj            --  3.70903230967822  3.72994299753704 83.1296372561382 -79.0007398233279 0.0918663824462126  0.126065290748897        1      0 209.58065465445563\n",
            "724151611 82.9130585054737 -78.9525911353531 0.0198084   7.48715 16.5342    STAR   gaia2 20190415    --           --         --               --   --                  -- 4623418945664068096       --  --   gaia2 0.0932937  0.110189  gaia2    0.183215 0.0542347   gaia2 290.880294290349 -30.3786528927172 276.247891377407 -77.4535976048937    nan    nan 17.1089 0.0462  nan    nan  nan    nan  nan    nan  nan    nan  nan    nan    nan    nan    nan    nan    nan    nan                  --  nan    nan     nan    nan     nan    nan     nan   nan     nan 16.9673  0.000793     0.0075    rered  gaia2 6222.0   136.0 4.27981       nan nan  nan  1.31438       nan      1.2       nan   0.52847        nan    DWARF      2.33268          nan 3858.27 719.585  0.108079 5.64796352e-08      --           nan          --           --           nan 1.03074e-07  9.88527e-09 schlegel       nan       nan       nan       nan       nan        nan       nan       nan       nan       nan    612.11    827.06   bj2018       nan       nan    dered 17.2324 0.015203 16.4057 0.009279         1            --    gaia2       --            --  1.87400313127567   1.7089886942256 82.9130589505506 -78.9525588990159 0.0476383858130783 0.0601596211811866        1      0 210.67214794063105\n",
            "261090482 82.5198504909348 -79.0079130873114 -0.129065    9.9185  17.504    STAR tmgaia2 20190415    --           --         -- 05300481-7900284   -- J053004.76-790028.3 4623417085941543424       --  -- tmgaia2  0.291005   0.35077  gaia2     1.50743  0.173411   gaia2 290.964030988293 -30.4377642407826 276.524761799543   -77.38237952534 20.738  0.197 19.8571  0.075  nan    nan  nan    nan  nan    nan  nan    nan  nan    nan 15.971  0.088   15.4  0.115 14.982  0.131 ABB-222-111-000-0-0  nan 15.003   0.028  15.01   0.043 13.273     nan  9.64     nan 18.7433  0.002417  0.0191197    cdwrf  cdwrf 3434.0   160.0 4.77139 0.0403868 nan  nan 0.461396 0.0475821 0.458643 0.0520575   4.66932   0.932246    DWARF 0.0266712587 0.0106072342  658.95  80.637 0.0997358    0.002166045      --           nan          --           --           nan  0.00227776   0.00205433 schlegel       nan       nan       nan       nan       nan        nan       nan       nan       nan       nan     71.12    90.154   bj2018       nan       nan    cdwrf  20.054 0.065531  17.558 0.018464         1            --    gaia2     bpbj cooldwarfs_v8   5.8478802536291  5.43986325903106 82.5198475765458 -79.0078703826583  0.151818522677921  0.178465914759585        1      0 211.10110772282758\n",
            "724151559 82.6668515736558 -78.9583624319057  -2.09529   10.1539 18.8914    STAR   gaia2 20190415    --           --         --               --   --                  -- 4623417670057115904       --  --   gaia2  0.673717  0.790082  gaia2    0.519945  0.369041   gaia2 290.900246119216 -30.4229454197909 276.452978975169 -77.4371478865809    nan    nan 20.6742 0.0977  nan    nan  nan    nan  nan    nan  nan    nan  nan    nan    nan    nan    nan    nan    nan    nan                  --  nan    nan     nan    nan     nan    nan     nan   nan     nan 19.8556  0.005416     0.0292    gbprp  gaia2    nan     nan     nan       nan nan  nan      nan       nan      nan       nan       nan        nan       --          nan          nan 1547.26 750.285  0.107549    0.000700715      --           nan          --           --           nan  0.00125323    0.0001482 schlegel       nan       nan       nan       nan       nan        nan       nan       nan       nan       nan    525.53    975.04   bj2018       nan       nan       -- 20.7667 0.112547 18.6359  0.02637         0            --    gaia2       --            --  13.5334301444607    12.25292530135 82.6668044700689 -78.9583187137284  0.328404745341988  0.403763588033446        1      0  212.4299367361372\n",
            "261090459 82.5471412383107  -78.983695668059    2.3696  -2.57862 17.0546    STAR tmgaia2 20190415    --           --         -- 05301128-7859012   -- J053011.34-785901.2 4623417227677141248       --  -- tmgaia2  0.143422  0.183633  gaia2    0.643917 0.0877398   gaia2 290.935324930887 -30.4388008366766 276.527854753315 -77.4071416814956 18.943  0.141 18.2591 0.0468  nan    nan  nan    nan  nan    nan  nan    nan  nan    nan 16.077  0.087 15.261  0.118 15.485  0.217 ABD-222-111-000-0-0  nan 15.174   0.029 15.363   0.055 13.336     nan 9.615     nan   17.82  0.001303     0.0061    rered  gaia2 4467.0   124.0 4.52443       nan nan  nan 0.757478       nan      0.7       nan    1.6106        nan    DWARF    0.2058254          nan 1477.32  201.13  0.107123   0.0001737395      --           nan          --           --           nan 0.000222916  0.000124563 schlegel       nan       nan       nan       nan       nan        nan       nan       nan       nan       nan    175.38    226.88   bj2018       nan       nan    dered 18.5398 0.016053 16.9994 0.005557         1            --    gaia2     bpbj            --  2.88161370060139  2.84788505594845  82.547194629561 -78.9837067704554 0.0744150338197285 0.0946579994624954        1      0  212.6671074907533\n",
            "261105179  82.916348301532 -78.9521143361939   4.94701   17.1635 14.4253    STAR tmgaia2 20190415    --           -- 056-003722 05313994-7857074   -- J053139.89-785707.4 4623418945664068224 34619142  -- tmgaia2   2.38472   2.38489   hsoy         nan       nan      -- 290.879579958604 -30.3781579393032 276.245560050579 -77.4542044721321 15.636  0.031  14.871  0.252  nan    nan  nan    nan  nan    nan  nan    nan  nan    nan 13.663  0.034 13.279  0.044  13.16   0.04 AAA-222-111-000-0-0  nan 13.039   0.024 13.071   0.024 13.026    0.44 9.331     nan 14.9387  0.000712      0.006    gbprp  splin    nan     nan     nan       nan nan  nan      nan       nan      nan       nan       nan        nan    DWARF          nan          nan 858.524     nan       nan            nan      --           nan          --           --           nan         nan          nan       --       nan       nan       nan       nan       nan        nan       nan       nan       nan       nan       nan       nan       --       nan       nan       -- 15.3414 0.001881 14.3502  0.00128         0            --    ucac4 apassdr9            --  47.8942942996561  36.9672340860192 82.9164594516671 -78.9520404378108  0.266368679456858  0.326183979550585        1      0  212.9607100531685\n",
            "261105222 83.0520630785028 -79.0497022768753   3.29426   5.37611 17.0642    STAR tmgaia2 20190415    --           --         -- 05321258-7902588   -- J053212.31-790257.4 4623415848990950272       --  -- tmgaia2  0.154297  0.195844  gaia2    0.574131 0.0879431   gaia2 290.981966605396 -30.3292923646618  276.02997062911 -77.3648432857626 18.615  0.135 17.9857 0.0464  nan    nan  nan    nan  nan    nan  nan    nan  nan    nan 15.915  0.077 15.547  0.161  15.34  0.185 ACC-222-111-000-0-0  nan 15.263    0.03 15.196   0.051  12.79     nan 9.588     nan  17.696  0.001112     0.0061    rered  gaia2 5038.0   127.0  4.7464       nan nan  nan 0.642648       nan     0.84       nan   3.16489        nan    DWARF  0.239703357          nan 1637.31 245.815  0.108651    0.000113636      --           nan          --           --           nan 0.000153666   7.3606e-05 schlegel       nan       nan       nan       nan       nan        nan       nan       nan       nan       nan     211.6    280.03   bj2018       nan       nan    dered  18.256 0.012898 17.0223 0.009045         1            --    gaia2     bpbj            --  3.10150176485615  3.03727737282337  83.052137745876 -79.0496791297439 0.0768036485863543  0.101468028170657        1      0 213.09438169190094\n",
            "724151550 82.7376358086312 -78.9520606497208   4.85829   4.87283 19.7616    STAR   gaia2 20190415    --           --         --               --   --                  -- 4623417502553910016       --  --   gaia2   1.25221   1.02019  gaia2    -1.12196  0.519995   gaia2 290.889270487505 -30.4113688861678 276.399054354828 -77.4464284237248    nan    nan 20.7139 0.0787  nan    nan  nan    nan  nan    nan  nan    nan  nan    nan    nan    nan    nan    nan    nan    nan                  --  nan    nan     nan    nan     nan    nan     nan   nan     nan 20.4046  0.008245     0.0233    gbprp  gaia2    nan     nan     nan       nan nan  nan      nan       nan      nan       nan       nan        nan       --          nan          nan 2586.43  1061.7  0.107178 3.47745445e-05      --           nan          --           --           nan 6.77385e-05  1.81059e-06 schlegel       nan       nan       nan       nan       nan        nan       nan       nan       nan       nan    857.81   1265.59   bj2018       nan       nan       -- 20.7576 0.120939 19.4796 0.072408         0            --    gaia2       --            --  25.1525891269975  15.8221646766298 82.7377449648687 -78.9520396694999  0.586216076928417  0.540060627490947        1      0   213.294692006127\n",
            "724151275  82.602176185054 -79.0503514210588  0.342688   8.20359 18.5623    STAR   gaia2 20190415    --           --         --               --   --                  -- 4623411072987314304       --  --   gaia2  0.397972  0.459829  gaia2    0.105455  0.233037   gaia2 291.007114493505 -30.4119513052647 276.409487381918 -77.3448223342174    nan    nan 19.3521 0.0589  nan    nan  nan    nan  nan    nan  nan    nan  nan    nan    nan    nan    nan    nan    nan    nan                  --  nan    nan     nan    nan     nan    nan     nan   nan     nan 19.1236  0.003572     0.0113    rered  gaia2 5401.0   291.0     nan       nan nan  nan      nan       nan      nan       nan       nan        nan    DWARF          nan          nan  2494.8 918.665  0.104792 2.79319047e-05      --           nan          --           --           nan 5.32555e-05  2.60831e-06 schlegel       nan       nan       nan       nan       nan        nan       nan       nan       nan       nan    719.98   1117.35   bj2018       nan       nan    dered 19.5065  0.09225 18.4227 0.026904         1            --    gaia2       --            --  7.99989216939173  7.13111948798575  82.602183952841  -79.050316100048   0.20763191232135    0.2318496426133        1      0  214.9568586900246\n",
            "261090474 82.5132039055673 -79.0016363383341   1.20266   15.4929 16.5654    STAR tmgaia2 20190415    --           --         -- 05300313-7900058   -- J053003.16-790005.7 4623417090238188160       --  -- tmgaia2  0.102253  0.128863  gaia2    0.938468 0.0620637   gaia2 290.957354242392 -30.4405691673204 276.537218386978 -77.3881764027089 18.457  0.123 17.5889 0.0463  nan    nan  nan    nan  nan    nan  nan    nan  nan    nan 15.511  0.057 14.866  0.085 14.867  0.124 AAB-222-111-000-0-0  nan 14.836   0.028 14.895   0.043 13.287     nan 9.479     nan 17.2478  0.000928     0.0061    rered  gaia2 4785.0   125.0 4.81512       nan nan  nan 0.568487       nan     0.77       nan    4.1911        nan    DWARF  0.152638569          nan 1035.13 68.1905  0.105142   0.0003771695      --           nan          --           --           nan 0.000407339     0.000347 schlegel       nan       nan       nan       nan       nan        nan       nan       nan       nan       nan    63.811     72.57   bj2018       nan       nan    dered  17.848 0.012245  16.501 0.005143         1            --    gaia2     bpbj            --  2.05471956503887  1.99848612296374 82.5132310472667 -79.0015696327931 0.0532265602958638 0.0665875433275579        1      0 217.22581910961958\n",
            "261090457 82.5603807350639 -78.9761222841649  -1.62415   9.31736 12.3444    STAR tmgaia2 20190415    --           -- 056-003704 05301450-7858340   -- J053014.48-785833.9 4623417605634262912 34618801  -- tmgaia2  0.024836  0.031609  gaia2    0.816106 0.0151636   gaia2 290.926085615951 -30.4382480734936 276.524791168559 -77.4150987601265 13.914  0.011  13.088  0.103  nan    nan  nan    nan  nan    nan  nan    nan  nan    nan  11.56  0.026 11.168  0.023 11.104  0.021 AAA-222-111-000-0-0  nan 11.027   0.023 11.063    0.02 10.921   0.066 9.393     nan 12.8905  0.000451      0.006    rered  gaia2 5499.0   122.0     nan       nan nan  nan  3.43709       nan      nan       nan       nan        nan    GIANT          nan          nan 1183.33  21.395  0.107169    6.41805e-05      --           nan          --           --           nan 6.59698e-05  6.23912e-05 schlegel       nan       nan       nan       nan       nan        nan       nan       nan       nan       nan     21.02     21.77   bj2018       nan       nan    dered 13.3437 0.001595 12.2916 0.000888         1            --    ucac4 apassdr9            -- 0.498978827691731 0.490234851601475 82.5603441649415 -78.9760821677556 0.0130912564607879 0.0170145838759034        0      0  217.9342386652735\n",
            "724151276  82.574112395329 -79.0457035501435   3.04367   4.79435 19.2862    STAR   gaia2 20190415    --           --         --               --   --                  -- 4623411141706792192       --  --   gaia2  0.611057  0.691638  gaia2   0.0642263   0.34496   gaia2 291.003446167984 -30.4182776286902 276.438120092454 -77.3480919328429    nan    nan 20.1024 0.0607  nan    nan  nan    nan  nan    nan  nan    nan  nan    nan    nan    nan    nan    nan    nan    nan                  --  nan    nan     nan    nan     nan    nan     nan   nan     nan 19.8621   0.00486     0.0089    rered  gaia2 5319.0   293.0     nan       nan nan  nan      nan       nan      nan       nan       nan        nan    DWARF          nan          nan 2161.41 919.275  0.104803  0.00010864935      --           nan          --           --           nan 0.000206584  1.07147e-05 schlegel       nan       nan       nan       nan       nan        nan       nan       nan       nan       nan    706.74   1131.81   bj2018       nan       nan    dered 20.3631 0.077046 19.2487 0.064643         1            --    gaia2       --            --   12.282810577632  10.7261443157911 82.5741813579783 -79.0456829078108  0.314294244347404  0.351328296409082        1      0 218.61328424177174\n",
            "724151540 82.5558280906108 -78.9770612020018  -3.55666  -3.51394  19.031    STAR   gaia2 20190415    --           --         --               --   --                  -- 4623417227675506432       --  --   gaia2  0.803105   1.01963  gaia2     1.82524  0.481207   gaia2 290.927392769793  -30.438855727949 276.527654125901 -77.4139806376001    nan    nan 20.4011 0.1149  nan    nan  nan    nan  nan    nan  nan    nan  nan    nan    nan    nan    nan    nan    nan    nan                  --  nan    nan     nan    nan     nan    nan     nan   nan     nan 19.8547  0.005785     0.0472    gbprp  gaia2    nan     nan     nan       nan nan  nan      nan       nan      nan       nan       nan        nan       --          nan          nan 585.002 242.523 0.0988601    0.007660375      --           nan          --           --           nan  0.00858122   0.00673953 schlegel       nan       nan       nan       nan       nan        nan       nan       nan       nan       nan   157.889   327.158   bj2018       nan       nan       -- 19.7863 0.168297 18.0586   0.0436         0            --    gaia2       --            --   16.135524426362  15.8122510157282 82.5557480004508 -78.9770763314763  0.416947780900286  0.502483824786479        1      0  218.7867280826901\n",
            "261105199 83.1460063176457 -79.0051611341921    4.4054   10.7031 17.9926    STAR tmgaia2 20190415    --           --         -- 05323511-7900183   -- J053235.04-790018.4 4623416398746783232       --  -- tmgaia2  0.359936  0.456679  gaia2    0.963266  0.191095   gaia2 290.926887795779 -30.3227056259163 275.994715948504 -77.4122183187742 20.892  0.225  19.806 0.0716  nan    nan  nan    nan  nan    nan  nan    nan  nan    nan 16.466  0.134 15.547  0.145 15.556    nan BBU-220-110-0p0-0-0  nan 15.554   0.032 15.688   0.068 13.156     nan 9.288     nan 18.9829  0.002863     0.0067    rered  gaia2 3865.0   135.0 4.84179       nan nan  nan 0.486649       nan      0.6       nan   5.20601        nan    DWARF 0.0476128049          nan 1022.21 228.048   0.10754  0.00132743455      --           nan          --           --           nan  0.00166708  0.000987789 schlegel       nan       nan       nan       nan       nan        nan       nan       nan       nan       nan   181.816    274.28   bj2018       nan       nan    dered 20.0645 0.071531 17.9276 0.016705         1            --    gaia2     bpbj            --  7.23263855356263  7.08206959729989 83.1461057704447 -79.0051150514162  0.175236714965014  0.224055091214618        1      0  219.1260474383383\n",
            "724151267 82.7219730305132 -79.0665573703827   2.30037   2.10692 19.8027    STAR   gaia2 20190415    --           --         --               --   --                  -- 4623410866832132224       --  --   gaia2   1.14706   1.24491  gaia2  -0.0642417  0.516366   gaia2 291.018734025545 -30.3858894331378 276.291426945633 -77.3343285911178    nan    nan 20.4659 0.0699  nan    nan  nan    nan  nan    nan  nan    nan  nan    nan    nan    nan    nan    nan    nan    nan                  --  nan    nan     nan    nan     nan    nan     nan   nan     nan   20.29  0.006966     0.0296    gbprp  gaia2    nan     nan     nan       nan nan  nan      nan       nan      nan       nan       nan        nan       --          nan          nan 1932.96  934.04  0.105283 0.000294061436      --           nan          --           --           nan 0.000559436  2.86869e-05 schlegel       nan       nan       nan       nan       nan        nan       nan       nan       nan       nan    710.29   1157.79   bj2018       nan       nan       -- 20.5091 0.136938 19.5726 0.078469         0            --    gaia2       --            --  23.0598341739858  19.3063726540684 82.7220252498725 -79.0665482989259   0.53955516304253  0.629568810166534        1      1 220.18341838952594\n",
            "724151569 83.0988829288934 -78.9759169585631    6.0272   6.10352 19.3439    STAR   gaia2 20190415    --           --         --               --   --                  -- 4623417910575282432       --  --   gaia2  0.709203   0.89755  gaia2    0.061507  0.360504   gaia2  290.89651591733 -30.3384851633403 276.064440165601 -77.4387849896599    nan    nan   20.04 0.0583  nan    nan  nan    nan  nan    nan  nan    nan  nan    nan    nan    nan    nan    nan    nan    nan                  --  nan    nan     nan    nan     nan    nan     nan   nan     nan 19.8515  0.005386     0.0073    rered  gaia2 5743.0   346.0     nan       nan nan  nan      nan       nan      nan       nan       nan        nan    DWARF          nan          nan 2123.86  917.95  0.109109 0.000133244946      --           nan          --           --           nan 0.000253088  1.34019e-05 schlegel       nan       nan       nan       nan       nan        nan       nan       nan       nan       nan    704.03   1131.87   bj2018       nan       nan    dered  20.173 0.090714 19.1993 0.050165         1            --    gaia2       --            --   14.248018084754  13.9205975794744 83.0990186376508 -78.9758906795497  0.341130601656385  0.488464296591615        1      0 220.95874632423212\n",
            "724151567 83.1391604621411 -78.9928447055894       nan       nan 20.6356    STAR   gaia2 20190415    --           --         --               --   --                  -- 4623417880511725696       --  --   gaia2       nan       nan     --         nan       nan      -- 290.913397785191  -30.326935621914 276.012907252035  -77.423954153074    nan    nan     nan    nan  nan    nan  nan    nan  nan    nan  nan    nan  nan    nan    nan    nan    nan    nan    nan    nan                  --  nan    nan     nan    nan     nan    nan     nan   nan     nan 21.0656  0.028285        0.6    goffs     --    nan     nan     nan       nan nan  nan      nan       nan      nan       nan       nan        nan       --          nan          nan     nan     nan       nan            nan      --           nan          --           --           nan         nan          nan       --       nan       nan       nan       nan       nan        nan       nan       nan       nan       nan       nan       nan       --       nan       nan       --     nan      0.0     nan      0.0        --            --       --       --            --  4.47162851708394  2.76142094289932 83.1391604621411 -78.9928447055894   4.47162851708394   2.76142094289932       --      0 221.70213381547794\n",
            "724151268 82.6839668978907 -79.0639977823863   1.14031 -0.384731 20.6549    STAR   gaia2 20190415    --           --         --               --   --                  -- 4623410866832132352       --  --   gaia2   3.18908   3.02659  gaia2   0.0813549   1.20638   gaia2 291.017939424243 -30.3935089578841 276.326113536117 -77.3351580353375    nan    nan 20.9415 0.0643  nan    nan  nan    nan  nan    nan  nan    nan  nan    nan    nan    nan    nan    nan    nan    nan                  --  nan    nan     nan    nan     nan    nan     nan   nan     nan 20.8867  0.016322     0.0545    gbprp  gaia2    nan     nan     nan       nan nan  nan      nan       nan      nan       nan       nan        nan       --          nan          nan  1435.0 906.391  0.104852  0.00203426857      --           nan          --           --           nan  0.00383226  0.000236277 schlegel       nan       nan       nan       nan       nan        nan       nan       nan       nan       nan   668.911   1143.87   bj2018       nan       nan       -- 20.5457  0.22518 20.1018 0.132597         0            --    gaia2       --            --  64.1190112976015  46.9405843682286 82.6839927774189 -79.0639994388681   1.32362207683277   1.63374181857585        1      1 221.73328341640055\n",
            "724151613 82.7672855452944 -78.9482560902398   3.62552   6.16081 19.0826    STAR   gaia2 20190415    --           --         --               --   --                  -- 4623418980022170496       --  --   gaia2  0.623359  0.685381  gaia2    0.378621  0.355425   gaia2 290.883369057922 -30.4068011271021  276.37765358046 -77.4514424360985    nan    nan  20.541 0.1195  nan    nan  nan    nan  nan    nan  nan    nan  nan    nan    nan    nan    nan    nan    nan    nan                  --  nan    nan     nan    nan     nan    nan     nan   nan     nan 19.9508  0.005261     0.0126    rered  gaia2 4095.0   227.0 4.96265       nan nan  nan 0.437318       nan     0.64       nan   7.65223        nan    DWARF 0.0484512337          nan 1737.55  808.41  0.107491 0.000403460959      --           nan          --           --           nan 0.000740488  6.64339e-05 schlegel       nan       nan       nan       nan       nan        nan       nan       nan       nan       nan    585.41   1031.41   bj2018       nan       nan    dered   20.74 0.168874 18.9415 0.046203         1            --    gaia2       --            --   12.521236079094  10.6298784644119 82.7673669759169 -78.9482295645408  0.317567251315365  0.370906660411784        1      0 221.74783169463862\n",
            "261105227 82.6318359599582 -79.0588490723514   4.25593   14.0865 17.3513    STAR tmgaia2 20190415    --           --         -- 05303166-7903318   -- J053031.77-790331.2 4623411072987311104       --  -- tmgaia2  0.216225   0.25165  gaia2     1.01858  0.127452   gaia2 291.015020713204 -30.4043729799048  276.37545312896 -77.3378726424365 20.112  0.152 18.9705 0.0505  nan    nan  nan    nan  nan    nan  nan    nan  nan    nan 16.224  0.114 15.535  0.129 15.143   0.15 BBC-222-111-000-0-0  nan 15.078   0.029 15.208   0.052 13.205   0.465 9.019     nan 18.3355  0.001769   0.012124    cdwrf  cdwrf 3894.0   159.0 4.67647 0.0491686 nan  nan 0.570315 0.0588768 0.563166 0.0527792   3.03593     0.6712    DWARF   0.06737644 0.0251907911 961.344 125.425  0.103059   0.0009244115      --           nan          --           --           nan   0.0010512  0.000797623 schlegel       nan       nan       nan       nan       nan        nan       nan       nan       nan       nan   109.795   141.056   bj2018       nan       nan    cdwrf 19.2248 0.030475 17.3565 0.010265         1            --    gaia2     bpbj cooldwarfs_v8  4.34666452698264  3.90269111407647 82.6319325041094 -79.0587884221577   0.11038941675245  0.128501366788082        1      0  224.5662450479287\n",
            "724151568 83.1392527893446 -78.9900253243314   8.15559   10.5928 18.9235    STAR   gaia2 20190415    --           --         --               --   --                  -- 4623417910575277952       --  --   gaia2  0.567631  0.700493  gaia2    0.120806   0.29548   gaia2 290.910227335972  -30.327598933147 276.015643459008 -77.4267088790411    nan    nan 20.1671 0.0701  nan    nan  nan    nan  nan    nan  nan    nan  nan    nan    nan    nan    nan    nan    nan    nan                  --  nan    nan     nan    nan     nan    nan     nan   nan     nan 19.7058  0.005117     0.0064    rered  gaia2 4415.0   182.0 4.88389       nan nan  nan  0.49718       nan     0.69       nan   5.61447        nan    DWARF   0.08461438          nan 2226.29  900.97  0.109008  8.2880586e-05      --           nan          --           --           nan 0.000157069  8.69217e-06 schlegel       nan       nan       nan       nan       nan        nan       nan       nan       nan       nan    694.07   1107.87   bj2018       nan       nan    dered 20.3848 0.085043 18.8039 0.042475         1            --    gaia2       --            --  11.4047714480281   10.864092878498 83.1394366534523 -78.9899797164974  0.268766016165628  0.374346270327526        1      0 224.62767532597417\n",
            "724151588 82.9994770733387 -78.9555774697144   2.55828   6.01898 19.8898    STAR   gaia2 20190415    --           --         --               --   --                  -- 4623418292828388992       --  --   gaia2   1.47766   1.18744  gaia2    0.161051  0.560903   gaia2 290.878980368556 -30.3618665564564  276.17052786048 -77.4544055483415    nan    nan 20.6315  0.079  nan    nan  nan    nan  nan    nan  nan    nan  nan    nan    nan    nan    nan    nan    nan    nan                  --  nan    nan     nan    nan     nan    nan     nan   nan     nan 20.4224  0.008281     0.0364    gbprp  gaia2    nan     nan     nan       nan nan  nan      nan       nan      nan       nan       nan        nan       --          nan          nan 1715.02  886.82  0.108628 0.000611587544      --           nan          --           --           nan  0.00114821  7.49651e-05 schlegel       nan       nan       nan       nan       nan        nan       nan       nan       nan       nan    656.68   1116.96   bj2018       nan       nan       -- 20.6781 0.155437 19.6461 0.080683         0            --    gaia2       --            --  29.6815530127464  18.4166012272374 82.9995345709429 -78.9555515546668  0.666294460310843  0.644512576045964        1      1 225.15439557404534\n",
            "724151582 83.0877163978496 -78.9708141649866   9.07207   37.4477 19.2063    STAR   gaia2 20190415    --           --         --               --   --                  -- 4623418219812953984       --  --   gaia2  0.950398   1.05573  gaia2     1.74085  0.466306   gaia2 290.891375006405 -30.3417888929364 276.079184058959 -77.4432929546187    nan    nan 20.9889 0.1958  nan    nan  nan    nan  nan    nan  nan    nan  nan    nan    nan    nan    nan    nan    nan    nan                  --  nan    nan     nan    nan     nan    nan     nan   nan     nan 20.1704  0.006469     0.0685    gbprp  gaia2    nan     nan     nan       nan nan  nan      nan       nan      nan       nan       nan        nan       --          nan          nan 612.283  256.78  0.101041    0.007328665      --           nan          --           --           nan  0.00837448   0.00628285 schlegel       nan       nan       nan       nan       nan        nan       nan       nan       nan       nan   166.695   346.866   bj2018       nan       nan       -- 20.9908 0.251773 18.8601 0.042807         0            --    gaia2       --            --  19.0936317196675  16.3744349264337 83.0879205717337 -78.9706529319008  0.478702996053224  0.589642099740593        1      0 225.19829294423405\n",
            "724151561  82.712670414811 -78.9488248639954   3.24473   5.72153 18.4509    STAR   gaia2 20190415    --           --         --               --   --                  -- 4623417704416857088       --  --   gaia2  0.387789  0.449547  gaia2   0.0937012  0.218156   gaia2 290.887007111107 -30.4168053207531 276.423921363678  -77.448467166392    nan    nan 19.5859 0.0556  nan    nan  nan    nan  nan    nan  nan    nan  nan    nan    nan    nan    nan    nan    nan    nan                  --  nan    nan     nan    nan     nan    nan     nan   nan     nan 19.1855  0.003191     0.0256    rered  gaia2 4576.0   156.0 4.65372       nan nan  nan  0.66197       nan     0.72       nan   2.48209        nan    DWARF  0.173107162          nan 2594.24  929.14   0.10744 1.97837744e-05      --           nan          --           --           nan 3.78214e-05  1.74615e-06 schlegel       nan       nan       nan       nan       nan        nan       nan       nan       nan       nan    732.61   1125.67   bj2018       nan       nan    dered 19.8474 0.055662 18.3805 0.024431         1            --    gaia2       --            --  7.78937073041211  6.97171474811148   82.71274329644 -78.9488002296395  0.196947306859238  0.228215145362592        1      0 229.79385034173833\n",
            "261105208 83.1509207625118 -79.0257088779456  -6.84724   -12.436 18.6138    STAR tmgaia2 20190415    --           --         -- 05323614-7901325   -- J053236.29-790132.8 4623416368682092416       --  -- tmgaia2   5.22047   5.22101   hsoy         nan       nan      -- 290.949730335028 -30.3168506677092 275.970027651073 -77.3923665549044    nan    nan 20.8228   0.12  nan    nan  nan    nan  nan    nan  nan    nan  nan    nan 16.515  0.139 15.911  0.195 16.958    nan BCU-220-110-000-0-0  nan  15.67   0.033 15.541   0.063 13.297     nan 9.178     nan 19.6944  0.004406     0.0294    gbprp     --    nan     nan     nan       nan nan  nan      nan       nan      nan       nan       nan        nan    DWARF          nan          nan     nan     nan       nan            nan      --           nan          --           --           nan         nan          nan       --       nan       nan       nan       nan       nan        nan       nan       nan       nan       nan       nan       nan       --       nan       nan       -- 20.9151 0.123935 18.4024 0.024058         0            --    gaia2       --            --   104.96006689427   80.926700748499  83.150765898813  -79.025762421874  0.315997164019077  0.411408383586918        1      0 230.13255519824892\n",
            "724151265 82.6672988326555 -79.0655751747475   3.33096   5.93736 18.9228    STAR   gaia2 20190415    --           --         --               --   --                  -- 4623410866828878208       --  --   gaia2  0.464278  0.521201  gaia2    0.464064  0.262429   gaia2 291.020624155186 -30.3961778933703 276.338479183856 -77.3328921353385    nan    nan 19.5612 0.0487  nan    nan  nan    nan  nan    nan  nan    nan  nan    nan    nan    nan    nan    nan    nan    nan                  --  nan    nan     nan    nan     nan    nan     nan   nan     nan 19.3957  0.004581     0.0082    rered  gaia2 5949.0   203.0     nan       nan nan  nan      nan       nan      nan       nan       nan        nan    DWARF          nan          nan 1722.44  705.11  0.104892  0.00030532165      --           nan          --           --           nan 0.000541995  6.86483e-05 schlegel       nan       nan       nan       nan       nan        nan       nan       nan       nan       nan    510.33    899.89   bj2018       nan       nan    dered 19.7605 0.039989 18.8561 0.028804         1            --    gaia2       --            --  9.33376842960448  8.08286931152594 82.6673744401286 -79.0655496111232  0.241406800991165  0.262198227239469        1      0  232.0027267256802\n",
            "724151278 82.4973699501871 -79.0235580862893   21.9761   -0.5175  20.089    STAR   gaia2 20190415    --           --         --               --   --                  -- 4623411180362782208       --  --   gaia2   2.70169    3.0037  gaia2      1.8464   1.27504   gaia2 290.982843134866 -30.4379729723337 276.526816712664 -77.3661649641433    nan    nan 21.2761 0.0894  nan    nan  nan    nan  nan    nan  nan    nan  nan    nan    nan    nan    nan    nan    nan    nan                  --  nan    nan     nan    nan     nan    nan     nan   nan     nan 20.8391  0.012788     0.0401    gbprp  gaia2    nan     nan     nan       nan nan  nan      nan       nan      nan       nan       nan        nan       --          nan          nan 925.408 803.442  0.103796     0.00842183      --           nan          --           --           nan   0.0147883   0.00205536 schlegel       nan       nan       nan       nan       nan        nan       nan       nan       nan       nan   493.131   1113.75   bj2018       nan       nan       -- 21.1334 0.040141  19.597 0.134611         0            --    gaia2       --            --  54.3100048900515  46.5718177238386 82.4978668863897 -79.0235603148171   1.39647295691898   1.16076142249349        1      0 232.52419188582405\n",
            "261090493 82.5025981893559 -79.0284178635312 -0.176361   17.1571 17.2072    STAR tmgaia2 20190415    --           --         -- 05300071-7901421   -- J053000.51-790141.3 4623411176066536064       --  -- tmgaia2  0.140675  0.172386  gaia2     0.24211 0.0885141   gaia2 290.988007202983 -30.4357857005615 276.517124452795 -77.3616802675028 18.011  0.173 17.8909 0.0464  nan    nan  nan    nan  nan    nan  nan    nan  nan    nan 16.504  0.135 16.055  0.214 15.536  0.222 BDD-222-111-000-0-0  nan 15.818   0.036 15.864   0.077 12.914     nan  9.61     nan 17.7075  0.001281     0.0061    rered  gaia2 5775.0   137.0 4.59866       nan nan  nan  0.84357       nan     1.03       nan   1.71583        nan    DWARF    0.7130909          nan  2983.0   701.7   0.10555 1.88925549e-06      --           nan          --           --           nan 3.45967e-06  3.18841e-07 schlegel       nan       nan       nan       nan       nan        nan       nan       nan       nan       nan    574.55    828.85   bj2018       nan       nan    dered 18.1102 0.014458 17.1514 0.013123         1            --    gaia2     bpbj            --  2.82734043643427  2.67361040591854 82.5025941996348 -79.0283439926834 0.0734578998671329 0.0932708440345436        1      0  233.6745747924797\n",
            "724152029 82.4986097244015 -78.9917691459558   2.05999   2.51178 19.1404    STAR   gaia2 20190415    --           --         --               --   --                  -- 4623428944347923840       --  --   gaia2  0.492096  0.558894  gaia2    0.154631  0.277247   gaia2 290.947089608391 -30.4457467613969 276.560359591084 -77.3970987368361    nan    nan 19.7123 0.0507  nan    nan  nan    nan  nan    nan  nan    nan  nan    nan    nan    nan    nan    nan    nan    nan                  --  nan    nan     nan    nan     nan    nan     nan   nan     nan 19.5717  0.004601     0.0063    rered  gaia2 6231.0   273.0     nan       nan nan  nan      nan       nan      nan       nan       nan        nan    DWARF          nan          nan 2229.19  884.44  0.107467   7.431795e-05      --           nan          --           --           nan  0.00014048   8.1559e-06 schlegel       nan       nan       nan       nan       nan        nan       nan       nan       nan       nan    680.63   1088.25   bj2018       nan       nan    dered 19.9132 0.062173 19.0899 0.036669         1            --    gaia2       --            --  9.88786816710797  8.66753910578845 82.4986561732154 -78.9917583313509   0.25933787052475  0.284855661560557        1      0 233.97058103950917\n",
            "724151586 82.9935621803236 -78.9513461846767   1.96225   5.42839   18.91    STAR   gaia2 20190415    --           --         --               --   --                  -- 4623418292827420160       --  --   gaia2   0.52734  0.619756  gaia2    0.732429  0.322831   gaia2 290.874541898806 -30.3639929762315 276.179965162531   -77.45827688455    nan    nan  20.064 0.0603  nan    nan  nan    nan  nan    nan  nan    nan  nan    nan    nan    nan    nan    nan    nan    nan                  --  nan    nan     nan    nan     nan    nan     nan   nan     nan 19.6532  0.004203       0.01    rered  gaia2 4546.0   167.0     nan       nan nan  nan      nan       nan      nan       nan       nan        nan    DWARF          nan          nan 1298.22   592.3   0.10845  0.00120226655      --           nan          --           --           nan  0.00197721  0.000427323 schlegel       nan       nan       nan       nan       nan        nan       nan       nan       nan       nan   400.401     784.2   bj2018       nan       nan    dered 20.2841 0.068671  18.797  0.02886         1            --    gaia2       --            --  10.5928073330676  9.61221585188238 82.9936062654125 -78.9513228124451   0.27123419850513  0.339513357108114        1      0  236.2592107432008\n",
            "724151493 83.1657405889002  -79.021443783805   4.28348  -1.87562 18.0886    STAR   gaia2 20190415    --           --         --               --   --                  -- 4623416295667560704       --  --   gaia2  0.272595  0.373914  gaia2     0.19619  0.145215   gaia2 290.944148252463 -30.3151380744379 275.961649639296  -77.397142591995    nan    nan 18.7812 0.0468  nan    nan  nan    nan  nan    nan  nan    nan  nan    nan    nan    nan    nan    nan    nan    nan                  --  nan    nan     nan    nan     nan    nan     nan   nan     nan 18.5942   0.00231     0.0069    rered  gaia2 5758.0   148.0     nan       nan nan  nan      nan       nan      nan       nan       nan        nan    DWARF          nan          nan 2753.36  840.09  0.109655   8.052596e-06      --           nan          --           --           nan 1.51655e-05  9.39692e-07 schlegel       nan       nan       nan       nan       nan        nan       nan       nan       nan       nan    668.41   1011.77   bj2018       nan       nan    dered 19.0179 0.022401 18.0484 0.013648         1            --    gaia2       --            --  5.47818233131492  5.79909860210981 83.1658374309866 -79.0214518594065  0.131075046996051   0.19947085527194        1      0 236.55736008293073\n",
            "261105183 83.0691605203875 -78.9620385057582   3.21086   8.12588 17.3469    STAR tmgaia2 20190415    --           --         -- 05321662-7857429   -- J053216.59-785743.1 4623418224109565824       --  -- tmgaia2  0.184275  0.239086  gaia2    0.779199  0.102414   gaia2 290.882500603649 -30.3473538952225 276.104027199221 -77.4510692296353 19.148  0.148 18.5176 0.0504  nan    nan  nan    nan  nan    nan  nan    nan  nan    nan 16.253  0.099 15.557  0.134 15.539  0.233 BBD-222-111-000-0-0  nan 15.487   0.032 15.817   0.074 13.218     nan 9.543     nan 18.0976  0.001517     0.0062    rered  gaia2 4521.0   135.0 4.82349       nan nan  nan 0.540652       nan     0.71       nan   4.49268        nan    DWARF  0.110019036          nan 1237.93  165.96  0.108746   0.0004019315      --           nan          --           --           nan 0.000488462  0.000315401 schlegel       nan       nan       nan       nan       nan        nan       nan       nan       nan       nan    144.88    187.04   bj2018       nan       nan    dered 18.7597 0.038557 17.2551  0.00814         1            --    gaia2     bpbj            --  3.70174042702961  3.70795875595938 83.0692327265096 -78.9620035193392  0.091227873554956  0.125538488149475        1      0  236.5663503085688\n",
            "724151557 82.5651786099415 -78.9661642639559  -4.55772   1.94439 19.1993    STAR   gaia2 20190415    --           --         --               --   --                  -- 4623417605632846848       --  --   gaia2  0.812841  0.962792  gaia2  -0.0335975  0.422451   gaia2 290.914636807315  -30.439851775577 276.531504744841 -77.4249915100414    nan    nan 20.9474 0.1201  nan    nan  nan    nan  nan    nan  nan    nan  nan    nan    nan    nan    nan    nan    nan    nan                  --  nan    nan     nan    nan     nan    nan     nan   nan     nan 20.1689  0.006426     0.0107    rered  gaia2 3913.0   158.0   4.741       nan nan  nan 0.551057       nan     0.61       nan   3.64535        nan    DWARF   0.06413984          nan 2079.23  937.51  0.108532    0.000167823      --           nan          --           --           nan 0.000319994   1.5652e-05 schlegel       nan       nan       nan       nan       nan        nan       nan       nan       nan       nan    719.64   1155.38   bj2018       nan       nan    dered 21.1383 0.147209  19.062 0.040342         1            --    gaia2       --            --  16.3289006889154  14.9298921433192 82.5650760776539 -78.9661558922939  0.385405189123148  0.444424165598085        1      0 236.72179217422806\n",
            "724151225 82.8926044738212 -79.0735925998718       nan       nan 20.7457    STAR   gaia2 20190415    --           --         --               --   --                  -- 4623410080851020544       --  --   gaia2       nan       nan     --         nan       nan      -- 291.017366008096 -30.3527991554013 276.140449160189  -77.334826841481    nan    nan     nan    nan  nan    nan  nan    nan  nan    nan  nan    nan  nan    nan    nan    nan    nan    nan    nan    nan                  --  nan    nan     nan    nan     nan    nan     nan   nan     nan 21.1757   0.03446        0.6    goffs     --    nan     nan     nan       nan nan  nan      nan       nan      nan       nan       nan        nan       --          nan          nan     nan     nan       nan            nan      --           nan          --           --           nan         nan          nan       --       nan       nan       nan       nan       nan        nan       nan       nan       nan       nan       nan       nan       --       nan       nan       --     nan      0.0     nan      0.0        --            --       --       --            --  3.11980418359402  7.43321587142658 82.8926044738212 -79.0735925998718   3.11980418359402   7.43321587142658       --      0  237.5857075677545\n",
            "724151494 83.1661422309764 -79.0227712009815   4.10667  0.642667 17.9696    STAR   gaia2 20190415    --           --         --               --   --                  -- 4623416299964222208       --  --   gaia2  0.247285  0.332168  gaia2    0.120728  0.138679   gaia2 290.945619495619 -30.3147446211677 275.959987836695 -77.3958633733745    nan    nan 18.7654 0.0477  nan    nan  nan    nan  nan    nan  nan    nan  nan    nan    nan    nan    nan    nan    nan    nan                  --  nan    nan     nan    nan     nan    nan     nan   nan     nan 18.5343  0.001825     0.0159    rered  gaia2 5400.0   154.0 4.72258       nan nan  nan 0.698729       nan     0.94       nan    2.7555        nan    DWARF   0.37401396          nan 3093.34 929.705  0.109699 2.70681358e-06      --           nan          --           --           nan 5.18577e-06  2.27857e-07 schlegel       nan       nan       nan       nan       nan        nan       nan       nan       nan       nan     750.6   1108.81   bj2018       nan       nan    dered 18.9821 0.031133 17.8915 0.013727         1            --    gaia2       --            --  4.96963395460195  5.15163014128721 83.1662350867835 -79.0227684339571  0.120920203157696  0.176550173613223        1      0  237.7808547026572\n",
            "724151560 82.6494342936356 -78.9520918556446       nan       nan 20.6018    STAR   gaia2 20190415    --           --         --               --   --                  -- 4623417674352599424       --  --   gaia2       nan       nan     --         nan       nan      --  290.89415900436 -30.4277337762928 276.474648935242 -77.4424653403882    nan    nan     nan    nan  nan    nan  nan    nan  nan    nan  nan    nan  nan    nan    nan    nan    nan    nan    nan    nan                  --  nan    nan     nan    nan     nan    nan     nan   nan     nan 21.0318  0.025224        0.6    goffs     --    nan     nan     nan       nan nan  nan      nan       nan      nan       nan       nan        nan       --          nan          nan     nan     nan       nan            nan      --           nan          --           --           nan         nan          nan       --       nan       nan       nan       nan       nan        nan       nan       nan       nan       nan       nan       nan       --       nan       nan       --     nan      0.0     nan      0.0        --            --       --       --            --    3.773941036526  2.25406331437406 82.6494342936356 -78.9520918556446     3.773941036526   2.25406331437406       --      0  237.9651773179672\n",
            "724151581 83.0142467761242 -78.9528206249211   3.17887  0.490639 19.8138    STAR   gaia2 20190415    --           --         --               --   --                  -- 4623418219812933504       --  --   gaia2  0.939979   0.93298  gaia2    0.121662  0.465963   gaia2 290.875085335105 -30.3597899172557 276.160657150446   -77.45772397683    nan    nan 20.2697 0.0527  nan    nan  nan    nan  nan    nan  nan    nan  nan    nan    nan    nan    nan    nan    nan    nan                  --  nan    nan     nan    nan     nan    nan     nan   nan     nan 20.1678  0.006657     0.0201    rered  gaia2    nan     nan     nan       nan nan  nan      nan       nan      nan       nan       nan        nan    DWARF          nan          nan 1859.68  893.79  0.109054 0.000352697039      --           nan          --           --           nan 0.000664628  4.07661e-05 schlegel       nan       nan       nan       nan       nan        nan       nan       nan       nan       nan    670.56   1117.02   bj2018       nan       nan       -- 20.3334 0.076772 19.6554 0.070095         1            --    gaia2       --            --  18.8814424685727  14.4700240036315 83.0143182039441  -78.952818512456  0.460053858983545  0.505547672897411        1      1 238.97292691160467\n",
            "724151277 82.5552827725532 -79.0505272536727   11.6059   11.9808 20.1702    STAR   gaia2 20190415    --           --         --               --   --                  -- 4623411146002813952       --  --   gaia2    2.1007   2.04405  gaia2     2.47243   1.15712   gaia2 291.009902043765 -30.4205297458206  276.44881866798 -77.3425627249004    nan    nan 21.0009 0.1587  nan    nan  nan    nan  nan    nan  nan    nan  nan    nan    nan    nan    nan    nan    nan    nan                  --  nan    nan     nan    nan     nan    nan     nan   nan     nan 20.7513  0.013901     0.1444    gbprp  gaia2    nan     nan     nan       nan nan  nan      nan       nan      nan       nan       nan        nan       --          nan          nan 602.128 602.128 0.0965854   0.0139086852      --           nan          --           --           nan   0.0197867   0.00803067 schlegel       nan       nan       nan       nan       nan        nan       nan       nan       nan       nan    290.78   1078.85   bj2018       nan       nan       -- 20.7661 0.373269 19.6283 0.055095         0            --    gaia2       --            --  42.2343432787844  31.7037780367072 82.5555458503191 -79.0504756697849   1.18589362987549   1.15382412012092        1      1  239.4585467724949\n",
            "724152023 82.4796791272173 -79.0019691449844   13.8287    -11.04  19.857    STAR   gaia2 20190415    --           --         --               --   --                  -- 4623428841267579392       --  --   gaia2   1.49629   1.22535  gaia2     1.62804  0.607231   gaia2 290.959595187833 -30.4466752612388   276.5653050886 -77.3863316847343    nan    nan 20.7481 0.0894  nan    nan  nan    nan  nan    nan  nan    nan  nan    nan    nan    nan    nan    nan    nan    nan                  --  nan    nan     nan    nan     nan    nan     nan   nan     nan 20.4695  0.007909     0.0359    gbprp  gaia2    nan     nan     nan       nan nan  nan      nan       nan      nan       nan       nan        nan       --          nan          nan 700.161 480.026   0.10171    0.007923205      --           nan          --           --           nan   0.0106558   0.00519061 schlegel       nan       nan       nan       nan       nan        nan       nan       nan       nan       nan   254.523   705.529   bj2018       nan       nan       -- 20.7863 0.159913 19.5783 0.081681         0            --    gaia2       --            --  30.0657713691151  19.0021567841542 82.4799912234347 -79.0020166784773  0.669686978753535  0.592251968296994        1      1 239.96866929021036\n"
          ]
        }
      ]
    },
    {
      "cell_type": "code",
      "source": [
        "from astroquery.mast import Tesscut\n",
        "\n",
        "# define the coordinates of the target\n",
        "coord = SkyCoord(\"101.2950 -16.6994\", unit = \"deg\")\n",
        "\n",
        "# get the sectors that intersect with the search area\n",
        "sectors = Tesscut.get_sectors(coordinates=coord, radius=1*u.deg)\n",
        "\n",
        "print(sectors)\n"
      ],
      "metadata": {
        "colab": {
          "base_uri": "https://localhost:8080/"
        },
        "id": "5KH_WrYdV-s5",
        "outputId": "8e8e0dcd-228f-440d-de2f-d95f72d87cfb"
      },
      "execution_count": 23,
      "outputs": [
        {
          "output_type": "stream",
          "name": "stdout",
          "text": [
            "  sectorName   sector camera ccd\n",
            "-------------- ------ ------ ---\n",
            "tess-s0006-2-3      6      2   3\n",
            "tess-s0007-2-4      7      2   4\n",
            "tess-s0033-2-3     33      2   3\n"
          ]
        }
      ]
    },
    {
      "cell_type": "code",
      "source": [
        "#this will let us know if the target was observed\n",
        "if len(sectors) == 0:\n",
        "    print(\"Object not observed or not found in the database.\")\n",
        "else:\n",
        "    print(\"Object was observed.\")\n",
        "#this will let us know what camera\n",
        "if 'camera' in sectors.keys():\n",
        "    camera = sectors['camera']\n",
        "    print(\"Object was observed with camera: \", camera)\n",
        "else:\n",
        "    print(\"Camera information not available in this catalog.\")"
      ],
      "metadata": {
        "colab": {
          "base_uri": "https://localhost:8080/"
        },
        "id": "rKz3u_qPRYZM",
        "outputId": "3d6863d7-bec1-4a1f-f8bb-c422418142ed"
      },
      "execution_count": 24,
      "outputs": [
        {
          "output_type": "stream",
          "name": "stdout",
          "text": [
            "Object was observed.\n",
            "Object was observed with camera:  camera\n",
            "------\n",
            "     2\n",
            "     2\n",
            "     2\n"
          ]
        }
      ]
    },
    {
      "cell_type": "markdown",
      "source": [
        "You can use the lightcurvefile function from the Tesscut module to retrieve the URLs of the light curve files for a given target and sector. Once you have the URLs, you can use the lightcurve function to download the light curve data, which will include the observation times and flux values. To get the observation date and cycle you can use the astropy.time package to convert the observation times to a datetime format."
      ],
      "metadata": {
        "id": "FV3BpDN1kEec"
      }
    },
    {
      "cell_type": "code",
      "source": [
        "from astroquery.mast import Tesscut\n",
        "from astropy.time import Time\n",
        "coord = SkyCoord(\"101.2950 -16.6994\", unit = \"deg\")\n",
        "#coord = SkyCoord(ra, dec, unit = \"deg\")\n",
        "sectors = Tesscut.get_sectors(coordinates=coord, radius=1*u.deg)\n",
        "\n",
        "# Get the URLs of the light curve files\n",
        "urls = Tesscut.download_cutouts(coordinates=coord, sector=sectors['sector'], filetype='TESS')\n",
        "\n",
        "# Download the light curve data\n",
        "lc_data = Tesscut.download_files(urls)\n",
        "\n",
        "# Convert the observation times to datetime format\n",
        "times = Time(lc_data['TIME'], format='bkjd', scale='tdb')\n",
        "dates = times.datetime\n",
        "\n",
        "# Extract the observation cycle and date\n",
        "obs_cycle = lc_data['LC_INITIALS']\n",
        "obs_date = dates"
      ],
      "metadata": {
        "colab": {
          "base_uri": "https://localhost:8080/",
          "height": 235
        },
        "id": "1_d8UsfJjdJe",
        "outputId": "1f3d288f-b3a1-4438-fd44-6ece03ac2edf"
      },
      "execution_count": 25,
      "outputs": [
        {
          "output_type": "error",
          "ename": "TypeError",
          "evalue": "ignored",
          "traceback": [
            "\u001b[0;31m---------------------------------------------------------------------------\u001b[0m",
            "\u001b[0;31mTypeError\u001b[0m                                 Traceback (most recent call last)",
            "\u001b[0;32m<ipython-input-25-ff0adc95a45e>\u001b[0m in \u001b[0;36m<module>\u001b[0;34m\u001b[0m\n\u001b[1;32m      6\u001b[0m \u001b[0;34m\u001b[0m\u001b[0m\n\u001b[1;32m      7\u001b[0m \u001b[0;31m# Get the URLs of the light curve files\u001b[0m\u001b[0;34m\u001b[0m\u001b[0;34m\u001b[0m\u001b[0;34m\u001b[0m\u001b[0m\n\u001b[0;32m----> 8\u001b[0;31m \u001b[0murls\u001b[0m \u001b[0;34m=\u001b[0m \u001b[0mTesscut\u001b[0m\u001b[0;34m.\u001b[0m\u001b[0mdownload_cutouts\u001b[0m\u001b[0;34m(\u001b[0m\u001b[0mcoordinates\u001b[0m\u001b[0;34m=\u001b[0m\u001b[0mcoord\u001b[0m\u001b[0;34m,\u001b[0m \u001b[0msector\u001b[0m\u001b[0;34m=\u001b[0m\u001b[0msectors\u001b[0m\u001b[0;34m[\u001b[0m\u001b[0;34m'sector'\u001b[0m\u001b[0;34m]\u001b[0m\u001b[0;34m,\u001b[0m \u001b[0mfiletype\u001b[0m\u001b[0;34m=\u001b[0m\u001b[0;34m'TESS'\u001b[0m\u001b[0;34m)\u001b[0m\u001b[0;34m\u001b[0m\u001b[0;34m\u001b[0m\u001b[0m\n\u001b[0m\u001b[1;32m      9\u001b[0m \u001b[0;34m\u001b[0m\u001b[0m\n\u001b[1;32m     10\u001b[0m \u001b[0;31m# Download the light curve data\u001b[0m\u001b[0;34m\u001b[0m\u001b[0;34m\u001b[0m\u001b[0;34m\u001b[0m\u001b[0m\n",
            "\u001b[0;31mTypeError\u001b[0m: download_cutouts() got an unexpected keyword argument 'filetype'"
          ]
        }
      ]
    },
    {
      "cell_type": "markdown",
      "source": [
        "to do for tomorow look in the documentation and find what were you doing wrog the answer is in the parameters..\n",
        "\n",
        "\n",
        "\n",
        "1 modify the above snipet to get the correct date and cycle\n",
        "2 Ask (find out) how to implement the input process with flask\n",
        "3 push to github and remember to insert the queries picture\n",
        "4 test the implementation in flask to get the correct info back "
      ],
      "metadata": {
        "id": "xF__1gsRhNBJ"
      }
    },
    {
      "cell_type": "code",
      "source": [
        "help(Tesscut.download_cutouts)\n"
      ],
      "metadata": {
        "colab": {
          "base_uri": "https://localhost:8080/"
        },
        "id": "TZcRbVzqq0FZ",
        "outputId": "8a7727ec-74c7-4cb9-e714-670a55ff884a"
      },
      "execution_count": 26,
      "outputs": [
        {
          "output_type": "stream",
          "name": "stdout",
          "text": [
            "Help on method download_cutouts in module astroquery.mast.cutouts:\n",
            "\n",
            "download_cutouts(*, coordinates=None, size=5, sector=None, path='.', inflate=True, objectname=None, moving_target=False, mt_type=None) method of astroquery.mast.cutouts.TesscutClass instance\n",
            "    Download cutout target pixel file(s) around the given coordinates with indicated size.\n",
            "    \n",
            "    Parameters\n",
            "    ----------\n",
            "    coordinates : str or `astropy.coordinates` object, optional\n",
            "        The target around which to search. It may be specified as a\n",
            "        string or as the appropriate `astropy.coordinates` object.\n",
            "    \n",
            "        NOTE: If moving_target or objectname is supplied, this argument cannot be used.\n",
            "    size : int, array-like, `~astropy.units.Quantity`\n",
            "        Optional, default 5 pixels.\n",
            "        The size of the cutout array. If ``size`` is a scalar number or\n",
            "        a scalar `~astropy.units.Quantity`, then a square cutout of ``size``\n",
            "        will be created.  If ``size`` has two elements, they should be in\n",
            "        ``(ny, nx)`` order.  Scalar numbers in ``size`` are assumed to be in\n",
            "        units of pixels. `~astropy.units.Quantity` objects must be in pixel or\n",
            "        angular units.\n",
            "    sector : int\n",
            "        Optional.\n",
            "        The TESS sector to return the cutout from.  If not supplied, cutouts\n",
            "        from all available sectors on which the coordinate appears will be returned.\n",
            "    path : str\n",
            "        Optional.\n",
            "        The directory in which the cutouts will be saved.\n",
            "        Defaults to current directory.\n",
            "    inflate : bool\n",
            "        Optional, default True.\n",
            "        Cutout target pixel files are returned from the server in a zip file,\n",
            "        by default they will be inflated and the zip will be removed.\n",
            "        Set inflate to false to stop before the inflate step.\n",
            "    objectname : str, optional\n",
            "        The target around which to search, by name (objectname=\"M104\")\n",
            "        or TIC ID (objectname=\"TIC 141914082\"). If moving_target is True, input must be the name or ID (as understood by the\n",
            "        `JPL ephemerides service <https://ssd.jpl.nasa.gov/horizons.cgi>`__)\n",
            "        of a moving target such as an asteroid or comet.\n",
            "    \n",
            "        NOTE: If coordinates is supplied, this argument cannot be used.\n",
            "    moving_target : str, optional\n",
            "        Indicate whether the object is a moving target or not. Default is set to False, in other words, not a moving target.\n",
            "    \n",
            "        NOTE: If coordinates is supplied, this argument cannot be used.\n",
            "    mt_type : str, optional\n",
            "        The moving target type, valid inputs are majorbody and smallbody. If not supplied\n",
            "        first majorbody is tried and then smallbody if a matching majorbody is not found.\n",
            "    \n",
            "        NOTE: If moving_target is supplied, this argument is ignored.\n",
            "    \n",
            "    Returns\n",
            "    -------\n",
            "    response : `~astropy.table.Table`\n",
            "\n"
          ]
        }
      ]
    },
    {
      "cell_type": "code",
      "source": [
        "help(Mast)"
      ],
      "metadata": {
        "colab": {
          "base_uri": "https://localhost:8080/"
        },
        "id": "z7uso2PssMTV",
        "outputId": "b7cd6cc5-1a78-4445-b4b2-090214718127"
      },
      "execution_count": 30,
      "outputs": [
        {
          "output_type": "stream",
          "name": "stdout",
          "text": [
            "Help on MastClass in module astroquery.mast.observations object:\n",
            "\n",
            "class MastClass(astroquery.mast.core.MastQueryWithLogin)\n",
            " |  MastClass(mast_token=None)\n",
            " |  \n",
            " |  MAST query class.\n",
            " |  \n",
            " |  Class that allows direct programatic access to the MAST Portal,\n",
            " |  more flexible but less user friendly than `ObservationsClass`.\n",
            " |  \n",
            " |  Method resolution order:\n",
            " |      MastClass\n",
            " |      astroquery.mast.core.MastQueryWithLogin\n",
            " |      astroquery.query.QueryWithLogin\n",
            " |      astroquery.query.BaseQuery\n",
            " |      builtins.object\n",
            " |  \n",
            " |  Methods defined here:\n",
            " |  \n",
            " |  service_request(self, *args, **kwargs)\n",
            " |      Queries the service and returns a table object.\n",
            " |      \n",
            " |      Given a Mashup service and parameters, builds and excecutes a Mashup query.\n",
            " |      See documentation `here <https://mast.stsci.edu/api/v0/class_mashup_1_1_mashup_request.html>`__\n",
            " |      for information about how to build a Mashup request.\n",
            " |      \n",
            " |      Parameters\n",
            " |      ----------\n",
            " |      service : str\n",
            " |          The Mashup service to query.\n",
            " |      params : dict\n",
            " |          JSON object containing service parameters.\n",
            " |      pagesize : int, optional\n",
            " |          Default None.\n",
            " |          Can be used to override the default pagesize (set in configs) for this query only.\n",
            " |          E.g. when using a slow internet connection.\n",
            " |      page : int, optional\n",
            " |          Default None.\n",
            " |          Can be used to override the default behavior of all results being returned to obtain\n",
            " |          a specific page of results.\n",
            " |      **kwargs :\n",
            " |          See MashupRequest properties\n",
            " |          `here <https://mast.stsci.edu/api/v0/class_mashup_1_1_mashup_request.html>`__\n",
            " |          for additional keyword arguments.\n",
            " |      \n",
            " |      Returns\n",
            " |      -------\n",
            " |      table : A `~astropy.table.Table` object.\n",
            " |  \n",
            " |  service_request_async(self, service, params, *, pagesize=None, page=None, **kwargs)\n",
            " |      Given a Mashup service and parameters, builds and excecutes a Mashup query.\n",
            " |      See documentation `here <https://mast.stsci.edu/api/v0/class_mashup_1_1_mashup_request.html>`__\n",
            " |      for information about how to build a Mashup request.\n",
            " |      \n",
            " |      Parameters\n",
            " |      ----------\n",
            " |      service : str\n",
            " |          The Mashup service to query.\n",
            " |      params : dict\n",
            " |          JSON object containing service parameters.\n",
            " |      pagesize : int, optional\n",
            " |          Default None.\n",
            " |          Can be used to override the default pagesize (set in configs) for this query only.\n",
            " |          E.g. when using a slow internet connection.\n",
            " |      page : int, optional\n",
            " |          Default None.\n",
            " |          Can be used to override the default behavior of all results being returned to obtain\n",
            " |          a specific page of results.\n",
            " |      **kwargs :\n",
            " |          See MashupRequest properties\n",
            " |          `here <https://mast.stsci.edu/api/v0/class_mashup_1_1_mashup_request.html>`__\n",
            " |          for additional keyword arguments.\n",
            " |      \n",
            " |      Returns\n",
            " |      -------\n",
            " |      response : list of `~requests.Response`\n",
            " |  \n",
            " |  ----------------------------------------------------------------------\n",
            " |  Data and other attributes defined here:\n",
            " |  \n",
            " |  __abstractmethods__ = frozenset()\n",
            " |  \n",
            " |  ----------------------------------------------------------------------\n",
            " |  Methods inherited from astroquery.mast.core.MastQueryWithLogin:\n",
            " |  \n",
            " |  __init__(self, mast_token=None)\n",
            " |      Initialize self.  See help(type(self)) for accurate signature.\n",
            " |  \n",
            " |  disable_cloud_dataset(self)\n",
            " |      Disables downloading public files from S3 instead of MAST\n",
            " |  \n",
            " |  enable_cloud_dataset(self, provider='AWS', profile=None, verbose=True)\n",
            " |      Enable downloading public files from S3 instead of MAST.\n",
            " |      Requires the boto3 library to function.\n",
            " |      \n",
            " |      Parameters\n",
            " |      ----------\n",
            " |      provider : str\n",
            " |          Which cloud data provider to use.  We may in the future support multiple providers,\n",
            " |          though at the moment this argument is ignored.\n",
            " |      profile : str\n",
            " |          Profile to use to identify yourself to the cloud provider (usually in ~/.aws/config).\n",
            " |      verbose : bool\n",
            " |          Default True.\n",
            " |          Logger to display extra info and warning.\n",
            " |  \n",
            " |  login(self, token=None, store_token=False, reenter_token=False)\n",
            " |      Log into the MAST portal.\n",
            " |      \n",
            " |      Parameters\n",
            " |      ----------\n",
            " |      token : string, optional\n",
            " |          Default is None.\n",
            " |          The token to authenticate the user.\n",
            " |          This can be generated at\n",
            " |          https://auth.mast.stsci.edu/token?suggested_name=Astroquery&suggested_scope=mast:exclusive_access.\n",
            " |          If not supplied, it will be prompted for if not in the keyring or set via $MAST_API_TOKEN\n",
            " |      store_token : bool, optional\n",
            " |          Default False.\n",
            " |          If true, MAST token will be stored securely in your keyring.\n",
            " |      reenter_token :  bool, optional\n",
            " |          Default False.\n",
            " |          Asks for the token even if it is already stored in the keyring or $MAST_API_TOKEN environment variable.\n",
            " |          This is the way to overwrite an already stored password on the keyring.\n",
            " |  \n",
            " |  logout(self)\n",
            " |      Log out of current MAST session.\n",
            " |  \n",
            " |  resolve_object(self, objectname)\n",
            " |      Resolves an object name to a position on the sky.\n",
            " |      \n",
            " |      Parameters\n",
            " |      ----------\n",
            " |      objectname : str\n",
            " |          Name of astronomical object to resolve.\n",
            " |      \n",
            " |      Returns\n",
            " |      -------\n",
            " |      response : `~astropy.coordinates.SkyCoord`\n",
            " |          The sky position of the given object.\n",
            " |  \n",
            " |  session_info(self, verbose=True)\n",
            " |      Displays information about current MAST user, and returns user info dictionary.\n",
            " |      \n",
            " |      Parameters\n",
            " |      ----------\n",
            " |      verbose : bool, optional\n",
            " |          Default True. Set to False to suppress output to stdout.\n",
            " |      \n",
            " |      Returns\n",
            " |      -------\n",
            " |      response : dict\n",
            " |  \n",
            " |  ----------------------------------------------------------------------\n",
            " |  Methods inherited from astroquery.query.QueryWithLogin:\n",
            " |  \n",
            " |  authenticated(self)\n",
            " |  \n",
            " |  ----------------------------------------------------------------------\n",
            " |  Methods inherited from astroquery.query.BaseQuery:\n",
            " |  \n",
            " |  __call__(self, *args, **kwargs)\n",
            " |      init a fresh copy of self\n",
            " |  \n",
            " |  ----------------------------------------------------------------------\n",
            " |  Data descriptors inherited from astroquery.query.BaseQuery:\n",
            " |  \n",
            " |  __dict__\n",
            " |      dictionary for instance variables (if defined)\n",
            " |  \n",
            " |  __weakref__\n",
            " |      list of weak references to the object (if defined)\n",
            "\n"
          ]
        }
      ]
    },
    {
      "cell_type": "code",
      "source": [
        "from astroquery.mast import Mast\n",
        "\n",
        "coord = SkyCoord(\"101.2950 -16.6994\", unit=(u.deg, u.deg))\n",
        "\n",
        "observations = Mast.service_request(\n",
        "    service=\"Mast.Caom.Cone\",\n",
        "    params={\n",
        "        \"ra\": coord.ra.deg,\n",
        "        \"dec\": coord.dec.deg,\n",
        "        \"radius\": 0.2\n",
        "    }\n",
        ")\n",
        "\n",
        "print(observations)\n"
      ],
      "metadata": {
        "colab": {
          "base_uri": "https://localhost:8080/"
        },
        "id": "bBTlZJWJrocp",
        "outputId": "77738263-b9b8-4a53-8c50-859ce25636a1"
      },
      "execution_count": 29,
      "outputs": [
        {
          "output_type": "stream",
          "name": "stdout",
          "text": [
            "intentType obs_collection provenance_name ...  obsid        distance     \n",
            "---------- -------------- --------------- ... -------- ------------------\n",
            "   science           TESS            SPOC ... 62280344                0.0\n",
            "   science           TESS            SPOC ... 62327385                0.0\n",
            "   science           TESS            SPOC ... 28287316                0.0\n",
            "   science           TESS            SPOC ... 62260792   60.0314126074166\n",
            "   science           TESS            SPOC ... 62335423   60.0314126074166\n",
            "   science           TESS            SPOC ... 28231386   60.0314126074166\n",
            "   science           TESS            SPOC ... 28215357  384.7219635056634\n",
            "   science           TESS            SPOC ... 28218068  450.1304803432366\n",
            "   science           TESS            SPOC ... 28219018  579.0555836737651\n",
            "   science           TESS            SPOC ... 28221891  579.0555836737651\n",
            "       ...            ...             ... ...      ...                ...\n",
            "   science            HLA             HLA ... 25798950  294.4938134396765\n",
            "   science            HLA             HLA ... 25798951  294.4938134396765\n",
            "   science            HLA             HLA ... 25799502  538.3199001991673\n",
            "   science            HLA             HLA ... 25799503  538.3199001991673\n",
            "   science           FUSE              -- ...   342989   58.8218250084185\n",
            "   science           FUSE              -- ...   342990   58.8218250084185\n",
            "   science           FUSE              -- ...   342991   58.8218250084185\n",
            "   science           FUSE              -- ...   342992   58.8218250084185\n",
            "   science           EUVE            EUVE ...   388774                0.0\n",
            "   science           EUVE            EUVE ...   388775 25.315326432508126\n",
            "   science           EUVE            EUVE ...   388776 25.315326432508126\n",
            "Length = 1233 rows\n"
          ]
        }
      ]
    },
    {
      "cell_type": "code",
      "source": [
        "print(observations.keys())"
      ],
      "metadata": {
        "colab": {
          "base_uri": "https://localhost:8080/"
        },
        "id": "umczQnrbwoXX",
        "outputId": "c2797f0a-e404-478f-ef2b-65cad9c1b31b"
      },
      "execution_count": 31,
      "outputs": [
        {
          "output_type": "stream",
          "name": "stdout",
          "text": [
            "['intentType', 'obs_collection', 'provenance_name', 'instrument_name', 'project', 'filters', 'wavelength_region', 'target_name', 'target_classification', 'obs_id', 's_ra', 's_dec', 'dataproduct_type', 'proposal_pi', 'calib_level', 't_min', 't_max', 't_exptime', 'em_min', 'em_max', 'obs_title', 't_obs_release', 'proposal_id', 'proposal_type', 'sequence_number', 's_region', 'jpegURL', 'dataURL', 'dataRights', 'mtFlag', 'srcDen', 'obsid', 'distance']\n"
          ]
        }
      ]
    },
    {
      "cell_type": "code",
      "source": [
        "\n",
        "obs_table[['t_min', 'sequence_number','t_obs_release']]\n",
        "\n"
      ],
      "metadata": {
        "colab": {
          "base_uri": "https://localhost:8080/",
          "height": 518
        },
        "id": "MbncixMrxq2k",
        "outputId": "97b84176-259e-4ccc-9a10-0151b3cad9ec"
      },
      "execution_count": 32,
      "outputs": [
        {
          "output_type": "execute_result",
          "data": {
            "text/plain": [
              "<Table length=1233>\n",
              "      t_min       sequence_number t_obs_release \n",
              "     float64           int64         float64    \n",
              "----------------- --------------- --------------\n",
              "58467.77504011574               6  58541.8333333\n",
              "58491.12937336806               7        58553.5\n",
              "   59201.23294586              33        59253.0\n",
              "58467.77332431713               6  58541.8333333\n",
              "58491.12912989583               7        58553.5\n",
              "   59201.23001461              33        59253.0\n",
              "   59201.23556425              33        59253.0\n",
              "   59201.23557024              33        59253.0\n",
              "   59201.23556079              33        59253.0\n",
              "   59201.23556079              33        59253.0\n",
              "              ...             ...            ...\n",
              "      52927.44122              -- 52928.03291657\n",
              "      53041.58802              --  53041.9137731\n",
              "      53041.58802              --  53041.9137731\n",
              "   52238.93241898              --            nan\n",
              "   52238.79366898              --            nan\n",
              "         52230.67              --            nan\n",
              "   52238.65518519              --            nan\n",
              "   49313.07434667              --            nan\n",
              "   49313.07434667              --            nan\n",
              "   50414.02710519              --            nan"
            ],
            "text/html": [
              "<div><i>Table length=1233</i>\n",
              "<table id=\"table140317139880544\" class=\"table-striped table-bordered table-condensed\">\n",
              "<thead><tr><th>t_min</th><th>sequence_number</th><th>t_obs_release</th></tr></thead>\n",
              "<thead><tr><th>float64</th><th>int64</th><th>float64</th></tr></thead>\n",
              "<tr><td>58467.77504011574</td><td>6</td><td>58541.8333333</td></tr>\n",
              "<tr><td>58491.12937336806</td><td>7</td><td>58553.5</td></tr>\n",
              "<tr><td>59201.23294586</td><td>33</td><td>59253.0</td></tr>\n",
              "<tr><td>58467.77332431713</td><td>6</td><td>58541.8333333</td></tr>\n",
              "<tr><td>58491.12912989583</td><td>7</td><td>58553.5</td></tr>\n",
              "<tr><td>59201.23001461</td><td>33</td><td>59253.0</td></tr>\n",
              "<tr><td>59201.23556425</td><td>33</td><td>59253.0</td></tr>\n",
              "<tr><td>59201.23557024</td><td>33</td><td>59253.0</td></tr>\n",
              "<tr><td>59201.23556079</td><td>33</td><td>59253.0</td></tr>\n",
              "<tr><td>59201.23556079</td><td>33</td><td>59253.0</td></tr>\n",
              "<tr><td>...</td><td>...</td><td>...</td></tr>\n",
              "<tr><td>52927.44122</td><td>--</td><td>52928.03291657</td></tr>\n",
              "<tr><td>53041.58802</td><td>--</td><td>53041.9137731</td></tr>\n",
              "<tr><td>53041.58802</td><td>--</td><td>53041.9137731</td></tr>\n",
              "<tr><td>52238.93241898</td><td>--</td><td>nan</td></tr>\n",
              "<tr><td>52238.79366898</td><td>--</td><td>nan</td></tr>\n",
              "<tr><td>52230.67</td><td>--</td><td>nan</td></tr>\n",
              "<tr><td>52238.65518519</td><td>--</td><td>nan</td></tr>\n",
              "<tr><td>49313.07434667</td><td>--</td><td>nan</td></tr>\n",
              "<tr><td>49313.07434667</td><td>--</td><td>nan</td></tr>\n",
              "<tr><td>50414.02710519</td><td>--</td><td>nan</td></tr>\n",
              "</table></div>"
            ]
          },
          "metadata": {},
          "execution_count": 32
        }
      ]
    },
    {
      "cell_type": "code",
      "source": [
        "pip install astroplan"
      ],
      "metadata": {
        "colab": {
          "base_uri": "https://localhost:8080/"
        },
        "id": "irh9VDOpzsyB",
        "outputId": "9a9243e6-7915-4cf5-d5e5-f1f0f9e90cd1"
      },
      "execution_count": 33,
      "outputs": [
        {
          "output_type": "stream",
          "name": "stdout",
          "text": [
            "Looking in indexes: https://pypi.org/simple, https://us-python.pkg.dev/colab-wheels/public/simple/\n",
            "Requirement already satisfied: astroplan in /usr/local/lib/python3.8/dist-packages (0.8)\n",
            "Requirement already satisfied: six in /usr/local/lib/python3.8/dist-packages (from astroplan) (1.15.0)\n",
            "Requirement already satisfied: astropy>=4 in /usr/local/lib/python3.8/dist-packages (from astroplan) (4.3.1)\n",
            "Requirement already satisfied: pytz in /usr/local/lib/python3.8/dist-packages (from astroplan) (2022.7)\n",
            "Requirement already satisfied: numpy>=1.17 in /usr/local/lib/python3.8/dist-packages (from astroplan) (1.21.6)\n",
            "Requirement already satisfied: pyerfa>=1.7.3 in /usr/local/lib/python3.8/dist-packages (from astropy>=4->astroplan) (2.0.0.1)\n"
          ]
        }
      ]
    },
    {
      "cell_type": "code",
      "source": [
        "pip install astropy\n"
      ],
      "metadata": {
        "colab": {
          "base_uri": "https://localhost:8080/"
        },
        "id": "DfcXwPwp1LYi",
        "outputId": "344bdc77-8a9a-4148-f978-5b0fe2b6b816"
      },
      "execution_count": 34,
      "outputs": [
        {
          "output_type": "stream",
          "name": "stdout",
          "text": [
            "Looking in indexes: https://pypi.org/simple, https://us-python.pkg.dev/colab-wheels/public/simple/\n",
            "Requirement already satisfied: astropy in /usr/local/lib/python3.8/dist-packages (4.3.1)\n",
            "Requirement already satisfied: pyerfa>=1.7.3 in /usr/local/lib/python3.8/dist-packages (from astropy) (2.0.0.1)\n",
            "Requirement already satisfied: numpy>=1.17 in /usr/local/lib/python3.8/dist-packages (from astropy) (1.21.6)\n"
          ]
        }
      ]
    },
    {
      "cell_type": "code",
      "source": [],
      "metadata": {
        "id": "SVCc597WzocD"
      },
      "execution_count": 34,
      "outputs": []
    },
    {
      "cell_type": "code",
      "source": [
        "import astropy\n",
        "print(dir(astropy))"
      ],
      "metadata": {
        "colab": {
          "base_uri": "https://localhost:8080/"
        },
        "id": "XwtrKjEk18rA",
        "outputId": "e0ffe6f2-96dc-4c56-a436-532ba6a48c31"
      },
      "execution_count": 35,
      "outputs": [
        {
          "output_type": "stream",
          "name": "stdout",
          "text": [
            "['__bibtex__', '__builtins__', '__cached__', '__citation__', '__dir_inc__', '__doc__', '__file__', '__loader__', '__name__', '__package__', '__path__', '__spec__', '__version__', '_yourfuture', 'astronomical_constants', 'conf', 'config', 'constants', 'coordinates', 'extern', 'find_api_page', 'io', 'log', 'logger', 'online_docs_root', 'online_help', 'physical_constants', 'table', 'test', 'tests', 'time', 'units', 'utils', 'version', 'wcs']\n"
          ]
        }
      ]
    },
    {
      "cell_type": "markdown",
      "source": [],
      "metadata": {
        "id": "GpuhLmO83H0J"
      }
    },
    {
      "cell_type": "code",
      "source": [
        "from astroplan import Time\n",
        "\n",
        "# Create Time object from 't_min' BJDJ column\n",
        "bjd_times = Time(observations['t_min'], format='bjd')\n",
        "\n",
        "# Convert BJDJ to JD\n",
        "jd_times = bjd_times.jd\n",
        "\n",
        "# Replace 't_min' column with JD values\n",
        "observations['t_min'] = jd_times"
      ],
      "metadata": {
        "colab": {
          "base_uri": "https://localhost:8080/",
          "height": 373
        },
        "id": "xEg3ToDg2wmY",
        "outputId": "58d5c26f-20a8-4888-a3b8-eacb8cdc013d"
      },
      "execution_count": 37,
      "outputs": [
        {
          "output_type": "error",
          "ename": "ImportError",
          "evalue": "ignored",
          "traceback": [
            "\u001b[0;31m---------------------------------------------------------------------------\u001b[0m",
            "\u001b[0;31mImportError\u001b[0m                               Traceback (most recent call last)",
            "\u001b[0;32m<ipython-input-37-354712568785>\u001b[0m in \u001b[0;36m<module>\u001b[0;34m\u001b[0m\n\u001b[0;32m----> 1\u001b[0;31m \u001b[0;32mfrom\u001b[0m \u001b[0mastroplan\u001b[0m \u001b[0;32mimport\u001b[0m \u001b[0mTime\u001b[0m\u001b[0;34m\u001b[0m\u001b[0;34m\u001b[0m\u001b[0m\n\u001b[0m\u001b[1;32m      2\u001b[0m \u001b[0;34m\u001b[0m\u001b[0m\n\u001b[1;32m      3\u001b[0m \u001b[0;31m# Create Time object from 't_min' BJDJ column\u001b[0m\u001b[0;34m\u001b[0m\u001b[0;34m\u001b[0m\u001b[0;34m\u001b[0m\u001b[0m\n\u001b[1;32m      4\u001b[0m \u001b[0mbjd_times\u001b[0m \u001b[0;34m=\u001b[0m \u001b[0mTime\u001b[0m\u001b[0;34m(\u001b[0m\u001b[0mobservations\u001b[0m\u001b[0;34m[\u001b[0m\u001b[0;34m't_min'\u001b[0m\u001b[0;34m]\u001b[0m\u001b[0;34m,\u001b[0m \u001b[0mformat\u001b[0m\u001b[0;34m=\u001b[0m\u001b[0;34m'bjd'\u001b[0m\u001b[0;34m)\u001b[0m\u001b[0;34m\u001b[0m\u001b[0;34m\u001b[0m\u001b[0m\n\u001b[1;32m      5\u001b[0m \u001b[0;34m\u001b[0m\u001b[0m\n",
            "\u001b[0;31mImportError\u001b[0m: cannot import name 'Time' from 'astroplan' (/usr/local/lib/python3.8/dist-packages/astroplan/__init__.py)",
            "",
            "\u001b[0;31m---------------------------------------------------------------------------\u001b[0;32m\nNOTE: If your import is failing due to a missing package, you can\nmanually install dependencies using either !pip or !apt.\n\nTo view examples of installing some common dependencies, click the\n\"Open Examples\" button below.\n\u001b[0;31m---------------------------------------------------------------------------\u001b[0m\n"
          ],
          "errorDetails": {
            "actions": [
              {
                "action": "open_url",
                "actionText": "Open Examples",
                "url": "/notebooks/snippets/importing_libraries.ipynb"
              }
            ]
          }
        }
      ]
    }
  ]
}